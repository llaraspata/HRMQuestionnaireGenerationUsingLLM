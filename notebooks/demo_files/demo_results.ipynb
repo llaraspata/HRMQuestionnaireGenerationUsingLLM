{
 "cells": [
  {
   "cell_type": "code",
   "execution_count": 1,
   "metadata": {},
   "outputs": [],
   "source": [
    "import plotly.graph_objects as go\n",
    "import plotly.figure_factory as ff\n",
    "import pandas as pd"
   ]
  },
  {
   "cell_type": "code",
   "execution_count": 2,
   "metadata": {},
   "outputs": [],
   "source": [
    "import os\n",
    "import sys\n",
    "sys.path.append('\\\\'.join(os.getcwd().split('\\\\')[:-1])+'\\\\src')\n",
    "\n",
    "from src.visualization.PairResultVisualizer import PairResultVisualizer"
   ]
  },
  {
   "cell_type": "code",
   "execution_count": 3,
   "metadata": {},
   "outputs": [],
   "source": [
    "def count_words(sentence):\n",
    "  \"\"\"\n",
    "    Counts the number of words in a sentence.\n",
    "  \"\"\"\n",
    "  splitted = sentence.split(\" \")\n",
    "\n",
    "  return len(splitted)"
   ]
  },
  {
   "cell_type": "code",
   "execution_count": 4,
   "metadata": {},
   "outputs": [],
   "source": [
    "def plot_length_distribution_comparison(df_0s, df_1s, name):\n",
    "    \"\"\"\n",
    "        Plots the distribution of the length of the reviews for zero and one shot predictions.\n",
    "    \"\"\"\n",
    "    lens_0s = [count_words(sentence) for sentence in df_0s['NAME']]\n",
    "    lens_1s = [count_words(sentence) for sentence in df_1s['NAME']]\n",
    "\n",
    "    fig = go.Figure()\n",
    "\n",
    "    fig.add_trace(go.Histogram(x=lens_0s, name=\"Zero-Shot\", marker_color=\"#D0006F\"))\n",
    "    fig.add_trace(go.Histogram(x=lens_1s, name=\"One-Shot\", marker_color=\"#24135F\"))\n",
    "\n",
    "    fig.update_layout(\n",
    "        title=f\"{name} - Question length distribution\",\n",
    "        xaxis_title=\"Length\",\n",
    "        yaxis_title=\"Frequency\"\n",
    "    )\n",
    "\n",
    "    fig.show()"
   ]
  },
  {
   "cell_type": "code",
   "execution_count": 5,
   "metadata": {},
   "outputs": [],
   "source": [
    "import json\n",
    "config_path = os.path.join(os.path.abspath(os.path.join(os.getcwd(), os.pardir)), \"src\", \"visualization\", \"experiment_pairs.json\")\n",
    "with open(config_path, \"r\") as f:\n",
    "    experiment_confs = json.load(f)\n",
    "f.close()"
   ]
  },
  {
   "cell_type": "code",
   "execution_count": 6,
   "metadata": {},
   "outputs": [],
   "source": [
    "pairs = experiment_confs[\"pairs\"]"
   ]
  },
  {
   "cell_type": "code",
   "execution_count": 7,
   "metadata": {},
   "outputs": [],
   "source": [
    "gpt_35_0t_0fp = PairResultVisualizer(pairs[4])\n",
    "gpt_35_0t_0fp.load_data(project_root=os.path.abspath(os.path.join(os.getcwd(), os.pardir)))"
   ]
  },
  {
   "cell_type": "code",
   "execution_count": 8,
   "metadata": {},
   "outputs": [
    {
     "data": {
      "application/vnd.plotly.v1+json": {
       "config": {
        "plotlyServerURL": "https://plot.ly"
       },
       "data": [
        {
         "marker": {
          "color": "#D0006F"
         },
         "name": "Zero-Shot",
         "type": "histogram",
         "x": [
          16,
          14,
          9,
          13,
          15,
          14,
          14,
          14,
          12,
          10,
          8,
          8,
          11,
          13,
          11,
          9,
          14,
          11,
          7,
          14,
          10,
          5,
          10,
          9,
          8,
          9,
          15,
          12,
          7,
          12,
          5,
          8,
          12,
          9,
          6,
          9,
          15,
          10,
          14,
          9,
          11,
          12,
          8,
          10,
          9,
          11,
          10,
          10,
          10,
          11,
          13,
          13,
          14,
          10,
          5,
          6,
          12,
          6,
          13,
          12,
          10,
          13,
          6,
          8,
          9,
          14,
          16,
          11,
          11,
          12,
          11,
          10,
          11,
          8,
          11,
          9,
          10,
          15,
          12,
          16,
          9,
          8,
          8,
          8,
          11,
          16,
          6,
          11,
          11,
          10,
          8,
          13,
          11,
          9,
          9,
          14,
          8,
          19,
          14,
          10,
          14,
          19,
          17,
          11,
          9,
          11,
          7,
          7,
          10,
          17,
          11
         ]
        },
        {
         "marker": {
          "color": "#372082"
         },
         "name": "One-Shot",
         "type": "histogram",
         "x": [
          9,
          7,
          7,
          13,
          12,
          10,
          9,
          15,
          16,
          12,
          15,
          10,
          11,
          11,
          8,
          8,
          13,
          12,
          12,
          8,
          12,
          7,
          10,
          14,
          17,
          10,
          11,
          11,
          15,
          16,
          19,
          10,
          12,
          9,
          10,
          12,
          8,
          9,
          7,
          10,
          11,
          9,
          11,
          11,
          11,
          9,
          10,
          8,
          12,
          9,
          7,
          9,
          9,
          10,
          8,
          11,
          7,
          9,
          10,
          10,
          10,
          10,
          10,
          14,
          9,
          9,
          12,
          13,
          8,
          7,
          6,
          7,
          10,
          7,
          8,
          14,
          12,
          8,
          9,
          11,
          10,
          9,
          7,
          7,
          5,
          12,
          7,
          7,
          8,
          10,
          8,
          10,
          11,
          11,
          10,
          9,
          14,
          12,
          7,
          11,
          18,
          10,
          14,
          9,
          14,
          16,
          11,
          14,
          15,
          9,
          12,
          4,
          11,
          15,
          13,
          12,
          6,
          12,
          13,
          13,
          10,
          8,
          5,
          11,
          11,
          7,
          8,
          8,
          7,
          5
         ]
        }
       ],
       "layout": {
        "template": {
         "data": {
          "bar": [
           {
            "error_x": {
             "color": "#2a3f5f"
            },
            "error_y": {
             "color": "#2a3f5f"
            },
            "marker": {
             "line": {
              "color": "#E5ECF6",
              "width": 0.5
             },
             "pattern": {
              "fillmode": "overlay",
              "size": 10,
              "solidity": 0.2
             }
            },
            "type": "bar"
           }
          ],
          "barpolar": [
           {
            "marker": {
             "line": {
              "color": "#E5ECF6",
              "width": 0.5
             },
             "pattern": {
              "fillmode": "overlay",
              "size": 10,
              "solidity": 0.2
             }
            },
            "type": "barpolar"
           }
          ],
          "carpet": [
           {
            "aaxis": {
             "endlinecolor": "#2a3f5f",
             "gridcolor": "white",
             "linecolor": "white",
             "minorgridcolor": "white",
             "startlinecolor": "#2a3f5f"
            },
            "baxis": {
             "endlinecolor": "#2a3f5f",
             "gridcolor": "white",
             "linecolor": "white",
             "minorgridcolor": "white",
             "startlinecolor": "#2a3f5f"
            },
            "type": "carpet"
           }
          ],
          "choropleth": [
           {
            "colorbar": {
             "outlinewidth": 0,
             "ticks": ""
            },
            "type": "choropleth"
           }
          ],
          "contour": [
           {
            "colorbar": {
             "outlinewidth": 0,
             "ticks": ""
            },
            "colorscale": [
             [
              0,
              "#0d0887"
             ],
             [
              0.1111111111111111,
              "#46039f"
             ],
             [
              0.2222222222222222,
              "#7201a8"
             ],
             [
              0.3333333333333333,
              "#9c179e"
             ],
             [
              0.4444444444444444,
              "#bd3786"
             ],
             [
              0.5555555555555556,
              "#d8576b"
             ],
             [
              0.6666666666666666,
              "#ed7953"
             ],
             [
              0.7777777777777778,
              "#fb9f3a"
             ],
             [
              0.8888888888888888,
              "#fdca26"
             ],
             [
              1,
              "#f0f921"
             ]
            ],
            "type": "contour"
           }
          ],
          "contourcarpet": [
           {
            "colorbar": {
             "outlinewidth": 0,
             "ticks": ""
            },
            "type": "contourcarpet"
           }
          ],
          "heatmap": [
           {
            "colorbar": {
             "outlinewidth": 0,
             "ticks": ""
            },
            "colorscale": [
             [
              0,
              "#0d0887"
             ],
             [
              0.1111111111111111,
              "#46039f"
             ],
             [
              0.2222222222222222,
              "#7201a8"
             ],
             [
              0.3333333333333333,
              "#9c179e"
             ],
             [
              0.4444444444444444,
              "#bd3786"
             ],
             [
              0.5555555555555556,
              "#d8576b"
             ],
             [
              0.6666666666666666,
              "#ed7953"
             ],
             [
              0.7777777777777778,
              "#fb9f3a"
             ],
             [
              0.8888888888888888,
              "#fdca26"
             ],
             [
              1,
              "#f0f921"
             ]
            ],
            "type": "heatmap"
           }
          ],
          "heatmapgl": [
           {
            "colorbar": {
             "outlinewidth": 0,
             "ticks": ""
            },
            "colorscale": [
             [
              0,
              "#0d0887"
             ],
             [
              0.1111111111111111,
              "#46039f"
             ],
             [
              0.2222222222222222,
              "#7201a8"
             ],
             [
              0.3333333333333333,
              "#9c179e"
             ],
             [
              0.4444444444444444,
              "#bd3786"
             ],
             [
              0.5555555555555556,
              "#d8576b"
             ],
             [
              0.6666666666666666,
              "#ed7953"
             ],
             [
              0.7777777777777778,
              "#fb9f3a"
             ],
             [
              0.8888888888888888,
              "#fdca26"
             ],
             [
              1,
              "#f0f921"
             ]
            ],
            "type": "heatmapgl"
           }
          ],
          "histogram": [
           {
            "marker": {
             "pattern": {
              "fillmode": "overlay",
              "size": 10,
              "solidity": 0.2
             }
            },
            "type": "histogram"
           }
          ],
          "histogram2d": [
           {
            "colorbar": {
             "outlinewidth": 0,
             "ticks": ""
            },
            "colorscale": [
             [
              0,
              "#0d0887"
             ],
             [
              0.1111111111111111,
              "#46039f"
             ],
             [
              0.2222222222222222,
              "#7201a8"
             ],
             [
              0.3333333333333333,
              "#9c179e"
             ],
             [
              0.4444444444444444,
              "#bd3786"
             ],
             [
              0.5555555555555556,
              "#d8576b"
             ],
             [
              0.6666666666666666,
              "#ed7953"
             ],
             [
              0.7777777777777778,
              "#fb9f3a"
             ],
             [
              0.8888888888888888,
              "#fdca26"
             ],
             [
              1,
              "#f0f921"
             ]
            ],
            "type": "histogram2d"
           }
          ],
          "histogram2dcontour": [
           {
            "colorbar": {
             "outlinewidth": 0,
             "ticks": ""
            },
            "colorscale": [
             [
              0,
              "#0d0887"
             ],
             [
              0.1111111111111111,
              "#46039f"
             ],
             [
              0.2222222222222222,
              "#7201a8"
             ],
             [
              0.3333333333333333,
              "#9c179e"
             ],
             [
              0.4444444444444444,
              "#bd3786"
             ],
             [
              0.5555555555555556,
              "#d8576b"
             ],
             [
              0.6666666666666666,
              "#ed7953"
             ],
             [
              0.7777777777777778,
              "#fb9f3a"
             ],
             [
              0.8888888888888888,
              "#fdca26"
             ],
             [
              1,
              "#f0f921"
             ]
            ],
            "type": "histogram2dcontour"
           }
          ],
          "mesh3d": [
           {
            "colorbar": {
             "outlinewidth": 0,
             "ticks": ""
            },
            "type": "mesh3d"
           }
          ],
          "parcoords": [
           {
            "line": {
             "colorbar": {
              "outlinewidth": 0,
              "ticks": ""
             }
            },
            "type": "parcoords"
           }
          ],
          "pie": [
           {
            "automargin": true,
            "type": "pie"
           }
          ],
          "scatter": [
           {
            "fillpattern": {
             "fillmode": "overlay",
             "size": 10,
             "solidity": 0.2
            },
            "type": "scatter"
           }
          ],
          "scatter3d": [
           {
            "line": {
             "colorbar": {
              "outlinewidth": 0,
              "ticks": ""
             }
            },
            "marker": {
             "colorbar": {
              "outlinewidth": 0,
              "ticks": ""
             }
            },
            "type": "scatter3d"
           }
          ],
          "scattercarpet": [
           {
            "marker": {
             "colorbar": {
              "outlinewidth": 0,
              "ticks": ""
             }
            },
            "type": "scattercarpet"
           }
          ],
          "scattergeo": [
           {
            "marker": {
             "colorbar": {
              "outlinewidth": 0,
              "ticks": ""
             }
            },
            "type": "scattergeo"
           }
          ],
          "scattergl": [
           {
            "marker": {
             "colorbar": {
              "outlinewidth": 0,
              "ticks": ""
             }
            },
            "type": "scattergl"
           }
          ],
          "scattermapbox": [
           {
            "marker": {
             "colorbar": {
              "outlinewidth": 0,
              "ticks": ""
             }
            },
            "type": "scattermapbox"
           }
          ],
          "scatterpolar": [
           {
            "marker": {
             "colorbar": {
              "outlinewidth": 0,
              "ticks": ""
             }
            },
            "type": "scatterpolar"
           }
          ],
          "scatterpolargl": [
           {
            "marker": {
             "colorbar": {
              "outlinewidth": 0,
              "ticks": ""
             }
            },
            "type": "scatterpolargl"
           }
          ],
          "scatterternary": [
           {
            "marker": {
             "colorbar": {
              "outlinewidth": 0,
              "ticks": ""
             }
            },
            "type": "scatterternary"
           }
          ],
          "surface": [
           {
            "colorbar": {
             "outlinewidth": 0,
             "ticks": ""
            },
            "colorscale": [
             [
              0,
              "#0d0887"
             ],
             [
              0.1111111111111111,
              "#46039f"
             ],
             [
              0.2222222222222222,
              "#7201a8"
             ],
             [
              0.3333333333333333,
              "#9c179e"
             ],
             [
              0.4444444444444444,
              "#bd3786"
             ],
             [
              0.5555555555555556,
              "#d8576b"
             ],
             [
              0.6666666666666666,
              "#ed7953"
             ],
             [
              0.7777777777777778,
              "#fb9f3a"
             ],
             [
              0.8888888888888888,
              "#fdca26"
             ],
             [
              1,
              "#f0f921"
             ]
            ],
            "type": "surface"
           }
          ],
          "table": [
           {
            "cells": {
             "fill": {
              "color": "#EBF0F8"
             },
             "line": {
              "color": "white"
             }
            },
            "header": {
             "fill": {
              "color": "#C8D4E3"
             },
             "line": {
              "color": "white"
             }
            },
            "type": "table"
           }
          ]
         },
         "layout": {
          "annotationdefaults": {
           "arrowcolor": "#2a3f5f",
           "arrowhead": 0,
           "arrowwidth": 1
          },
          "autotypenumbers": "strict",
          "coloraxis": {
           "colorbar": {
            "outlinewidth": 0,
            "ticks": ""
           }
          },
          "colorscale": {
           "diverging": [
            [
             0,
             "#8e0152"
            ],
            [
             0.1,
             "#c51b7d"
            ],
            [
             0.2,
             "#de77ae"
            ],
            [
             0.3,
             "#f1b6da"
            ],
            [
             0.4,
             "#fde0ef"
            ],
            [
             0.5,
             "#f7f7f7"
            ],
            [
             0.6,
             "#e6f5d0"
            ],
            [
             0.7,
             "#b8e186"
            ],
            [
             0.8,
             "#7fbc41"
            ],
            [
             0.9,
             "#4d9221"
            ],
            [
             1,
             "#276419"
            ]
           ],
           "sequential": [
            [
             0,
             "#0d0887"
            ],
            [
             0.1111111111111111,
             "#46039f"
            ],
            [
             0.2222222222222222,
             "#7201a8"
            ],
            [
             0.3333333333333333,
             "#9c179e"
            ],
            [
             0.4444444444444444,
             "#bd3786"
            ],
            [
             0.5555555555555556,
             "#d8576b"
            ],
            [
             0.6666666666666666,
             "#ed7953"
            ],
            [
             0.7777777777777778,
             "#fb9f3a"
            ],
            [
             0.8888888888888888,
             "#fdca26"
            ],
            [
             1,
             "#f0f921"
            ]
           ],
           "sequentialminus": [
            [
             0,
             "#0d0887"
            ],
            [
             0.1111111111111111,
             "#46039f"
            ],
            [
             0.2222222222222222,
             "#7201a8"
            ],
            [
             0.3333333333333333,
             "#9c179e"
            ],
            [
             0.4444444444444444,
             "#bd3786"
            ],
            [
             0.5555555555555556,
             "#d8576b"
            ],
            [
             0.6666666666666666,
             "#ed7953"
            ],
            [
             0.7777777777777778,
             "#fb9f3a"
            ],
            [
             0.8888888888888888,
             "#fdca26"
            ],
            [
             1,
             "#f0f921"
            ]
           ]
          },
          "colorway": [
           "#636efa",
           "#EF553B",
           "#00cc96",
           "#ab63fa",
           "#FFA15A",
           "#19d3f3",
           "#FF6692",
           "#B6E880",
           "#FF97FF",
           "#FECB52"
          ],
          "font": {
           "color": "#2a3f5f"
          },
          "geo": {
           "bgcolor": "white",
           "lakecolor": "white",
           "landcolor": "#E5ECF6",
           "showlakes": true,
           "showland": true,
           "subunitcolor": "white"
          },
          "hoverlabel": {
           "align": "left"
          },
          "hovermode": "closest",
          "mapbox": {
           "style": "light"
          },
          "paper_bgcolor": "white",
          "plot_bgcolor": "#E5ECF6",
          "polar": {
           "angularaxis": {
            "gridcolor": "white",
            "linecolor": "white",
            "ticks": ""
           },
           "bgcolor": "#E5ECF6",
           "radialaxis": {
            "gridcolor": "white",
            "linecolor": "white",
            "ticks": ""
           }
          },
          "scene": {
           "xaxis": {
            "backgroundcolor": "#E5ECF6",
            "gridcolor": "white",
            "gridwidth": 2,
            "linecolor": "white",
            "showbackground": true,
            "ticks": "",
            "zerolinecolor": "white"
           },
           "yaxis": {
            "backgroundcolor": "#E5ECF6",
            "gridcolor": "white",
            "gridwidth": 2,
            "linecolor": "white",
            "showbackground": true,
            "ticks": "",
            "zerolinecolor": "white"
           },
           "zaxis": {
            "backgroundcolor": "#E5ECF6",
            "gridcolor": "white",
            "gridwidth": 2,
            "linecolor": "white",
            "showbackground": true,
            "ticks": "",
            "zerolinecolor": "white"
           }
          },
          "shapedefaults": {
           "line": {
            "color": "#2a3f5f"
           }
          },
          "ternary": {
           "aaxis": {
            "gridcolor": "white",
            "linecolor": "white",
            "ticks": ""
           },
           "baxis": {
            "gridcolor": "white",
            "linecolor": "white",
            "ticks": ""
           },
           "bgcolor": "#E5ECF6",
           "caxis": {
            "gridcolor": "white",
            "linecolor": "white",
            "ticks": ""
           }
          },
          "title": {
           "x": 0.05
          },
          "xaxis": {
           "automargin": true,
           "gridcolor": "white",
           "linecolor": "white",
           "ticks": "",
           "title": {
            "standoff": 15
           },
           "zerolinecolor": "white",
           "zerolinewidth": 2
          },
          "yaxis": {
           "automargin": true,
           "gridcolor": "white",
           "linecolor": "white",
           "ticks": "",
           "title": {
            "standoff": 15
           },
           "zerolinecolor": "white",
           "zerolinewidth": 2
          }
         }
        },
        "title": {
         "text": "GPT-4 (4000MT, 0T, 0FP) - Question length distribution"
        },
        "xaxis": {
         "title": {
          "text": "Length"
         }
        },
        "yaxis": {
         "title": {
          "text": "Frequency"
         }
        }
       }
      }
     },
     "metadata": {},
     "output_type": "display_data"
    }
   ],
   "source": [
    "plot_length_distribution_comparison(gpt_35_0t_0fp.zero_shot_questions, gpt_35_0t_0fp.one_shot_questions, pairs[0][\"id\"])"
   ]
  },
  {
   "cell_type": "code",
   "execution_count": 9,
   "metadata": {},
   "outputs": [
    {
     "data": {
      "application/vnd.plotly.v1+json": {
       "config": {
        "plotlyServerURL": "https://plot.ly"
       },
       "data": [
        {
         "marker": {
          "color": "#D0006F"
         },
         "name": "Zero-Shot",
         "type": "histogram",
         "x": [
          17,
          10,
          19,
          14,
          14,
          10,
          12,
          11,
          9,
          18,
          17,
          9,
          14,
          11,
          10,
          12,
          11,
          11,
          11,
          13,
          14,
          12,
          9,
          16,
          11,
          16,
          10,
          14,
          12,
          9,
          14,
          12,
          12,
          15,
          14,
          11,
          14,
          11,
          12,
          9,
          10,
          12,
          16,
          10,
          13,
          16,
          17,
          10,
          10,
          13,
          7,
          9,
          17,
          13,
          13,
          13,
          18,
          14,
          14,
          13,
          9,
          13,
          9,
          10,
          7,
          10,
          9,
          7,
          11,
          12,
          9,
          11,
          11,
          12,
          10,
          15,
          10,
          11,
          9,
          18,
          16,
          14,
          9,
          8,
          4,
          9,
          14,
          12,
          11,
          11,
          18,
          11,
          9,
          10,
          22,
          11,
          11,
          12,
          11,
          8,
          12,
          20,
          20,
          14,
          9,
          9,
          14,
          11
         ]
        },
        {
         "marker": {
          "color": "#372082"
         },
         "name": "One-Shot",
         "type": "histogram",
         "x": [
          17,
          10,
          9,
          16,
          15,
          15,
          15,
          18,
          13,
          11,
          13,
          9,
          13,
          11,
          14,
          13,
          16,
          15,
          16,
          14,
          19,
          10,
          10,
          16,
          11,
          12,
          13,
          15,
          9,
          10,
          14,
          9,
          15,
          11,
          14,
          11,
          11,
          11,
          7,
          10,
          9,
          9,
          14,
          8,
          9,
          9,
          11,
          16,
          19,
          12,
          9,
          13,
          11,
          9,
          13,
          9,
          12,
          17,
          6,
          10,
          9,
          11,
          12,
          6,
          10,
          10,
          12,
          7,
          11,
          14,
          12,
          8,
          7,
          7,
          5,
          10,
          9,
          11,
          8,
          8,
          10,
          7,
          7,
          15,
          12,
          13,
          9,
          8,
          14,
          7,
          11,
          12,
          13,
          11,
          13,
          8,
          10,
          8,
          14,
          10,
          11,
          12,
          11,
          11,
          11,
          9,
          14,
          8
         ]
        }
       ],
       "layout": {
        "template": {
         "data": {
          "bar": [
           {
            "error_x": {
             "color": "#2a3f5f"
            },
            "error_y": {
             "color": "#2a3f5f"
            },
            "marker": {
             "line": {
              "color": "#E5ECF6",
              "width": 0.5
             },
             "pattern": {
              "fillmode": "overlay",
              "size": 10,
              "solidity": 0.2
             }
            },
            "type": "bar"
           }
          ],
          "barpolar": [
           {
            "marker": {
             "line": {
              "color": "#E5ECF6",
              "width": 0.5
             },
             "pattern": {
              "fillmode": "overlay",
              "size": 10,
              "solidity": 0.2
             }
            },
            "type": "barpolar"
           }
          ],
          "carpet": [
           {
            "aaxis": {
             "endlinecolor": "#2a3f5f",
             "gridcolor": "white",
             "linecolor": "white",
             "minorgridcolor": "white",
             "startlinecolor": "#2a3f5f"
            },
            "baxis": {
             "endlinecolor": "#2a3f5f",
             "gridcolor": "white",
             "linecolor": "white",
             "minorgridcolor": "white",
             "startlinecolor": "#2a3f5f"
            },
            "type": "carpet"
           }
          ],
          "choropleth": [
           {
            "colorbar": {
             "outlinewidth": 0,
             "ticks": ""
            },
            "type": "choropleth"
           }
          ],
          "contour": [
           {
            "colorbar": {
             "outlinewidth": 0,
             "ticks": ""
            },
            "colorscale": [
             [
              0,
              "#0d0887"
             ],
             [
              0.1111111111111111,
              "#46039f"
             ],
             [
              0.2222222222222222,
              "#7201a8"
             ],
             [
              0.3333333333333333,
              "#9c179e"
             ],
             [
              0.4444444444444444,
              "#bd3786"
             ],
             [
              0.5555555555555556,
              "#d8576b"
             ],
             [
              0.6666666666666666,
              "#ed7953"
             ],
             [
              0.7777777777777778,
              "#fb9f3a"
             ],
             [
              0.8888888888888888,
              "#fdca26"
             ],
             [
              1,
              "#f0f921"
             ]
            ],
            "type": "contour"
           }
          ],
          "contourcarpet": [
           {
            "colorbar": {
             "outlinewidth": 0,
             "ticks": ""
            },
            "type": "contourcarpet"
           }
          ],
          "heatmap": [
           {
            "colorbar": {
             "outlinewidth": 0,
             "ticks": ""
            },
            "colorscale": [
             [
              0,
              "#0d0887"
             ],
             [
              0.1111111111111111,
              "#46039f"
             ],
             [
              0.2222222222222222,
              "#7201a8"
             ],
             [
              0.3333333333333333,
              "#9c179e"
             ],
             [
              0.4444444444444444,
              "#bd3786"
             ],
             [
              0.5555555555555556,
              "#d8576b"
             ],
             [
              0.6666666666666666,
              "#ed7953"
             ],
             [
              0.7777777777777778,
              "#fb9f3a"
             ],
             [
              0.8888888888888888,
              "#fdca26"
             ],
             [
              1,
              "#f0f921"
             ]
            ],
            "type": "heatmap"
           }
          ],
          "heatmapgl": [
           {
            "colorbar": {
             "outlinewidth": 0,
             "ticks": ""
            },
            "colorscale": [
             [
              0,
              "#0d0887"
             ],
             [
              0.1111111111111111,
              "#46039f"
             ],
             [
              0.2222222222222222,
              "#7201a8"
             ],
             [
              0.3333333333333333,
              "#9c179e"
             ],
             [
              0.4444444444444444,
              "#bd3786"
             ],
             [
              0.5555555555555556,
              "#d8576b"
             ],
             [
              0.6666666666666666,
              "#ed7953"
             ],
             [
              0.7777777777777778,
              "#fb9f3a"
             ],
             [
              0.8888888888888888,
              "#fdca26"
             ],
             [
              1,
              "#f0f921"
             ]
            ],
            "type": "heatmapgl"
           }
          ],
          "histogram": [
           {
            "marker": {
             "pattern": {
              "fillmode": "overlay",
              "size": 10,
              "solidity": 0.2
             }
            },
            "type": "histogram"
           }
          ],
          "histogram2d": [
           {
            "colorbar": {
             "outlinewidth": 0,
             "ticks": ""
            },
            "colorscale": [
             [
              0,
              "#0d0887"
             ],
             [
              0.1111111111111111,
              "#46039f"
             ],
             [
              0.2222222222222222,
              "#7201a8"
             ],
             [
              0.3333333333333333,
              "#9c179e"
             ],
             [
              0.4444444444444444,
              "#bd3786"
             ],
             [
              0.5555555555555556,
              "#d8576b"
             ],
             [
              0.6666666666666666,
              "#ed7953"
             ],
             [
              0.7777777777777778,
              "#fb9f3a"
             ],
             [
              0.8888888888888888,
              "#fdca26"
             ],
             [
              1,
              "#f0f921"
             ]
            ],
            "type": "histogram2d"
           }
          ],
          "histogram2dcontour": [
           {
            "colorbar": {
             "outlinewidth": 0,
             "ticks": ""
            },
            "colorscale": [
             [
              0,
              "#0d0887"
             ],
             [
              0.1111111111111111,
              "#46039f"
             ],
             [
              0.2222222222222222,
              "#7201a8"
             ],
             [
              0.3333333333333333,
              "#9c179e"
             ],
             [
              0.4444444444444444,
              "#bd3786"
             ],
             [
              0.5555555555555556,
              "#d8576b"
             ],
             [
              0.6666666666666666,
              "#ed7953"
             ],
             [
              0.7777777777777778,
              "#fb9f3a"
             ],
             [
              0.8888888888888888,
              "#fdca26"
             ],
             [
              1,
              "#f0f921"
             ]
            ],
            "type": "histogram2dcontour"
           }
          ],
          "mesh3d": [
           {
            "colorbar": {
             "outlinewidth": 0,
             "ticks": ""
            },
            "type": "mesh3d"
           }
          ],
          "parcoords": [
           {
            "line": {
             "colorbar": {
              "outlinewidth": 0,
              "ticks": ""
             }
            },
            "type": "parcoords"
           }
          ],
          "pie": [
           {
            "automargin": true,
            "type": "pie"
           }
          ],
          "scatter": [
           {
            "fillpattern": {
             "fillmode": "overlay",
             "size": 10,
             "solidity": 0.2
            },
            "type": "scatter"
           }
          ],
          "scatter3d": [
           {
            "line": {
             "colorbar": {
              "outlinewidth": 0,
              "ticks": ""
             }
            },
            "marker": {
             "colorbar": {
              "outlinewidth": 0,
              "ticks": ""
             }
            },
            "type": "scatter3d"
           }
          ],
          "scattercarpet": [
           {
            "marker": {
             "colorbar": {
              "outlinewidth": 0,
              "ticks": ""
             }
            },
            "type": "scattercarpet"
           }
          ],
          "scattergeo": [
           {
            "marker": {
             "colorbar": {
              "outlinewidth": 0,
              "ticks": ""
             }
            },
            "type": "scattergeo"
           }
          ],
          "scattergl": [
           {
            "marker": {
             "colorbar": {
              "outlinewidth": 0,
              "ticks": ""
             }
            },
            "type": "scattergl"
           }
          ],
          "scattermapbox": [
           {
            "marker": {
             "colorbar": {
              "outlinewidth": 0,
              "ticks": ""
             }
            },
            "type": "scattermapbox"
           }
          ],
          "scatterpolar": [
           {
            "marker": {
             "colorbar": {
              "outlinewidth": 0,
              "ticks": ""
             }
            },
            "type": "scatterpolar"
           }
          ],
          "scatterpolargl": [
           {
            "marker": {
             "colorbar": {
              "outlinewidth": 0,
              "ticks": ""
             }
            },
            "type": "scatterpolargl"
           }
          ],
          "scatterternary": [
           {
            "marker": {
             "colorbar": {
              "outlinewidth": 0,
              "ticks": ""
             }
            },
            "type": "scatterternary"
           }
          ],
          "surface": [
           {
            "colorbar": {
             "outlinewidth": 0,
             "ticks": ""
            },
            "colorscale": [
             [
              0,
              "#0d0887"
             ],
             [
              0.1111111111111111,
              "#46039f"
             ],
             [
              0.2222222222222222,
              "#7201a8"
             ],
             [
              0.3333333333333333,
              "#9c179e"
             ],
             [
              0.4444444444444444,
              "#bd3786"
             ],
             [
              0.5555555555555556,
              "#d8576b"
             ],
             [
              0.6666666666666666,
              "#ed7953"
             ],
             [
              0.7777777777777778,
              "#fb9f3a"
             ],
             [
              0.8888888888888888,
              "#fdca26"
             ],
             [
              1,
              "#f0f921"
             ]
            ],
            "type": "surface"
           }
          ],
          "table": [
           {
            "cells": {
             "fill": {
              "color": "#EBF0F8"
             },
             "line": {
              "color": "white"
             }
            },
            "header": {
             "fill": {
              "color": "#C8D4E3"
             },
             "line": {
              "color": "white"
             }
            },
            "type": "table"
           }
          ]
         },
         "layout": {
          "annotationdefaults": {
           "arrowcolor": "#2a3f5f",
           "arrowhead": 0,
           "arrowwidth": 1
          },
          "autotypenumbers": "strict",
          "coloraxis": {
           "colorbar": {
            "outlinewidth": 0,
            "ticks": ""
           }
          },
          "colorscale": {
           "diverging": [
            [
             0,
             "#8e0152"
            ],
            [
             0.1,
             "#c51b7d"
            ],
            [
             0.2,
             "#de77ae"
            ],
            [
             0.3,
             "#f1b6da"
            ],
            [
             0.4,
             "#fde0ef"
            ],
            [
             0.5,
             "#f7f7f7"
            ],
            [
             0.6,
             "#e6f5d0"
            ],
            [
             0.7,
             "#b8e186"
            ],
            [
             0.8,
             "#7fbc41"
            ],
            [
             0.9,
             "#4d9221"
            ],
            [
             1,
             "#276419"
            ]
           ],
           "sequential": [
            [
             0,
             "#0d0887"
            ],
            [
             0.1111111111111111,
             "#46039f"
            ],
            [
             0.2222222222222222,
             "#7201a8"
            ],
            [
             0.3333333333333333,
             "#9c179e"
            ],
            [
             0.4444444444444444,
             "#bd3786"
            ],
            [
             0.5555555555555556,
             "#d8576b"
            ],
            [
             0.6666666666666666,
             "#ed7953"
            ],
            [
             0.7777777777777778,
             "#fb9f3a"
            ],
            [
             0.8888888888888888,
             "#fdca26"
            ],
            [
             1,
             "#f0f921"
            ]
           ],
           "sequentialminus": [
            [
             0,
             "#0d0887"
            ],
            [
             0.1111111111111111,
             "#46039f"
            ],
            [
             0.2222222222222222,
             "#7201a8"
            ],
            [
             0.3333333333333333,
             "#9c179e"
            ],
            [
             0.4444444444444444,
             "#bd3786"
            ],
            [
             0.5555555555555556,
             "#d8576b"
            ],
            [
             0.6666666666666666,
             "#ed7953"
            ],
            [
             0.7777777777777778,
             "#fb9f3a"
            ],
            [
             0.8888888888888888,
             "#fdca26"
            ],
            [
             1,
             "#f0f921"
            ]
           ]
          },
          "colorway": [
           "#636efa",
           "#EF553B",
           "#00cc96",
           "#ab63fa",
           "#FFA15A",
           "#19d3f3",
           "#FF6692",
           "#B6E880",
           "#FF97FF",
           "#FECB52"
          ],
          "font": {
           "color": "#2a3f5f"
          },
          "geo": {
           "bgcolor": "white",
           "lakecolor": "white",
           "landcolor": "#E5ECF6",
           "showlakes": true,
           "showland": true,
           "subunitcolor": "white"
          },
          "hoverlabel": {
           "align": "left"
          },
          "hovermode": "closest",
          "mapbox": {
           "style": "light"
          },
          "paper_bgcolor": "white",
          "plot_bgcolor": "#E5ECF6",
          "polar": {
           "angularaxis": {
            "gridcolor": "white",
            "linecolor": "white",
            "ticks": ""
           },
           "bgcolor": "#E5ECF6",
           "radialaxis": {
            "gridcolor": "white",
            "linecolor": "white",
            "ticks": ""
           }
          },
          "scene": {
           "xaxis": {
            "backgroundcolor": "#E5ECF6",
            "gridcolor": "white",
            "gridwidth": 2,
            "linecolor": "white",
            "showbackground": true,
            "ticks": "",
            "zerolinecolor": "white"
           },
           "yaxis": {
            "backgroundcolor": "#E5ECF6",
            "gridcolor": "white",
            "gridwidth": 2,
            "linecolor": "white",
            "showbackground": true,
            "ticks": "",
            "zerolinecolor": "white"
           },
           "zaxis": {
            "backgroundcolor": "#E5ECF6",
            "gridcolor": "white",
            "gridwidth": 2,
            "linecolor": "white",
            "showbackground": true,
            "ticks": "",
            "zerolinecolor": "white"
           }
          },
          "shapedefaults": {
           "line": {
            "color": "#2a3f5f"
           }
          },
          "ternary": {
           "aaxis": {
            "gridcolor": "white",
            "linecolor": "white",
            "ticks": ""
           },
           "baxis": {
            "gridcolor": "white",
            "linecolor": "white",
            "ticks": ""
           },
           "bgcolor": "#E5ECF6",
           "caxis": {
            "gridcolor": "white",
            "linecolor": "white",
            "ticks": ""
           }
          },
          "title": {
           "x": 0.05
          },
          "xaxis": {
           "automargin": true,
           "gridcolor": "white",
           "linecolor": "white",
           "ticks": "",
           "title": {
            "standoff": 15
           },
           "zerolinecolor": "white",
           "zerolinewidth": 2
          },
          "yaxis": {
           "automargin": true,
           "gridcolor": "white",
           "linecolor": "white",
           "ticks": "",
           "title": {
            "standoff": 15
           },
           "zerolinecolor": "white",
           "zerolinewidth": 2
          }
         }
        },
        "title": {
         "text": "GPT-4 (4000MT, 0T, 0FP) - Question length distribution"
        },
        "xaxis": {
         "title": {
          "text": "Length"
         }
        },
        "yaxis": {
         "title": {
          "text": "Frequency"
         }
        }
       }
      }
     },
     "metadata": {},
     "output_type": "display_data"
    }
   ],
   "source": [
    "plot_length_distribution_comparison(gpt_35_0t_0fp.zero_shot_full_questions, gpt_35_0t_0fp.one_shot_full_questions, pairs[0][\"id\"])"
   ]
  },
  {
   "cell_type": "code",
   "execution_count": 10,
   "metadata": {},
   "outputs": [],
   "source": [
    "gpt_4_0t_0fp = PairResultVisualizer(pairs[0])\n",
    "gpt_4_0t_0fp.load_data(project_root=os.path.abspath(os.path.join(os.getcwd(), os.pardir)))"
   ]
  },
  {
   "cell_type": "code",
   "execution_count": 11,
   "metadata": {},
   "outputs": [
    {
     "data": {
      "application/vnd.plotly.v1+json": {
       "config": {
        "plotlyServerURL": "https://plot.ly"
       },
       "data": [
        {
         "marker": {
          "color": "#D0006F"
         },
         "name": "Zero-Shot",
         "type": "histogram",
         "x": [
          17,
          15,
          9,
          16,
          17,
          8,
          8,
          7,
          10,
          10,
          8,
          10,
          7,
          10,
          16,
          10,
          8,
          17,
          15,
          11,
          9,
          8,
          8,
          10,
          10,
          10,
          8,
          12,
          12,
          11,
          11,
          11,
          10,
          9,
          12,
          10,
          12,
          14,
          10,
          10,
          9,
          10,
          13,
          10,
          10,
          11,
          10,
          14,
          11,
          10,
          11,
          9,
          20,
          7,
          8,
          9,
          11,
          7,
          18,
          6,
          15,
          9,
          12,
          16,
          10,
          11,
          12,
          10,
          15,
          10,
          8,
          10,
          12,
          8,
          6,
          12,
          9,
          13,
          10,
          8,
          8,
          8,
          10,
          9,
          9,
          7,
          10,
          14,
          12,
          13,
          11,
          9,
          15,
          11,
          11,
          16,
          12,
          9,
          14,
          9,
          14,
          8,
          11,
          15,
          19,
          8,
          10,
          6,
          7,
          8,
          9,
          11
         ]
        },
        {
         "marker": {
          "color": "#372082"
         },
         "name": "One-Shot",
         "type": "histogram",
         "x": [
          17,
          14,
          10,
          16,
          7,
          14,
          16,
          8,
          8,
          11,
          11,
          14,
          11,
          10,
          12,
          9,
          8,
          10,
          13,
          7,
          10,
          10,
          13,
          10,
          14,
          10,
          13,
          6,
          10,
          8,
          12,
          11,
          10,
          7,
          11,
          9,
          6,
          12,
          11,
          10,
          10,
          9,
          9,
          9,
          5,
          14,
          10,
          9,
          9,
          5,
          8,
          10,
          12,
          12,
          8,
          8,
          10,
          8,
          13,
          12,
          13,
          12,
          7,
          11,
          15,
          7,
          11,
          5,
          13,
          8,
          11,
          8,
          13,
          13,
          9,
          9,
          12,
          8,
          9,
          20,
          12,
          5,
          9,
          9,
          11,
          9,
          14,
          10,
          13,
          9,
          11,
          12,
          6,
          9,
          10,
          10,
          9,
          7,
          8,
          9,
          12,
          10,
          8,
          9,
          14,
          8,
          9,
          10,
          11
         ]
        }
       ],
       "layout": {
        "template": {
         "data": {
          "bar": [
           {
            "error_x": {
             "color": "#2a3f5f"
            },
            "error_y": {
             "color": "#2a3f5f"
            },
            "marker": {
             "line": {
              "color": "#E5ECF6",
              "width": 0.5
             },
             "pattern": {
              "fillmode": "overlay",
              "size": 10,
              "solidity": 0.2
             }
            },
            "type": "bar"
           }
          ],
          "barpolar": [
           {
            "marker": {
             "line": {
              "color": "#E5ECF6",
              "width": 0.5
             },
             "pattern": {
              "fillmode": "overlay",
              "size": 10,
              "solidity": 0.2
             }
            },
            "type": "barpolar"
           }
          ],
          "carpet": [
           {
            "aaxis": {
             "endlinecolor": "#2a3f5f",
             "gridcolor": "white",
             "linecolor": "white",
             "minorgridcolor": "white",
             "startlinecolor": "#2a3f5f"
            },
            "baxis": {
             "endlinecolor": "#2a3f5f",
             "gridcolor": "white",
             "linecolor": "white",
             "minorgridcolor": "white",
             "startlinecolor": "#2a3f5f"
            },
            "type": "carpet"
           }
          ],
          "choropleth": [
           {
            "colorbar": {
             "outlinewidth": 0,
             "ticks": ""
            },
            "type": "choropleth"
           }
          ],
          "contour": [
           {
            "colorbar": {
             "outlinewidth": 0,
             "ticks": ""
            },
            "colorscale": [
             [
              0,
              "#0d0887"
             ],
             [
              0.1111111111111111,
              "#46039f"
             ],
             [
              0.2222222222222222,
              "#7201a8"
             ],
             [
              0.3333333333333333,
              "#9c179e"
             ],
             [
              0.4444444444444444,
              "#bd3786"
             ],
             [
              0.5555555555555556,
              "#d8576b"
             ],
             [
              0.6666666666666666,
              "#ed7953"
             ],
             [
              0.7777777777777778,
              "#fb9f3a"
             ],
             [
              0.8888888888888888,
              "#fdca26"
             ],
             [
              1,
              "#f0f921"
             ]
            ],
            "type": "contour"
           }
          ],
          "contourcarpet": [
           {
            "colorbar": {
             "outlinewidth": 0,
             "ticks": ""
            },
            "type": "contourcarpet"
           }
          ],
          "heatmap": [
           {
            "colorbar": {
             "outlinewidth": 0,
             "ticks": ""
            },
            "colorscale": [
             [
              0,
              "#0d0887"
             ],
             [
              0.1111111111111111,
              "#46039f"
             ],
             [
              0.2222222222222222,
              "#7201a8"
             ],
             [
              0.3333333333333333,
              "#9c179e"
             ],
             [
              0.4444444444444444,
              "#bd3786"
             ],
             [
              0.5555555555555556,
              "#d8576b"
             ],
             [
              0.6666666666666666,
              "#ed7953"
             ],
             [
              0.7777777777777778,
              "#fb9f3a"
             ],
             [
              0.8888888888888888,
              "#fdca26"
             ],
             [
              1,
              "#f0f921"
             ]
            ],
            "type": "heatmap"
           }
          ],
          "heatmapgl": [
           {
            "colorbar": {
             "outlinewidth": 0,
             "ticks": ""
            },
            "colorscale": [
             [
              0,
              "#0d0887"
             ],
             [
              0.1111111111111111,
              "#46039f"
             ],
             [
              0.2222222222222222,
              "#7201a8"
             ],
             [
              0.3333333333333333,
              "#9c179e"
             ],
             [
              0.4444444444444444,
              "#bd3786"
             ],
             [
              0.5555555555555556,
              "#d8576b"
             ],
             [
              0.6666666666666666,
              "#ed7953"
             ],
             [
              0.7777777777777778,
              "#fb9f3a"
             ],
             [
              0.8888888888888888,
              "#fdca26"
             ],
             [
              1,
              "#f0f921"
             ]
            ],
            "type": "heatmapgl"
           }
          ],
          "histogram": [
           {
            "marker": {
             "pattern": {
              "fillmode": "overlay",
              "size": 10,
              "solidity": 0.2
             }
            },
            "type": "histogram"
           }
          ],
          "histogram2d": [
           {
            "colorbar": {
             "outlinewidth": 0,
             "ticks": ""
            },
            "colorscale": [
             [
              0,
              "#0d0887"
             ],
             [
              0.1111111111111111,
              "#46039f"
             ],
             [
              0.2222222222222222,
              "#7201a8"
             ],
             [
              0.3333333333333333,
              "#9c179e"
             ],
             [
              0.4444444444444444,
              "#bd3786"
             ],
             [
              0.5555555555555556,
              "#d8576b"
             ],
             [
              0.6666666666666666,
              "#ed7953"
             ],
             [
              0.7777777777777778,
              "#fb9f3a"
             ],
             [
              0.8888888888888888,
              "#fdca26"
             ],
             [
              1,
              "#f0f921"
             ]
            ],
            "type": "histogram2d"
           }
          ],
          "histogram2dcontour": [
           {
            "colorbar": {
             "outlinewidth": 0,
             "ticks": ""
            },
            "colorscale": [
             [
              0,
              "#0d0887"
             ],
             [
              0.1111111111111111,
              "#46039f"
             ],
             [
              0.2222222222222222,
              "#7201a8"
             ],
             [
              0.3333333333333333,
              "#9c179e"
             ],
             [
              0.4444444444444444,
              "#bd3786"
             ],
             [
              0.5555555555555556,
              "#d8576b"
             ],
             [
              0.6666666666666666,
              "#ed7953"
             ],
             [
              0.7777777777777778,
              "#fb9f3a"
             ],
             [
              0.8888888888888888,
              "#fdca26"
             ],
             [
              1,
              "#f0f921"
             ]
            ],
            "type": "histogram2dcontour"
           }
          ],
          "mesh3d": [
           {
            "colorbar": {
             "outlinewidth": 0,
             "ticks": ""
            },
            "type": "mesh3d"
           }
          ],
          "parcoords": [
           {
            "line": {
             "colorbar": {
              "outlinewidth": 0,
              "ticks": ""
             }
            },
            "type": "parcoords"
           }
          ],
          "pie": [
           {
            "automargin": true,
            "type": "pie"
           }
          ],
          "scatter": [
           {
            "fillpattern": {
             "fillmode": "overlay",
             "size": 10,
             "solidity": 0.2
            },
            "type": "scatter"
           }
          ],
          "scatter3d": [
           {
            "line": {
             "colorbar": {
              "outlinewidth": 0,
              "ticks": ""
             }
            },
            "marker": {
             "colorbar": {
              "outlinewidth": 0,
              "ticks": ""
             }
            },
            "type": "scatter3d"
           }
          ],
          "scattercarpet": [
           {
            "marker": {
             "colorbar": {
              "outlinewidth": 0,
              "ticks": ""
             }
            },
            "type": "scattercarpet"
           }
          ],
          "scattergeo": [
           {
            "marker": {
             "colorbar": {
              "outlinewidth": 0,
              "ticks": ""
             }
            },
            "type": "scattergeo"
           }
          ],
          "scattergl": [
           {
            "marker": {
             "colorbar": {
              "outlinewidth": 0,
              "ticks": ""
             }
            },
            "type": "scattergl"
           }
          ],
          "scattermapbox": [
           {
            "marker": {
             "colorbar": {
              "outlinewidth": 0,
              "ticks": ""
             }
            },
            "type": "scattermapbox"
           }
          ],
          "scatterpolar": [
           {
            "marker": {
             "colorbar": {
              "outlinewidth": 0,
              "ticks": ""
             }
            },
            "type": "scatterpolar"
           }
          ],
          "scatterpolargl": [
           {
            "marker": {
             "colorbar": {
              "outlinewidth": 0,
              "ticks": ""
             }
            },
            "type": "scatterpolargl"
           }
          ],
          "scatterternary": [
           {
            "marker": {
             "colorbar": {
              "outlinewidth": 0,
              "ticks": ""
             }
            },
            "type": "scatterternary"
           }
          ],
          "surface": [
           {
            "colorbar": {
             "outlinewidth": 0,
             "ticks": ""
            },
            "colorscale": [
             [
              0,
              "#0d0887"
             ],
             [
              0.1111111111111111,
              "#46039f"
             ],
             [
              0.2222222222222222,
              "#7201a8"
             ],
             [
              0.3333333333333333,
              "#9c179e"
             ],
             [
              0.4444444444444444,
              "#bd3786"
             ],
             [
              0.5555555555555556,
              "#d8576b"
             ],
             [
              0.6666666666666666,
              "#ed7953"
             ],
             [
              0.7777777777777778,
              "#fb9f3a"
             ],
             [
              0.8888888888888888,
              "#fdca26"
             ],
             [
              1,
              "#f0f921"
             ]
            ],
            "type": "surface"
           }
          ],
          "table": [
           {
            "cells": {
             "fill": {
              "color": "#EBF0F8"
             },
             "line": {
              "color": "white"
             }
            },
            "header": {
             "fill": {
              "color": "#C8D4E3"
             },
             "line": {
              "color": "white"
             }
            },
            "type": "table"
           }
          ]
         },
         "layout": {
          "annotationdefaults": {
           "arrowcolor": "#2a3f5f",
           "arrowhead": 0,
           "arrowwidth": 1
          },
          "autotypenumbers": "strict",
          "coloraxis": {
           "colorbar": {
            "outlinewidth": 0,
            "ticks": ""
           }
          },
          "colorscale": {
           "diverging": [
            [
             0,
             "#8e0152"
            ],
            [
             0.1,
             "#c51b7d"
            ],
            [
             0.2,
             "#de77ae"
            ],
            [
             0.3,
             "#f1b6da"
            ],
            [
             0.4,
             "#fde0ef"
            ],
            [
             0.5,
             "#f7f7f7"
            ],
            [
             0.6,
             "#e6f5d0"
            ],
            [
             0.7,
             "#b8e186"
            ],
            [
             0.8,
             "#7fbc41"
            ],
            [
             0.9,
             "#4d9221"
            ],
            [
             1,
             "#276419"
            ]
           ],
           "sequential": [
            [
             0,
             "#0d0887"
            ],
            [
             0.1111111111111111,
             "#46039f"
            ],
            [
             0.2222222222222222,
             "#7201a8"
            ],
            [
             0.3333333333333333,
             "#9c179e"
            ],
            [
             0.4444444444444444,
             "#bd3786"
            ],
            [
             0.5555555555555556,
             "#d8576b"
            ],
            [
             0.6666666666666666,
             "#ed7953"
            ],
            [
             0.7777777777777778,
             "#fb9f3a"
            ],
            [
             0.8888888888888888,
             "#fdca26"
            ],
            [
             1,
             "#f0f921"
            ]
           ],
           "sequentialminus": [
            [
             0,
             "#0d0887"
            ],
            [
             0.1111111111111111,
             "#46039f"
            ],
            [
             0.2222222222222222,
             "#7201a8"
            ],
            [
             0.3333333333333333,
             "#9c179e"
            ],
            [
             0.4444444444444444,
             "#bd3786"
            ],
            [
             0.5555555555555556,
             "#d8576b"
            ],
            [
             0.6666666666666666,
             "#ed7953"
            ],
            [
             0.7777777777777778,
             "#fb9f3a"
            ],
            [
             0.8888888888888888,
             "#fdca26"
            ],
            [
             1,
             "#f0f921"
            ]
           ]
          },
          "colorway": [
           "#636efa",
           "#EF553B",
           "#00cc96",
           "#ab63fa",
           "#FFA15A",
           "#19d3f3",
           "#FF6692",
           "#B6E880",
           "#FF97FF",
           "#FECB52"
          ],
          "font": {
           "color": "#2a3f5f"
          },
          "geo": {
           "bgcolor": "white",
           "lakecolor": "white",
           "landcolor": "#E5ECF6",
           "showlakes": true,
           "showland": true,
           "subunitcolor": "white"
          },
          "hoverlabel": {
           "align": "left"
          },
          "hovermode": "closest",
          "mapbox": {
           "style": "light"
          },
          "paper_bgcolor": "white",
          "plot_bgcolor": "#E5ECF6",
          "polar": {
           "angularaxis": {
            "gridcolor": "white",
            "linecolor": "white",
            "ticks": ""
           },
           "bgcolor": "#E5ECF6",
           "radialaxis": {
            "gridcolor": "white",
            "linecolor": "white",
            "ticks": ""
           }
          },
          "scene": {
           "xaxis": {
            "backgroundcolor": "#E5ECF6",
            "gridcolor": "white",
            "gridwidth": 2,
            "linecolor": "white",
            "showbackground": true,
            "ticks": "",
            "zerolinecolor": "white"
           },
           "yaxis": {
            "backgroundcolor": "#E5ECF6",
            "gridcolor": "white",
            "gridwidth": 2,
            "linecolor": "white",
            "showbackground": true,
            "ticks": "",
            "zerolinecolor": "white"
           },
           "zaxis": {
            "backgroundcolor": "#E5ECF6",
            "gridcolor": "white",
            "gridwidth": 2,
            "linecolor": "white",
            "showbackground": true,
            "ticks": "",
            "zerolinecolor": "white"
           }
          },
          "shapedefaults": {
           "line": {
            "color": "#2a3f5f"
           }
          },
          "ternary": {
           "aaxis": {
            "gridcolor": "white",
            "linecolor": "white",
            "ticks": ""
           },
           "baxis": {
            "gridcolor": "white",
            "linecolor": "white",
            "ticks": ""
           },
           "bgcolor": "#E5ECF6",
           "caxis": {
            "gridcolor": "white",
            "linecolor": "white",
            "ticks": ""
           }
          },
          "title": {
           "x": 0.05
          },
          "xaxis": {
           "automargin": true,
           "gridcolor": "white",
           "linecolor": "white",
           "ticks": "",
           "title": {
            "standoff": 15
           },
           "zerolinecolor": "white",
           "zerolinewidth": 2
          },
          "yaxis": {
           "automargin": true,
           "gridcolor": "white",
           "linecolor": "white",
           "ticks": "",
           "title": {
            "standoff": 15
           },
           "zerolinecolor": "white",
           "zerolinewidth": 2
          }
         }
        },
        "title": {
         "text": "GPT-4 (4000MT, 0T, 0FP) - Question length distribution"
        },
        "xaxis": {
         "title": {
          "text": "Length"
         }
        },
        "yaxis": {
         "title": {
          "text": "Frequency"
         }
        }
       }
      }
     },
     "metadata": {},
     "output_type": "display_data"
    }
   ],
   "source": [
    "plot_length_distribution_comparison(gpt_4_0t_0fp.zero_shot_questions, gpt_4_0t_0fp.one_shot_questions, pairs[0][\"id\"])"
   ]
  },
  {
   "cell_type": "code",
   "execution_count": 12,
   "metadata": {},
   "outputs": [],
   "source": [
    "import plotly.figure_factory as ff\n",
    "\n",
    "def plot_density_distribution_comparison_with_ref(df_ref, df_0s, df_1s, name):\n",
    "    \"\"\"\n",
    "    Plots the distribution of the length of the reviews for zero and one shot predictions.\n",
    "    \"\"\"\n",
    "    lens_ref = [len(sentence.split()) for sentence in df_ref['NAME']]\n",
    "    lens_0s = [len(sentence.split()) for sentence in df_0s['NAME']]\n",
    "    lens_1s = [len(sentence.split()) for sentence in df_1s['NAME']]\n",
    "\n",
    "    hist_data = [lens_ref, lens_0s, lens_1s]\n",
    "\n",
    "    group_labels = [\"Reference\", \"Zero-Shot\", \"One-Shot\"]\n",
    "\n",
    "    fig = ff.create_distplot(hist_data, group_labels, show_hist=False, colors=[\"#088DA5\", \"#D0006F\", \"#372082\"])\n",
    "\n",
    "    # Add filled area under the curve\n",
    "    fig.update_traces(fill='tozeroy', fillcolor='rgba(8, 141, 165, 0.2)', selector=dict(type='scatter', name='Reference'))\n",
    "    fig.update_traces(fill='tozeroy', fillcolor='rgba(208, 0, 111, 0.2)', selector=dict(type='scatter', name='Zero-Shot'))\n",
    "    fig.update_traces(fill='tozeroy', fillcolor='rgba(55, 32, 130, 0.2)', selector=dict(type='scatter', name='One-Shot'))\n",
    "\n",
    "    fig.update_layout(\n",
    "        title=f\"{name} - Question length density distribution\",\n",
    "        xaxis_title=\"Length\",\n",
    "        yaxis_title=\"Count\"\n",
    "    )\n",
    "\n",
    "    fig.show()\n"
   ]
  },
  {
   "cell_type": "code",
   "execution_count": 13,
   "metadata": {},
   "outputs": [],
   "source": [
    "def plot_length_distribution_comparison_with_ref(df_ref, df_0s, df_1s, name):\n",
    "    \"\"\"\n",
    "        Plots the distribution of the length of the reviews for zero and one shot predictions.\n",
    "    \"\"\"\n",
    "    lens_ref = [len(sentence.split()) for sentence in df_ref['NAME']]\n",
    "    lens_0s = [count_words(sentence) for sentence in df_0s['NAME']]\n",
    "    lens_1s = [count_words(sentence) for sentence in df_1s['NAME']]\n",
    "\n",
    "    fig = go.Figure()\n",
    "\n",
    "    fig.add_trace(go.Histogram(x=lens_0s, name=\"Reference\", marker_color=\"#68E1EA\"))\n",
    "    fig.add_trace(go.Histogram(x=lens_0s, name=\"Reference\", marker_color=\"#A380D1\"))\n",
    "    fig.add_trace(go.Histogram(x=lens_0s, name=\"Zero-Shot\", marker_color=\"#4A01A0\"))\n",
    "    fig.add_trace(go.Histogram(x=lens_1s, name=\"One-Shot\", marker_color=\"#89A9EE\"))\n",
    "    fig.add_trace(go.Histogram(x=lens_1s, name=\"One-Shot\", marker_color=\"#CB1973\"))\n",
    "\n",
    "    fig.update_layout(\n",
    "        title=f\"{name} - Question length distribution\",\n",
    "        xaxis_title=\"Length\",\n",
    "        yaxis_title=\"Frequency\"\n",
    "    )\n",
    "\n",
    "    fig.show()"
   ]
  },
  {
   "cell_type": "code",
   "execution_count": 14,
   "metadata": {},
   "outputs": [
    {
     "data": {
      "application/vnd.plotly.v1+json": {
       "config": {
        "plotlyServerURL": "https://plot.ly"
       },
       "data": [
        {
         "marker": {
          "color": "#68E1EA"
         },
         "name": "Reference",
         "type": "histogram",
         "x": [
          17,
          15,
          9,
          16,
          17,
          8,
          8,
          7,
          10,
          10,
          8,
          10,
          7,
          10,
          16,
          10,
          8,
          17,
          15,
          11,
          9,
          8,
          8,
          10,
          10,
          10,
          8,
          12,
          12,
          11,
          11,
          11,
          10,
          9,
          12,
          10,
          12,
          14,
          10,
          10,
          9,
          10,
          13,
          10,
          10,
          11,
          10,
          14,
          11,
          10,
          11,
          9,
          20,
          7,
          8,
          9,
          11,
          7,
          18,
          6,
          15,
          9,
          12,
          16,
          10,
          11,
          12,
          10,
          15,
          10,
          8,
          10,
          12,
          8,
          6,
          12,
          9,
          13,
          10,
          8,
          8,
          8,
          10,
          9,
          9,
          7,
          10,
          14,
          12,
          13,
          11,
          9,
          15,
          11,
          11,
          16,
          12,
          9,
          14,
          9,
          14,
          8,
          11,
          15,
          19,
          8,
          10,
          6,
          7,
          8,
          9,
          11
         ]
        },
        {
         "marker": {
          "color": "#A380D1"
         },
         "name": "Reference",
         "type": "histogram",
         "x": [
          17,
          15,
          9,
          16,
          17,
          8,
          8,
          7,
          10,
          10,
          8,
          10,
          7,
          10,
          16,
          10,
          8,
          17,
          15,
          11,
          9,
          8,
          8,
          10,
          10,
          10,
          8,
          12,
          12,
          11,
          11,
          11,
          10,
          9,
          12,
          10,
          12,
          14,
          10,
          10,
          9,
          10,
          13,
          10,
          10,
          11,
          10,
          14,
          11,
          10,
          11,
          9,
          20,
          7,
          8,
          9,
          11,
          7,
          18,
          6,
          15,
          9,
          12,
          16,
          10,
          11,
          12,
          10,
          15,
          10,
          8,
          10,
          12,
          8,
          6,
          12,
          9,
          13,
          10,
          8,
          8,
          8,
          10,
          9,
          9,
          7,
          10,
          14,
          12,
          13,
          11,
          9,
          15,
          11,
          11,
          16,
          12,
          9,
          14,
          9,
          14,
          8,
          11,
          15,
          19,
          8,
          10,
          6,
          7,
          8,
          9,
          11
         ]
        },
        {
         "marker": {
          "color": "#4A01A0"
         },
         "name": "Zero-Shot",
         "type": "histogram",
         "x": [
          17,
          15,
          9,
          16,
          17,
          8,
          8,
          7,
          10,
          10,
          8,
          10,
          7,
          10,
          16,
          10,
          8,
          17,
          15,
          11,
          9,
          8,
          8,
          10,
          10,
          10,
          8,
          12,
          12,
          11,
          11,
          11,
          10,
          9,
          12,
          10,
          12,
          14,
          10,
          10,
          9,
          10,
          13,
          10,
          10,
          11,
          10,
          14,
          11,
          10,
          11,
          9,
          20,
          7,
          8,
          9,
          11,
          7,
          18,
          6,
          15,
          9,
          12,
          16,
          10,
          11,
          12,
          10,
          15,
          10,
          8,
          10,
          12,
          8,
          6,
          12,
          9,
          13,
          10,
          8,
          8,
          8,
          10,
          9,
          9,
          7,
          10,
          14,
          12,
          13,
          11,
          9,
          15,
          11,
          11,
          16,
          12,
          9,
          14,
          9,
          14,
          8,
          11,
          15,
          19,
          8,
          10,
          6,
          7,
          8,
          9,
          11
         ]
        },
        {
         "marker": {
          "color": "#89A9EE"
         },
         "name": "One-Shot",
         "type": "histogram",
         "x": [
          17,
          14,
          10,
          16,
          7,
          14,
          16,
          8,
          8,
          11,
          11,
          14,
          11,
          10,
          12,
          9,
          8,
          10,
          13,
          7,
          10,
          10,
          13,
          10,
          14,
          10,
          13,
          6,
          10,
          8,
          12,
          11,
          10,
          7,
          11,
          9,
          6,
          12,
          11,
          10,
          10,
          9,
          9,
          9,
          5,
          14,
          10,
          9,
          9,
          5,
          8,
          10,
          12,
          12,
          8,
          8,
          10,
          8,
          13,
          12,
          13,
          12,
          7,
          11,
          15,
          7,
          11,
          5,
          13,
          8,
          11,
          8,
          13,
          13,
          9,
          9,
          12,
          8,
          9,
          20,
          12,
          5,
          9,
          9,
          11,
          9,
          14,
          10,
          13,
          9,
          11,
          12,
          6,
          9,
          10,
          10,
          9,
          7,
          8,
          9,
          12,
          10,
          8,
          9,
          14,
          8,
          9,
          10,
          11
         ]
        },
        {
         "marker": {
          "color": "#CB1973"
         },
         "name": "One-Shot",
         "type": "histogram",
         "x": [
          17,
          14,
          10,
          16,
          7,
          14,
          16,
          8,
          8,
          11,
          11,
          14,
          11,
          10,
          12,
          9,
          8,
          10,
          13,
          7,
          10,
          10,
          13,
          10,
          14,
          10,
          13,
          6,
          10,
          8,
          12,
          11,
          10,
          7,
          11,
          9,
          6,
          12,
          11,
          10,
          10,
          9,
          9,
          9,
          5,
          14,
          10,
          9,
          9,
          5,
          8,
          10,
          12,
          12,
          8,
          8,
          10,
          8,
          13,
          12,
          13,
          12,
          7,
          11,
          15,
          7,
          11,
          5,
          13,
          8,
          11,
          8,
          13,
          13,
          9,
          9,
          12,
          8,
          9,
          20,
          12,
          5,
          9,
          9,
          11,
          9,
          14,
          10,
          13,
          9,
          11,
          12,
          6,
          9,
          10,
          10,
          9,
          7,
          8,
          9,
          12,
          10,
          8,
          9,
          14,
          8,
          9,
          10,
          11
         ]
        }
       ],
       "layout": {
        "template": {
         "data": {
          "bar": [
           {
            "error_x": {
             "color": "#2a3f5f"
            },
            "error_y": {
             "color": "#2a3f5f"
            },
            "marker": {
             "line": {
              "color": "#E5ECF6",
              "width": 0.5
             },
             "pattern": {
              "fillmode": "overlay",
              "size": 10,
              "solidity": 0.2
             }
            },
            "type": "bar"
           }
          ],
          "barpolar": [
           {
            "marker": {
             "line": {
              "color": "#E5ECF6",
              "width": 0.5
             },
             "pattern": {
              "fillmode": "overlay",
              "size": 10,
              "solidity": 0.2
             }
            },
            "type": "barpolar"
           }
          ],
          "carpet": [
           {
            "aaxis": {
             "endlinecolor": "#2a3f5f",
             "gridcolor": "white",
             "linecolor": "white",
             "minorgridcolor": "white",
             "startlinecolor": "#2a3f5f"
            },
            "baxis": {
             "endlinecolor": "#2a3f5f",
             "gridcolor": "white",
             "linecolor": "white",
             "minorgridcolor": "white",
             "startlinecolor": "#2a3f5f"
            },
            "type": "carpet"
           }
          ],
          "choropleth": [
           {
            "colorbar": {
             "outlinewidth": 0,
             "ticks": ""
            },
            "type": "choropleth"
           }
          ],
          "contour": [
           {
            "colorbar": {
             "outlinewidth": 0,
             "ticks": ""
            },
            "colorscale": [
             [
              0,
              "#0d0887"
             ],
             [
              0.1111111111111111,
              "#46039f"
             ],
             [
              0.2222222222222222,
              "#7201a8"
             ],
             [
              0.3333333333333333,
              "#9c179e"
             ],
             [
              0.4444444444444444,
              "#bd3786"
             ],
             [
              0.5555555555555556,
              "#d8576b"
             ],
             [
              0.6666666666666666,
              "#ed7953"
             ],
             [
              0.7777777777777778,
              "#fb9f3a"
             ],
             [
              0.8888888888888888,
              "#fdca26"
             ],
             [
              1,
              "#f0f921"
             ]
            ],
            "type": "contour"
           }
          ],
          "contourcarpet": [
           {
            "colorbar": {
             "outlinewidth": 0,
             "ticks": ""
            },
            "type": "contourcarpet"
           }
          ],
          "heatmap": [
           {
            "colorbar": {
             "outlinewidth": 0,
             "ticks": ""
            },
            "colorscale": [
             [
              0,
              "#0d0887"
             ],
             [
              0.1111111111111111,
              "#46039f"
             ],
             [
              0.2222222222222222,
              "#7201a8"
             ],
             [
              0.3333333333333333,
              "#9c179e"
             ],
             [
              0.4444444444444444,
              "#bd3786"
             ],
             [
              0.5555555555555556,
              "#d8576b"
             ],
             [
              0.6666666666666666,
              "#ed7953"
             ],
             [
              0.7777777777777778,
              "#fb9f3a"
             ],
             [
              0.8888888888888888,
              "#fdca26"
             ],
             [
              1,
              "#f0f921"
             ]
            ],
            "type": "heatmap"
           }
          ],
          "heatmapgl": [
           {
            "colorbar": {
             "outlinewidth": 0,
             "ticks": ""
            },
            "colorscale": [
             [
              0,
              "#0d0887"
             ],
             [
              0.1111111111111111,
              "#46039f"
             ],
             [
              0.2222222222222222,
              "#7201a8"
             ],
             [
              0.3333333333333333,
              "#9c179e"
             ],
             [
              0.4444444444444444,
              "#bd3786"
             ],
             [
              0.5555555555555556,
              "#d8576b"
             ],
             [
              0.6666666666666666,
              "#ed7953"
             ],
             [
              0.7777777777777778,
              "#fb9f3a"
             ],
             [
              0.8888888888888888,
              "#fdca26"
             ],
             [
              1,
              "#f0f921"
             ]
            ],
            "type": "heatmapgl"
           }
          ],
          "histogram": [
           {
            "marker": {
             "pattern": {
              "fillmode": "overlay",
              "size": 10,
              "solidity": 0.2
             }
            },
            "type": "histogram"
           }
          ],
          "histogram2d": [
           {
            "colorbar": {
             "outlinewidth": 0,
             "ticks": ""
            },
            "colorscale": [
             [
              0,
              "#0d0887"
             ],
             [
              0.1111111111111111,
              "#46039f"
             ],
             [
              0.2222222222222222,
              "#7201a8"
             ],
             [
              0.3333333333333333,
              "#9c179e"
             ],
             [
              0.4444444444444444,
              "#bd3786"
             ],
             [
              0.5555555555555556,
              "#d8576b"
             ],
             [
              0.6666666666666666,
              "#ed7953"
             ],
             [
              0.7777777777777778,
              "#fb9f3a"
             ],
             [
              0.8888888888888888,
              "#fdca26"
             ],
             [
              1,
              "#f0f921"
             ]
            ],
            "type": "histogram2d"
           }
          ],
          "histogram2dcontour": [
           {
            "colorbar": {
             "outlinewidth": 0,
             "ticks": ""
            },
            "colorscale": [
             [
              0,
              "#0d0887"
             ],
             [
              0.1111111111111111,
              "#46039f"
             ],
             [
              0.2222222222222222,
              "#7201a8"
             ],
             [
              0.3333333333333333,
              "#9c179e"
             ],
             [
              0.4444444444444444,
              "#bd3786"
             ],
             [
              0.5555555555555556,
              "#d8576b"
             ],
             [
              0.6666666666666666,
              "#ed7953"
             ],
             [
              0.7777777777777778,
              "#fb9f3a"
             ],
             [
              0.8888888888888888,
              "#fdca26"
             ],
             [
              1,
              "#f0f921"
             ]
            ],
            "type": "histogram2dcontour"
           }
          ],
          "mesh3d": [
           {
            "colorbar": {
             "outlinewidth": 0,
             "ticks": ""
            },
            "type": "mesh3d"
           }
          ],
          "parcoords": [
           {
            "line": {
             "colorbar": {
              "outlinewidth": 0,
              "ticks": ""
             }
            },
            "type": "parcoords"
           }
          ],
          "pie": [
           {
            "automargin": true,
            "type": "pie"
           }
          ],
          "scatter": [
           {
            "fillpattern": {
             "fillmode": "overlay",
             "size": 10,
             "solidity": 0.2
            },
            "type": "scatter"
           }
          ],
          "scatter3d": [
           {
            "line": {
             "colorbar": {
              "outlinewidth": 0,
              "ticks": ""
             }
            },
            "marker": {
             "colorbar": {
              "outlinewidth": 0,
              "ticks": ""
             }
            },
            "type": "scatter3d"
           }
          ],
          "scattercarpet": [
           {
            "marker": {
             "colorbar": {
              "outlinewidth": 0,
              "ticks": ""
             }
            },
            "type": "scattercarpet"
           }
          ],
          "scattergeo": [
           {
            "marker": {
             "colorbar": {
              "outlinewidth": 0,
              "ticks": ""
             }
            },
            "type": "scattergeo"
           }
          ],
          "scattergl": [
           {
            "marker": {
             "colorbar": {
              "outlinewidth": 0,
              "ticks": ""
             }
            },
            "type": "scattergl"
           }
          ],
          "scattermapbox": [
           {
            "marker": {
             "colorbar": {
              "outlinewidth": 0,
              "ticks": ""
             }
            },
            "type": "scattermapbox"
           }
          ],
          "scatterpolar": [
           {
            "marker": {
             "colorbar": {
              "outlinewidth": 0,
              "ticks": ""
             }
            },
            "type": "scatterpolar"
           }
          ],
          "scatterpolargl": [
           {
            "marker": {
             "colorbar": {
              "outlinewidth": 0,
              "ticks": ""
             }
            },
            "type": "scatterpolargl"
           }
          ],
          "scatterternary": [
           {
            "marker": {
             "colorbar": {
              "outlinewidth": 0,
              "ticks": ""
             }
            },
            "type": "scatterternary"
           }
          ],
          "surface": [
           {
            "colorbar": {
             "outlinewidth": 0,
             "ticks": ""
            },
            "colorscale": [
             [
              0,
              "#0d0887"
             ],
             [
              0.1111111111111111,
              "#46039f"
             ],
             [
              0.2222222222222222,
              "#7201a8"
             ],
             [
              0.3333333333333333,
              "#9c179e"
             ],
             [
              0.4444444444444444,
              "#bd3786"
             ],
             [
              0.5555555555555556,
              "#d8576b"
             ],
             [
              0.6666666666666666,
              "#ed7953"
             ],
             [
              0.7777777777777778,
              "#fb9f3a"
             ],
             [
              0.8888888888888888,
              "#fdca26"
             ],
             [
              1,
              "#f0f921"
             ]
            ],
            "type": "surface"
           }
          ],
          "table": [
           {
            "cells": {
             "fill": {
              "color": "#EBF0F8"
             },
             "line": {
              "color": "white"
             }
            },
            "header": {
             "fill": {
              "color": "#C8D4E3"
             },
             "line": {
              "color": "white"
             }
            },
            "type": "table"
           }
          ]
         },
         "layout": {
          "annotationdefaults": {
           "arrowcolor": "#2a3f5f",
           "arrowhead": 0,
           "arrowwidth": 1
          },
          "autotypenumbers": "strict",
          "coloraxis": {
           "colorbar": {
            "outlinewidth": 0,
            "ticks": ""
           }
          },
          "colorscale": {
           "diverging": [
            [
             0,
             "#8e0152"
            ],
            [
             0.1,
             "#c51b7d"
            ],
            [
             0.2,
             "#de77ae"
            ],
            [
             0.3,
             "#f1b6da"
            ],
            [
             0.4,
             "#fde0ef"
            ],
            [
             0.5,
             "#f7f7f7"
            ],
            [
             0.6,
             "#e6f5d0"
            ],
            [
             0.7,
             "#b8e186"
            ],
            [
             0.8,
             "#7fbc41"
            ],
            [
             0.9,
             "#4d9221"
            ],
            [
             1,
             "#276419"
            ]
           ],
           "sequential": [
            [
             0,
             "#0d0887"
            ],
            [
             0.1111111111111111,
             "#46039f"
            ],
            [
             0.2222222222222222,
             "#7201a8"
            ],
            [
             0.3333333333333333,
             "#9c179e"
            ],
            [
             0.4444444444444444,
             "#bd3786"
            ],
            [
             0.5555555555555556,
             "#d8576b"
            ],
            [
             0.6666666666666666,
             "#ed7953"
            ],
            [
             0.7777777777777778,
             "#fb9f3a"
            ],
            [
             0.8888888888888888,
             "#fdca26"
            ],
            [
             1,
             "#f0f921"
            ]
           ],
           "sequentialminus": [
            [
             0,
             "#0d0887"
            ],
            [
             0.1111111111111111,
             "#46039f"
            ],
            [
             0.2222222222222222,
             "#7201a8"
            ],
            [
             0.3333333333333333,
             "#9c179e"
            ],
            [
             0.4444444444444444,
             "#bd3786"
            ],
            [
             0.5555555555555556,
             "#d8576b"
            ],
            [
             0.6666666666666666,
             "#ed7953"
            ],
            [
             0.7777777777777778,
             "#fb9f3a"
            ],
            [
             0.8888888888888888,
             "#fdca26"
            ],
            [
             1,
             "#f0f921"
            ]
           ]
          },
          "colorway": [
           "#636efa",
           "#EF553B",
           "#00cc96",
           "#ab63fa",
           "#FFA15A",
           "#19d3f3",
           "#FF6692",
           "#B6E880",
           "#FF97FF",
           "#FECB52"
          ],
          "font": {
           "color": "#2a3f5f"
          },
          "geo": {
           "bgcolor": "white",
           "lakecolor": "white",
           "landcolor": "#E5ECF6",
           "showlakes": true,
           "showland": true,
           "subunitcolor": "white"
          },
          "hoverlabel": {
           "align": "left"
          },
          "hovermode": "closest",
          "mapbox": {
           "style": "light"
          },
          "paper_bgcolor": "white",
          "plot_bgcolor": "#E5ECF6",
          "polar": {
           "angularaxis": {
            "gridcolor": "white",
            "linecolor": "white",
            "ticks": ""
           },
           "bgcolor": "#E5ECF6",
           "radialaxis": {
            "gridcolor": "white",
            "linecolor": "white",
            "ticks": ""
           }
          },
          "scene": {
           "xaxis": {
            "backgroundcolor": "#E5ECF6",
            "gridcolor": "white",
            "gridwidth": 2,
            "linecolor": "white",
            "showbackground": true,
            "ticks": "",
            "zerolinecolor": "white"
           },
           "yaxis": {
            "backgroundcolor": "#E5ECF6",
            "gridcolor": "white",
            "gridwidth": 2,
            "linecolor": "white",
            "showbackground": true,
            "ticks": "",
            "zerolinecolor": "white"
           },
           "zaxis": {
            "backgroundcolor": "#E5ECF6",
            "gridcolor": "white",
            "gridwidth": 2,
            "linecolor": "white",
            "showbackground": true,
            "ticks": "",
            "zerolinecolor": "white"
           }
          },
          "shapedefaults": {
           "line": {
            "color": "#2a3f5f"
           }
          },
          "ternary": {
           "aaxis": {
            "gridcolor": "white",
            "linecolor": "white",
            "ticks": ""
           },
           "baxis": {
            "gridcolor": "white",
            "linecolor": "white",
            "ticks": ""
           },
           "bgcolor": "#E5ECF6",
           "caxis": {
            "gridcolor": "white",
            "linecolor": "white",
            "ticks": ""
           }
          },
          "title": {
           "x": 0.05
          },
          "xaxis": {
           "automargin": true,
           "gridcolor": "white",
           "linecolor": "white",
           "ticks": "",
           "title": {
            "standoff": 15
           },
           "zerolinecolor": "white",
           "zerolinewidth": 2
          },
          "yaxis": {
           "automargin": true,
           "gridcolor": "white",
           "linecolor": "white",
           "ticks": "",
           "title": {
            "standoff": 15
           },
           "zerolinecolor": "white",
           "zerolinewidth": 2
          }
         }
        },
        "title": {
         "text": "GPT-4 (4000MT, 0T, 0FP) - Question length distribution"
        },
        "xaxis": {
         "title": {
          "text": "Length"
         }
        },
        "yaxis": {
         "title": {
          "text": "Frequency"
         }
        }
       }
      }
     },
     "metadata": {},
     "output_type": "display_data"
    }
   ],
   "source": [
    "plot_length_distribution_comparison_with_ref(gpt_4_0t_0fp.ground_truth_questions, gpt_4_0t_0fp.zero_shot_questions, gpt_4_0t_0fp.one_shot_questions, pairs[0][\"id\"])"
   ]
  },
  {
   "cell_type": "code",
   "execution_count": 15,
   "metadata": {},
   "outputs": [
    {
     "data": {
      "application/vnd.plotly.v1+json": {
       "config": {
        "plotlyServerURL": "https://plot.ly"
       },
       "data": [
        {
         "fill": "tozeroy",
         "fillcolor": "rgba(8, 141, 165, 0.2)",
         "legendgroup": "Reference",
         "marker": {
          "color": "#088DA5"
         },
         "mode": "lines",
         "name": "Reference",
         "showlegend": true,
         "type": "scatter",
         "x": [
          1,
          1.04,
          1.08,
          1.12,
          1.16,
          1.2,
          1.24,
          1.28,
          1.32,
          1.3599999999999999,
          1.4,
          1.44,
          1.48,
          1.52,
          1.56,
          1.6,
          1.6400000000000001,
          1.6800000000000002,
          1.72,
          1.76,
          1.8,
          1.8399999999999999,
          1.88,
          1.92,
          1.96,
          2,
          2.04,
          2.08,
          2.12,
          2.16,
          2.2,
          2.24,
          2.2800000000000002,
          2.3200000000000003,
          2.3600000000000003,
          2.4,
          2.44,
          2.48,
          2.52,
          2.56,
          2.6,
          2.6399999999999997,
          2.6799999999999997,
          2.7199999999999998,
          2.76,
          2.8,
          2.84,
          2.88,
          2.92,
          2.96,
          3,
          3.04,
          3.08,
          3.12,
          3.16,
          3.2,
          3.24,
          3.28,
          3.32,
          3.36,
          3.4,
          3.44,
          3.48,
          3.52,
          3.56,
          3.6,
          3.64,
          3.68,
          3.72,
          3.76,
          3.8,
          3.84,
          3.88,
          3.92,
          3.96,
          4,
          4.04,
          4.08,
          4.12,
          4.16,
          4.2,
          4.24,
          4.279999999999999,
          4.32,
          4.359999999999999,
          4.4,
          4.4399999999999995,
          4.48,
          4.52,
          4.5600000000000005,
          4.6,
          4.640000000000001,
          4.68,
          4.720000000000001,
          4.76,
          4.8,
          4.84,
          4.88,
          4.92,
          4.96,
          5,
          5.04,
          5.08,
          5.12,
          5.16,
          5.2,
          5.24,
          5.28,
          5.32,
          5.36,
          5.4,
          5.44,
          5.48,
          5.52,
          5.56,
          5.6,
          5.64,
          5.68,
          5.72,
          5.76,
          5.8,
          5.84,
          5.88,
          5.92,
          5.96,
          6,
          6.04,
          6.08,
          6.12,
          6.16,
          6.2,
          6.24,
          6.28,
          6.32,
          6.36,
          6.4,
          6.44,
          6.48,
          6.52,
          6.56,
          6.6,
          6.64,
          6.68,
          6.72,
          6.76,
          6.8,
          6.84,
          6.88,
          6.92,
          6.96,
          7,
          7.04,
          7.08,
          7.12,
          7.16,
          7.2,
          7.24,
          7.28,
          7.32,
          7.36,
          7.4,
          7.44,
          7.48,
          7.52,
          7.56,
          7.6,
          7.64,
          7.68,
          7.72,
          7.76,
          7.8,
          7.84,
          7.88,
          7.92,
          7.96,
          8,
          8.04,
          8.08,
          8.120000000000001,
          8.16,
          8.2,
          8.24,
          8.280000000000001,
          8.32,
          8.36,
          8.4,
          8.440000000000001,
          8.48,
          8.52,
          8.559999999999999,
          8.6,
          8.64,
          8.68,
          8.719999999999999,
          8.76,
          8.8,
          8.84,
          8.879999999999999,
          8.92,
          8.96,
          9,
          9.04,
          9.08,
          9.12,
          9.16,
          9.2,
          9.24,
          9.28,
          9.32,
          9.36,
          9.4,
          9.44,
          9.48,
          9.52,
          9.56,
          9.6,
          9.64,
          9.68,
          9.72,
          9.76,
          9.8,
          9.84,
          9.88,
          9.92,
          9.96,
          10,
          10.04,
          10.08,
          10.12,
          10.16,
          10.2,
          10.24,
          10.28,
          10.32,
          10.36,
          10.4,
          10.44,
          10.48,
          10.52,
          10.56,
          10.6,
          10.64,
          10.68,
          10.72,
          10.76,
          10.8,
          10.84,
          10.88,
          10.92,
          10.96,
          11,
          11.04,
          11.08,
          11.12,
          11.16,
          11.2,
          11.24,
          11.28,
          11.32,
          11.36,
          11.4,
          11.44,
          11.48,
          11.52,
          11.56,
          11.6,
          11.64,
          11.68,
          11.72,
          11.76,
          11.8,
          11.84,
          11.88,
          11.92,
          11.96,
          12,
          12.04,
          12.08,
          12.12,
          12.16,
          12.2,
          12.24,
          12.28,
          12.32,
          12.36,
          12.4,
          12.44,
          12.48,
          12.52,
          12.56,
          12.6,
          12.64,
          12.68,
          12.72,
          12.76,
          12.8,
          12.84,
          12.88,
          12.92,
          12.96,
          13,
          13.04,
          13.08,
          13.12,
          13.16,
          13.2,
          13.24,
          13.28,
          13.32,
          13.36,
          13.4,
          13.44,
          13.48,
          13.52,
          13.56,
          13.6,
          13.64,
          13.68,
          13.72,
          13.76,
          13.8,
          13.84,
          13.88,
          13.92,
          13.96,
          14,
          14.04,
          14.08,
          14.12,
          14.16,
          14.2,
          14.24,
          14.28,
          14.32,
          14.36,
          14.4,
          14.44,
          14.48,
          14.52,
          14.56,
          14.6,
          14.64,
          14.68,
          14.72,
          14.76,
          14.8,
          14.84,
          14.88,
          14.92,
          14.96,
          15,
          15.04,
          15.08,
          15.12,
          15.16,
          15.2,
          15.24,
          15.28,
          15.32,
          15.36,
          15.4,
          15.44,
          15.48,
          15.52,
          15.56,
          15.6,
          15.64,
          15.68,
          15.72,
          15.76,
          15.8,
          15.84,
          15.88,
          15.92,
          15.96,
          16,
          16.04,
          16.08,
          16.119999999999997,
          16.16,
          16.2,
          16.240000000000002,
          16.28,
          16.32,
          16.36,
          16.4,
          16.439999999999998,
          16.48,
          16.52,
          16.560000000000002,
          16.6,
          16.64,
          16.68,
          16.72,
          16.759999999999998,
          16.8,
          16.84,
          16.880000000000003,
          16.92,
          16.96,
          17,
          17.04,
          17.08,
          17.12,
          17.16,
          17.2,
          17.24,
          17.28,
          17.32,
          17.36,
          17.4,
          17.44,
          17.48,
          17.52,
          17.56,
          17.6,
          17.64,
          17.68,
          17.72,
          17.76,
          17.8,
          17.84,
          17.88,
          17.92,
          17.96,
          18,
          18.04,
          18.08,
          18.12,
          18.16,
          18.2,
          18.24,
          18.28,
          18.32,
          18.36,
          18.4,
          18.44,
          18.48,
          18.52,
          18.56,
          18.6,
          18.64,
          18.68,
          18.72,
          18.76,
          18.8,
          18.84,
          18.88,
          18.92,
          18.96,
          19,
          19.04,
          19.08,
          19.12,
          19.16,
          19.2,
          19.24,
          19.28,
          19.32,
          19.36,
          19.4,
          19.44,
          19.48,
          19.52,
          19.56,
          19.6,
          19.64,
          19.68,
          19.72,
          19.76,
          19.8,
          19.84,
          19.88,
          19.92,
          19.96,
          20,
          20.04,
          20.08,
          20.12,
          20.16,
          20.2,
          20.24,
          20.28,
          20.32,
          20.36,
          20.4,
          20.44,
          20.48,
          20.52,
          20.56,
          20.6,
          20.64,
          20.68,
          20.72,
          20.76,
          20.8,
          20.84,
          20.88,
          20.92,
          20.96
         ],
         "xaxis": "x",
         "y": [
          0.02731455564816039,
          0.02767050281266221,
          0.02802181392868185,
          0.02836826779447189,
          0.02870964920731328,
          0.029045749355004553,
          0.029376366198928267,
          0.02970130484799871,
          0.030020377922819325,
          0.030333405909406957,
          0.03064021750186562,
          0.030940649933421504,
          0.031234549295258537,
          0.03152177084262358,
          0.031802179287699676,
          0.03207564907877333,
          0.0323420646652537,
          0.03260132074812846,
          0.03285332251547079,
          0.03309798586264038,
          0.03333523759684926,
          0.03356501562579026,
          0.0337872691300531,
          0.034001958719078816,
          0.03420905657042768,
          0.034408546552162154,
          0.034600424328166623,
          0.03478469744625151,
          0.03496138540890862,
          0.035130519726606343,
          0.035292143953532355,
          0.035446313705711496,
          0.03559309666144357,
          0.035732572544022644,
          0.035864833086717764,
          0.03598998198000833,
          0.036108134801084844,
          0.036219418925638444,
          0.03632397342197794,
          0.03642194892752736,
          0.03651350750776811,
          0.036598822497707004,
          0.036678078325961504,
          0.03675147032156865,
          0.03681920450363732,
          0.036881497353977645,
          0.036938575572855015,
          0.03699067581803205,
          0.03703804442727602,
          0.037080937124526044,
          0.03711961870993203,
          0.037154362733992516,
          0.03718545115604084,
          0.03721317398734592,
          0.03723782891911625,
          0.03725972093571698,
          0.03727916191343362,
          0.037296470205140216,
          0.037311970211254035,
          0.03732599193738807,
          0.03733887053913751,
          0.03735094585446813,
          0.03736256192420245,
          0.037374066501131994,
          0.03738581054831582,
          0.03739814772715795,
          0.03741143387589077,
          0.037426026479125296,
          0.037442284129164796,
          0.03746056597981211,
          0.03748123119343868,
          0.03750463838211613,
          0.037531145043649426,
          0.03756110699338293,
          0.0375948777926869,
          0.03763280817506576,
          0.037675245470859875,
          0.03772253303154793,
          0.037775009654683264,
          0.03783300901052871,
          0.03789685907147909,
          0.03796688154538702,
          0.0380433913139276,
          0.03812669587715846,
          0.038217094805448194,
          0.03831487919995945,
          0.03842033116288393,
          0.03853372327863342,
          0.03865531810719392,
          0.03878536769085118,
          0.03892411307548979,
          0.03907178384766089,
          0.03922859768860079,
          0.039394759946365925,
          0.03957046322722748,
          0.039755887007445485,
          0.03995119726650884,
          0.04015654614289587,
          0.040372071613368615,
          0.040597897196771,
          0.04083413168325275,
          0.041080868889787514,
          0.04133818744279751,
          0.04160615058863428,
          0.04188480603260158,
          0.042174185807134945,
          0.04247430616968237,
          0.04278516753075109,
          0.043106754412507935,
          0.0434390354382377,
          0.04378196335287779,
          0.04413547507476129,
          0.04449949177860941,
          0.04487391900972365,
          0.04525864682923595,
          0.04565354999017951,
          0.046058488144050946,
          0.046473306077438305,
          0.04689783397819621,
          0.047331887730555314,
          0.04777526923846124,
          0.04822776677634644,
          0.04868915536645007,
          0.049159197181713854,
          0.04963764197319741,
          0.05012422752087629,
          0.05061868010660849,
          0.05112071500798092,
          0.051630037011679876,
          0.052146340944963024,
          0.05266931222375239,
          0.053198627415813965,
          0.05373395481743919,
          0.05427495504200293,
          0.054821281618735396,
          0.055372581600014695,
          0.05592849617546455,
          0.056488661291123454,
          0.05705270827194219,
          0.05762026444586461,
          0.05819095376774784,
          0.05876439744139241,
          0.05934021453796804,
          0.059918022609147505,
          0.06049743829329173,
          0.061078077913068955,
          0.06165955806293513,
          0.06224149618495483,
          0.06282351113150024,
          0.06340522371342874,
          0.06398625723240978,
          0.06456623799614722,
          0.06514479581532086,
          0.06572156448115972,
          0.06629618222264277,
          0.0668682921424209,
          0.06743754263064639,
          0.06800358775599546,
          0.06856608763327288,
          0.06912470876708755,
          0.06967912437119536,
          0.07022901466320955,
          0.07077406713448525,
          0.07131397679509034,
          0.07184844639387976,
          0.07237718661379448,
          0.07289991624260811,
          0.07341636231944368,
          0.07392626025748071,
          0.07442935394336674,
          0.07492539581393602,
          0.07541414691092584,
          0.07589537691446169,
          0.07636886415615857,
          0.07683439561275683,
          0.0772917668812764,
          0.07774078213673352,
          0.07818125407351463,
          0.07861300383155162,
          0.07903586090847925,
          0.07944966305899184,
          0.07985425618263872,
          0.08024949420131748,
          0.08063523892773798,
          0.08101135992612972,
          0.08137773436646596,
          0.08173424687346569,
          0.0820807893716177,
          0.08241726092744847,
          0.08274356759022151,
          0.08305962223222174,
          0.08336534438973374,
          0.08366066010577325,
          0.08394550177557597,
          0.08421980799578847,
          0.08448352341824093,
          0.08473659860910943,
          0.08497898991420703,
          0.0852106593310605,
          0.08543157438835239,
          0.08564170803322511,
          0.08584103852685993,
          0.08602954934865246,
          0.08620722910922834,
          0.08637407147244319,
          0.08653007508643532,
          0.08667524352370176,
          0.08680958523008954,
          0.0869331134825056,
          0.08704584635506812,
          0.08714780669334099,
          0.08723902209621774,
          0.08731952490494573,
          0.08738935219871566,
          0.08744854579617158,
          0.0874971522621412,
          0.08753522291882691,
          0.08756281386065191,
          0.08757998597190729,
          0.08758680494631203,
          0.0875833413075635,
          0.08756967042992841,
          0.08754587255790988,
          0.08751203282400837,
          0.08746824126359115,
          0.08741459282588306,
          0.08735118738010243,
          0.08727812971577381,
          0.08719552953627588,
          0.08710350144470216,
          0.08700216492115485,
          0.08689164429061821,
          0.0867720686806139,
          0.0866435719678848,
          0.0865062927134101,
          0.08636037408511438,
          0.08620596376769982,
          0.08604321385909747,
          0.08587228075310763,
          0.08569332500787415,
          0.08550651119991769,
          0.08531200776353369,
          0.08510998681544439,
          0.08490062396467848,
          0.08468409810773994,
          0.08446059120921277,
          0.084230288068034,
          0.08399337606975715,
          0.0837500449252111,
          0.08350048639604339,
          0.08324489400772177,
          0.08298346275064636,
          0.08271638877010175,
          0.08244386904585523,
          0.08216610106227526,
          0.08188328246991547,
          0.08159561073956854,
          0.08130328280985381,
          0.08100649472945932,
          0.08070544129520299,
          0.08040031568712158,
          0.08009130910183852,
          0.07977861038548395,
          0.07946240566747827,
          0.07914287799649676,
          0.07882020697995926,
          0.07849456842838558,
          0.07816613400596616,
          0.07783507088868553,
          0.07750154143133235,
          0.07716570284470303,
          0.07682770688428993,
          0.07648769955171057,
          0.07614582081010184,
          0.07580220431465733,
          0.07545697715944547,
          0.07511025964158813,
          0.07476216504382645,
          0.07441279943643592,
          0.07406226149938898,
          0.0737106423655936,
          0.07335802548595692,
          0.07300448651695324,
          0.0726500932312895,
          0.07229490545217973,
          0.07193897501165379,
          0.07158234573324047,
          0.07122505343927024,
          0.07086712598295984,
          0.07050858330534124,
          0.0701494375170146,
          0.06978969300460541,
          0.06942934656171869,
          0.06906838754409172,
          0.0687067980485584,
          0.0683445531153463,
          0.06798162095314551,
          0.06761796318630352,
          0.06725353512341695,
          0.0668882860465131,
          0.06652215951994114,
          0.06615509371801703,
          0.06578702177039909,
          0.06541787212411027,
          0.06504756892105537,
          0.06467603238983453,
          0.06430317925059605,
          0.06392892313162814,
          0.06355317499634901,
          0.06317584357931487,
          0.06279683582983708,
          0.06241605736177224,
          0.06203341290802869,
          0.0616488067783185,
          0.06126214331867176,
          0.060873327371228504,
          0.06048226473282289,
          0.060088862610880235,
          0.05969303007516009,
          0.059294678503895325,
          0.058893722022897485,
          0.05849007793622842,
          0.058083667147067086,
          0.05767441456743897,
          0.05726224951551641,
          0.05684710609924055,
          0.056428923585072746,
          0.05600764675072548,
          0.05558322622079327,
          0.05515561878425164,
          0.05472478769286868,
          0.054290702939629946,
          0.053853341516356255,
          0.05341268764975903,
          0.052968733015256945,
          0.05252147692795204,
          0.05207092651024147,
          0.05161709683561966,
          0.05116001104830897,
          0.05069970045843201,
          0.05023620461252665,
          0.04976957133928113,
          0.04929985677045069,
          0.048827125336996624,
          0.04835144974056943,
          0.047872910900536005,
          0.04739159787682867,
          0.04690760776896985,
          0.046421045591701134,
          0.04593202412771574,
          0.04544066375806407,
          0.04494709227087092,
          0.04445144464906312,
          0.04395386283787244,
          0.0434544954929318,
          0.04295349770984298,
          0.04245103073613988,
          0.041947261666622805,
          0.04144236312308089,
          0.04093651291946039,
          0.040429893713571016,
          0.0399226926464567,
          0.039415100970579806,
          0.03890731366799766,
          0.03839952905972113,
          0.037891948407466104,
          0.03738477550901594,
          0.03687821628841757,
          0.03637247838223929,
          0.035867770723111835,
          0.03536430312176996,
          0.034862285848800245,
          0.03436192921728527,
          0.03386344316751821,
          0.03336703685493512,
          0.032872918242391386,
          0.03238129369787507,
          0.03189236759872034,
          0.03140634194334494,
          0.030923415971502666,
          0.030443785793991998,
          0.029967644032726785,
          0.029495179472022653,
          0.029026576721906054,
          0.028562015894204082,
          0.02810167229211884,
          0.027645716113938915,
          0.027194312171483524,
          0.026747619623822255,
          0.026305791726754003,
          0.02586897559847468,
          0.025437312001803745,
          0.02501093514328359,
          0.024589972489409844,
          0.024174544600190594,
          0.023764764980181142,
          0.023360739947080905,
          0.02296256851792865,
          0.022570342312876537,
          0.022184145476471955,
          0.021804054616327822,
          0.02143013875901014,
          0.021062459322927437,
          0.02070107010795997,
          0.020346017301525594,
          0.019997339500735324,
          0.019655067750257636,
          0.019319225595469714,
          0.018989829150444157,
          0.018666887180285658,
          0.01835040119730509,
          0.018040365570491927,
          0.01773676764772239,
          0.017439587890119335,
          0.01714880001796246,
          0.01686437116753171,
          0.01658626205825203,
          0.016314427169498966,
          0.016048814926415654,
          0.015789367894085155,
          0.015536022979400382,
          0.015288711639970852,
          0.015047360099408644,
          0.01481188956833714,
          0.014582216470472793,
          0.01435825267313632,
          0.014139905721559841,
          0.013927079076365336,
          0.013719672353604148,
          0.01351758156675893,
          0.013320699370125902,
          0.013128915303011057,
          0.012942116034190888,
          0.012760185606107794,
          0.01258300567828755,
          0.012410455769488649,
          0.012242413498111712,
          0.012078754820419837,
          0.01191935426614105,
          0.011764085171047095,
          0.011612819906123551,
          0.011465430102969175,
          0.011321786875084354,
          0.011181761034729771,
          0.01104522330505963,
          0.010912044527253816,
          0.010782095862395355,
          0.010655248987860832,
          0.010531376288010357,
          0.01041035103898504,
          0.010292047587438301,
          0.01017634152304647,
          0.01006310984466171,
          0.00995223111998873,
          0.009843585638681951,
          0.009737055558777302,
          0.00963252504638722,
          0.00952988040860231,
          0.009429010219557115,
          0.009329805439630339,
          0.009232159527762554,
          0.009135968546886229,
          0.009041131262473872,
          0.00894754923422047,
          0.00885512690088666,
          0.008763771658337867,
          0.008673393930823345,
          0.008583907235547623,
          0.00849522824059372,
          0.008407276816265545,
          0.008319976079922705,
          0.008233252434387838,
          0.008147035600012616,
          0.008061258640493306,
          0.007975857982533245,
          0.007890773429453731,
          0.0078059481688600146,
          0.007721328774473692,
          0.00763686520224688,
          0.0075525107808783925,
          0.0074682221968556655,
          0.007383959474150646,
          0.00729968594870158,
          0.007215368237816785,
          0.007130976204639794,
          0.007046482917819726,
          0.006961864606534083,
          0.006877100611014792,
          0.006792173328732256,
          0.006707068156396043,
          0.006621773427933677,
          0.006536280348613675,
          0.006450582925481567,
          0.006364677894281778,
          0.006278564643041359,
          0.006192245132495113,
          0.006105723813534678,
          0.006019007541867434,
          0.005932105490074203,
          0.005845029057257182
         ],
         "yaxis": "y"
        },
        {
         "fill": "tozeroy",
         "fillcolor": "rgba(208, 0, 111, 0.2)",
         "legendgroup": "Zero-Shot",
         "marker": {
          "color": "#D0006F"
         },
         "mode": "lines",
         "name": "Zero-Shot",
         "showlegend": true,
         "type": "scatter",
         "x": [
          6,
          6.028,
          6.056,
          6.084,
          6.112,
          6.14,
          6.168,
          6.196,
          6.224,
          6.252,
          6.28,
          6.308,
          6.336,
          6.364,
          6.392,
          6.42,
          6.448,
          6.476,
          6.504,
          6.532,
          6.5600000000000005,
          6.588,
          6.616,
          6.644,
          6.672,
          6.7,
          6.728,
          6.756,
          6.784,
          6.812,
          6.84,
          6.868,
          6.896,
          6.924,
          6.952,
          6.98,
          7.008,
          7.036,
          7.064,
          7.0920000000000005,
          7.12,
          7.148,
          7.176,
          7.204,
          7.232,
          7.26,
          7.288,
          7.316,
          7.344,
          7.372,
          7.4,
          7.428,
          7.4559999999999995,
          7.484,
          7.5120000000000005,
          7.54,
          7.568,
          7.596,
          7.6240000000000006,
          7.652,
          7.68,
          7.708,
          7.736,
          7.764,
          7.792,
          7.82,
          7.848,
          7.8759999999999994,
          7.904,
          7.932,
          7.96,
          7.9879999999999995,
          8.016,
          8.044,
          8.072,
          8.1,
          8.128,
          8.156,
          8.184000000000001,
          8.212,
          8.24,
          8.268,
          8.296,
          8.324,
          8.352,
          8.379999999999999,
          8.408,
          8.436,
          8.464,
          8.492,
          8.52,
          8.548,
          8.576,
          8.604,
          8.632,
          8.66,
          8.688,
          8.716000000000001,
          8.744,
          8.772,
          8.8,
          8.828,
          8.856,
          8.884,
          8.911999999999999,
          8.94,
          8.968,
          8.996,
          9.024000000000001,
          9.052,
          9.08,
          9.108,
          9.136,
          9.164,
          9.192,
          9.22,
          9.248000000000001,
          9.276,
          9.304,
          9.332,
          9.36,
          9.388,
          9.416,
          9.443999999999999,
          9.472,
          9.5,
          9.528,
          9.556000000000001,
          9.584,
          9.612,
          9.64,
          9.668,
          9.696,
          9.724,
          9.751999999999999,
          9.78,
          9.808,
          9.836,
          9.864,
          9.892,
          9.92,
          9.948,
          9.975999999999999,
          10.004,
          10.032,
          10.059999999999999,
          10.088000000000001,
          10.116,
          10.144,
          10.172,
          10.2,
          10.228,
          10.256,
          10.283999999999999,
          10.312000000000001,
          10.34,
          10.368,
          10.396,
          10.424,
          10.452,
          10.48,
          10.508,
          10.536,
          10.564,
          10.591999999999999,
          10.620000000000001,
          10.648,
          10.676,
          10.704,
          10.732,
          10.76,
          10.788,
          10.815999999999999,
          10.844000000000001,
          10.872,
          10.9,
          10.928,
          10.956,
          10.984,
          11.012,
          11.04,
          11.068,
          11.096,
          11.123999999999999,
          11.152000000000001,
          11.18,
          11.208,
          11.236,
          11.264,
          11.292,
          11.32,
          11.347999999999999,
          11.376000000000001,
          11.404,
          11.432,
          11.46,
          11.488,
          11.516,
          11.544,
          11.572,
          11.6,
          11.628,
          11.655999999999999,
          11.684000000000001,
          11.712,
          11.74,
          11.768,
          11.796,
          11.824,
          11.852,
          11.879999999999999,
          11.908000000000001,
          11.936,
          11.964,
          11.992,
          12.02,
          12.048,
          12.076,
          12.104,
          12.132,
          12.16,
          12.187999999999999,
          12.216000000000001,
          12.244,
          12.272,
          12.3,
          12.328,
          12.356,
          12.384,
          12.411999999999999,
          12.440000000000001,
          12.468,
          12.496,
          12.524000000000001,
          12.552,
          12.58,
          12.608,
          12.636,
          12.664,
          12.692,
          12.719999999999999,
          12.748000000000001,
          12.776,
          12.804,
          12.832,
          12.86,
          12.888,
          12.916,
          12.943999999999999,
          12.972000000000001,
          13,
          13.027999999999999,
          13.056000000000001,
          13.084,
          13.112,
          13.14,
          13.168,
          13.196,
          13.224,
          13.251999999999999,
          13.280000000000001,
          13.308,
          13.336,
          13.364,
          13.392,
          13.42,
          13.448,
          13.475999999999999,
          13.504,
          13.532,
          13.559999999999999,
          13.588000000000001,
          13.616,
          13.644,
          13.672,
          13.7,
          13.728,
          13.756,
          13.783999999999999,
          13.812000000000001,
          13.84,
          13.868,
          13.896,
          13.924,
          13.952,
          13.98,
          14.008,
          14.036,
          14.064,
          14.092,
          14.12,
          14.148,
          14.176,
          14.204,
          14.232,
          14.26,
          14.288,
          14.316,
          14.344,
          14.372,
          14.4,
          14.428,
          14.456,
          14.484,
          14.512,
          14.54,
          14.568,
          14.596,
          14.624,
          14.652,
          14.68,
          14.708,
          14.736,
          14.764,
          14.792,
          14.82,
          14.848,
          14.876,
          14.904,
          14.932,
          14.96,
          14.988,
          15.016,
          15.044,
          15.072,
          15.1,
          15.128,
          15.156,
          15.184,
          15.212,
          15.24,
          15.268,
          15.296,
          15.324,
          15.352,
          15.38,
          15.408,
          15.436,
          15.464,
          15.492,
          15.52,
          15.548,
          15.576,
          15.604,
          15.632,
          15.66,
          15.688,
          15.716,
          15.744,
          15.772,
          15.8,
          15.828,
          15.856,
          15.884,
          15.912,
          15.94,
          15.968,
          15.996,
          16.024,
          16.052,
          16.08,
          16.108,
          16.136,
          16.164,
          16.192,
          16.22,
          16.247999999999998,
          16.276,
          16.304000000000002,
          16.332,
          16.36,
          16.387999999999998,
          16.416,
          16.444000000000003,
          16.472,
          16.5,
          16.528,
          16.555999999999997,
          16.584,
          16.612000000000002,
          16.64,
          16.668,
          16.695999999999998,
          16.724,
          16.752000000000002,
          16.78,
          16.808,
          16.836,
          16.864,
          16.892,
          16.92,
          16.948,
          16.976,
          17.003999999999998,
          17.032,
          17.060000000000002,
          17.088,
          17.116,
          17.144,
          17.172,
          17.2,
          17.228,
          17.256,
          17.284,
          17.311999999999998,
          17.34,
          17.368000000000002,
          17.396,
          17.424,
          17.451999999999998,
          17.48,
          17.508,
          17.536,
          17.564,
          17.592,
          17.619999999999997,
          17.648,
          17.676000000000002,
          17.704,
          17.732,
          17.759999999999998,
          17.788,
          17.816000000000003,
          17.844,
          17.872,
          17.9,
          17.928,
          17.956,
          17.984,
          18.012,
          18.04,
          18.067999999999998,
          18.096,
          18.124000000000002,
          18.152,
          18.18,
          18.208,
          18.236,
          18.264,
          18.292,
          18.32,
          18.348,
          18.375999999999998,
          18.404,
          18.432000000000002,
          18.46,
          18.488,
          18.516,
          18.544,
          18.572,
          18.6,
          18.628,
          18.656,
          18.683999999999997,
          18.712,
          18.740000000000002,
          18.768,
          18.796,
          18.823999999999998,
          18.852,
          18.880000000000003,
          18.908,
          18.936,
          18.964,
          18.992,
          19.02,
          19.048000000000002,
          19.076,
          19.104,
          19.131999999999998,
          19.16,
          19.188000000000002,
          19.216,
          19.244,
          19.272,
          19.3,
          19.328,
          19.356,
          19.384,
          19.412,
          19.439999999999998,
          19.468,
          19.496000000000002,
          19.524,
          19.552,
          19.58,
          19.608,
          19.636,
          19.664,
          19.692,
          19.72,
          19.747999999999998,
          19.776,
          19.804000000000002,
          19.832,
          19.86,
          19.887999999999998,
          19.916,
          19.944000000000003,
          19.972
         ],
         "xaxis": "x",
         "y": [
          0.03444319719109337,
          0.03528948623214502,
          0.03614777168153056,
          0.03701798541977446,
          0.037900050826822754,
          0.038793882577886,
          0.03969938644826863,
          0.040616459128678443,
          0.041544988052531394,
          0.04248485123677284,
          0.04343591713773718,
          0.044398044523553476,
          0.04537108236458292,
          0.046354869743337815,
          0.04734923578528873,
          0.048353999611904126,
          0.0493689703172025,
          0.050393946969011685,
          0.05142871863604117,
          0.05247306444176709,
          0.053526753646014676,
          0.054589545755000295,
          0.055661190660456814,
          0.05674142880832197,
          0.05782999139731619,
          0.05892660060757399,
          0.06003096985932301,
          0.06114280410143052,
          0.06226180012945561,
          0.06338764693265887,
          0.06452002606923571,
          0.06565861206884605,
          0.06680307286132434,
          0.06795307023026181,
          0.06910826028996532,
          0.07026829398411166,
          0.07143281760423421,
          0.07260147332600753,
          0.07377389976112322,
          0.07494973252239816,
          0.07612860479960146,
          0.07731014794335696,
          0.0784939920543466,
          0.079679766574937,
          0.08086710088025174,
          0.08205562486563679,
          0.08324496952740397,
          0.08443476753369257,
          0.08562465378227149,
          0.08681426594208957,
          0.08800324497541177,
          0.08919123563740032,
          0.09037788695007147,
          0.09156285264762883,
          0.09274579159027774,
          0.09392636814374837,
          0.0951042525218943,
          0.09627912108989839,
          0.09745065662580257,
          0.09861854853827602,
          0.09978249303875872,
          0.10094219326636088,
          0.1020973593641392,
          0.10324770850565697,
          0.10439296487100178,
          0.10553285957174065,
          0.10666713052458865,
          0.10779552227388618,
          0.10891778576329315,
          0.11003367805743718,
          0.11114296201457931,
          0.11224540591168253,
          0.11334078302359991,
          0.11442887115841524,
          0.11550945215128904,
          0.11658231131946427,
          0.11764723688138767,
          0.11870401934318445,
          0.11975245085599082,
          0.12079232454790652,
          0.12182343383456075,
          0.1228455717124949,
          0.1238585300397643,
          0.12486209880832239,
          0.1258560654128926,
          0.12684021392115472,
          0.12781432435015025,
          0.12877817195387772,
          0.1297315265270758,
          0.13067415173018448,
          0.13160580444045247,
          0.1325262341340852,
          0.13343518230424004,
          0.13433238191954738,
          0.13521755692768003,
          0.13609042180830588,
          0.13695068117955034,
          0.13779802946184175,
          0.13863215060275166,
          0.13945271786614377,
          0.14025939368862075,
          0.1410518296059284,
          0.1418296662516009,
          0.14259253342976252,
          0.1433400502636002,
          0.14407182542061348,
          0.14478745741532703,
          0.1454865349897251,
          0.14616863757123136,
          0.14683333580761818,
          0.14748019217779593,
          0.14810876167699355,
          0.14871859257440975,
          0.14930922724100024,
          0.14988020304464175,
          0.1504310533095247,
          0.15096130833623858,
          0.1514704964786495,
          0.15195814527332643,
          0.1524237826169511,
          0.1528669379868441,
          0.15328714369948185,
          0.15368393620162493,
          0.15405685738847477,
          0.15440545594309507,
          0.15472928869118485,
          0.15502792196517956,
          0.15530093297157613,
          0.15554791115533423,
          0.15576845955519653,
          0.1559621961438004,
          0.15612875514650557,
          0.1562677883329717,
          0.15637896627563508,
          0.156461979569407,
          0.15651654000710394,
          0.15654238170534945,
          0.15653926217593533,
          0.15650696333791952,
          0.1564452924660354,
          0.15635408307132678,
          0.15623319571026442,
          0.15608251871897946,
          0.1559019688696322,
          0.15569149194633078,
          0.15545106323843735,
          0.15518068794951212,
          0.15488040152057259,
          0.1545502698667844,
          0.15419038952712172,
          0.15380088772696857,
          0.15338192235406026,
          0.15293368184857356,
          0.15245638500859246,
          0.15195028071255867,
          0.15141564756071066,
          0.15085279343786684,
          0.1502620550002618,
          0.1496437970894677,
          0.1489984120767268,
          0.14832631914131522,
          0.14762796348679083,
          0.14690381549922124,
          0.14615436985167324,
          0.14538014455942305,
          0.14458167999048036,
          0.14375953783613662,
          0.14291430004632097,
          0.14204656773460828,
          0.1411569600577372,
          0.14024611307449353,
          0.13931467858877547,
          0.13836332298159987,
          0.13739272603670766,
          0.1364035797643254,
          0.1353965872274839,
          0.13437246137514547,
          0.13333192388619927,
          0.13227570402818167,
          0.1312045375343594,
          0.13011916550257172,
          0.1290203333189782,
          0.1279087896095955,
          0.12678528522223073,
          0.1256505722411382,
          0.12450540303644016,
          0.123350529350058,
          0.12218670141961276,
          0.12101466714145598,
          0.11983517127370455,
          0.11864895467987001,
          0.11745675361339254,
          0.1162592990431132,
          0.11505731601946981,
          0.1138515230809354,
          0.11264263169999865,
          0.11143134576774846,
          0.11021836111592292,
          0.10900436507509952,
          0.10779003606751345,
          0.10657604323285,
          0.10536304608521779,
          0.104151694199383,
          0.10294262692426226,
          0.10173647312158086,
          0.10053385092755268,
          0.09933536753540007,
          0.09814161899650772,
          0.09695319003801325,
          0.09577065389465186,
          0.09459457215270654,
          0.09342549460397898,
          0.09226395910776004,
          0.09111049145886477,
          0.08996560525990105,
          0.08882980179605438,
          0.08770356991079267,
          0.0865873858810352,
          0.08548171329047582,
          0.08438700289989973,
          0.08330369251349941,
          0.08223220684035432,
          0.08117295735041336,
          0.0801263421244876,
          0.07909274569793344,
          0.07807253889787812,
          0.07706607867401237,
          0.07607370792313568,
          0.07509575530781125,
          0.07413253506963441,
          0.07318434683777882,
          0.07225147543361979,
          0.07133419067237289,
          0.07043274716280791,
          0.0695473841062138,
          0.06867832509589242,
          0.06782577791855172,
          0.06698993435904604,
          0.06617097000997965,
          0.0653690440877443,
          0.06458429925659855,
          0.06381686146242792,
          0.06306683977783824,
          0.06233432626023361,
          0.061619395824522145,
          0.06092210613206323,
          0.06024249749743986,
          0.05958059281458383,
          0.058936397503725195,
          0.05830989948056681,
          0.05770106914900118,
          0.057109859418595976,
          0.05653620574797944,
          0.05598002621514166,
          0.05544122161556067,
          0.05491967558893619,
          0.05441525477518827,
          0.05392780900024985,
          0.05345717149204344,
          0.053003159126897625,
          0.05256557270651846,
          0.052144197265492916,
          0.05173880240915704,
          0.051349142681526995,
          0.05097495796285093,
          0.050615973896204064,
          0.05027190234241925,
          0.04994244186251543,
          0.04962727822666455,
          0.04932608494861817,
          0.049038523844404165,
          0.04876424561399655,
          0.048502890444564774,
          0.04825408863381412,
          0.04801746123184984,
          0.04779262069991571,
          0.0475791715842965,
          0.047376711203609846,
          0.047184830347666365,
          0.04700311398603195,
          0.04683114198439678,
          0.04666848982682894,
          0.04651472934197635,
          0.046369429431274374,
          0.04623215679721766,
          0.04610247666976495,
          0.04597995352896481,
          0.04586415182191475,
          0.04575463667220073,
          0.045650974580005096,
          0.04555273411111727,
          0.04545948657313752,
          0.04537080667722182,
          0.04528627318378461,
          0.04520546953064423,
          0.04512798444217472,
          0.045053412518105136,
          0.04498135480069424,
          0.04491141931909418,
          0.044843221609808664,
          0.044776385212243516,
          0.04471054213844452,
          0.04464533331621182,
          0.044580409004881374,
          0.04451542918316145,
          0.04445006390851264,
          0.04438399364765805,
          0.04431690957791186,
          0.0442485138591114,
          0.04417851987603519,
          0.0441066524512867,
          0.0440326480287169,
          0.04395625482755036,
          0.043877232967471036,
          0.04379535456500919,
          0.043710403801656764,
          0.04362217696421819,
          0.04353048245798217,
          0.043435140793373475,
          0.04333598454681514,
          0.043232858296595934,
          0.04312561853460207,
          0.04301413355482882,
          0.04289828331964149,
          0.04277795930480495,
          0.04265306432434349,
          0.04252351233633494,
          0.04238922823077582,
          0.042250147600685684,
          0.04210621649764367,
          0.0419573911729707,
          0.0418036378057869,
          0.04164493221918431,
          0.04148125958576016,
          0.04131261412375924,
          0.04113899878506828,
          0.040960424936298735,
          0.04077691203418055,
          0.04058848729647404,
          0.040395185369583794,
          0.040197047994034577,
          0.03999412366893905,
          0.03978646731655418,
          0.039574139947984956,
          0.039357208331055764,
          0.03913574466132385,
          0.03890982623716375,
          0.03867953513980127,
          0.0384449579191238,
          0.03820618528603985,
          0.03796331181210069,
          0.03771643563704443,
          0.03746565818485671,
          0.037211083888885006,
          0.03695281992648027,
          0.03669097596357559,
          0.0364256639095495,
          0.03615699768265919,
          0.035885092986262676,
          0.03561006709598983,
          0.035332038657957594,
          0.03505112749806615,
          0.03476745444235211,
          0.03448114114831756,
          0.034192309947097564,
          0.03390108369627657,
          0.03360758564311071,
          0.03331193929786612,
          0.033014268316937996,
          0.032714696395369794,
          0.03241334716835638,
          0.0321103441212761,
          0.03180581050776497,
          0.03149986927531873,
          0.031192642997881145,
          0.030884253814858518,
          0.03057482337598145,
          0.03026447279142161,
          0.02995332258656415,
          0.02964149266082889,
          0.02932910224993305,
          0.02901626989099186,
          0.028703113389859435,
          0.02838974979012114,
          0.028076295343167048,
          0.02776286547878669,
          0.027449574775754812,
          0.027136536931892684,
          0.026823864733126455,
          0.02651167002108361,
          0.026200063658810682,
          0.025889155494223742,
          0.02557905432094203,
          0.025269867836196024,
          0.024961702595537736,
          0.024654663964126997,
          0.024348856064405813,
          0.024044381720020862,
          0.02374134239589498,
          0.023439838134394125,
          0.023139967487580747,
          0.02284182744558674,
          0.022545513361184946,
          0.02225111887067754,
          0.02195873581126387,
          0.021668454135087185,
          0.02138036182020059,
          0.021094544778727395,
          0.020811086762524793,
          0.020530069266695244,
          0.020251571431314952,
          0.01997566994178058,
          0.019702438928195714,
          0.019431949864245145,
          0.019164271466018158,
          0.018899469591263162,
          0.01863760713956455,
          0.018378743953945734,
          0.018122936724405868,
          0.01787023889390264,
          0.01762070056729481,
          0.017374368423752177,
          0.01713128563313853,
          0.016891491776860994,
          0.01665502277366965,
          0.01642191081087614,
          0.016192184281441792,
          0.015965867727367786,
          0.015742981789796034,
          0.015523543166206015,
          0.015307564575065885,
          0.015095054728267597,
          0.014886018311645996,
          0.014680455973849161,
          0.014478364323795267,
          0.014279735936915335,
          0.014084559370347539,
          0.013892819187211015,
          0.013704495990051363,
          0.013519566463512066,
          0.013338003426249335,
          0.013159775892069812,
          0.012984849140233491,
          0.01281318479482744,
          0.012644740913078982,
          0.012479472082441559,
          0.012317329526251627,
          0.012158261217720338,
          0.012002212001991936,
          0.011849123725968238,
          0.011698935375568709,
          0.011551583220067574,
          0.011407000963121172,
          0.01126511990007435,
          0.011125869081110676,
          0.010989175479789367,
          0.010854964166492457,
          0.010723158486287477,
          0.010593680240695147,
          0.010466449872838087,
          0.010341386655434555,
          0.010218408881091401,
          0.010097434054343614,
          0.009978379084881757,
          0.009861160481405397,
          0.009745694545539701,
          0.009631897565252496,
          0.009519686007212608,
          0.00940897670753455,
          0.00929968706036133,
          0.009191735203746164,
          0.009085040202303874,
          0.008979522226114716,
          0.008875102725377991,
          0.008771704600327748,
          0.008669252365939963,
          0.008567672310979494,
          0.00846689265095474,
          0.008366843674569488,
          0.008267457883284021,
          0.008168670123620976,
          0.008070417711876816,
          0.00797264055092505,
          0.007875281238824269,
          0.007778285168971672,
          0.007681600621570856,
          0.007585178846211355,
          0.0074889741353870495,
          0.007392943888810114,
          0.007297048668407175,
          0.007201252243915049,
          0.007105521629023322,
          0.007009827108041886,
          0.006914142253101892,
          0.006818443931928042,
          0.006722712306251347,
          0.006626930820959804,
          0.0065310861841138355,
          0.006435168337982306,
          0.006339170421281645
         ],
         "yaxis": "y"
        },
        {
         "fill": "tozeroy",
         "fillcolor": "rgba(55, 32, 130, 0.2)",
         "legendgroup": "One-Shot",
         "marker": {
          "color": "#372082"
         },
         "mode": "lines",
         "name": "One-Shot",
         "showlegend": true,
         "type": "scatter",
         "x": [
          5,
          5.03,
          5.06,
          5.09,
          5.12,
          5.15,
          5.18,
          5.21,
          5.24,
          5.27,
          5.3,
          5.33,
          5.36,
          5.39,
          5.42,
          5.45,
          5.48,
          5.51,
          5.54,
          5.57,
          5.6,
          5.63,
          5.66,
          5.6899999999999995,
          5.72,
          5.75,
          5.78,
          5.8100000000000005,
          5.84,
          5.87,
          5.9,
          5.93,
          5.96,
          5.99,
          6.02,
          6.05,
          6.08,
          6.11,
          6.14,
          6.17,
          6.2,
          6.23,
          6.26,
          6.29,
          6.32,
          6.35,
          6.38,
          6.41,
          6.4399999999999995,
          6.47,
          6.5,
          6.53,
          6.5600000000000005,
          6.59,
          6.62,
          6.65,
          6.68,
          6.71,
          6.74,
          6.77,
          6.8,
          6.83,
          6.86,
          6.89,
          6.92,
          6.95,
          6.98,
          7.01,
          7.04,
          7.07,
          7.1,
          7.13,
          7.16,
          7.1899999999999995,
          7.220000000000001,
          7.25,
          7.279999999999999,
          7.3100000000000005,
          7.34,
          7.37,
          7.4,
          7.43,
          7.46,
          7.49,
          7.52,
          7.55,
          7.58,
          7.609999999999999,
          7.640000000000001,
          7.67,
          7.7,
          7.73,
          7.76,
          7.79,
          7.82,
          7.85,
          7.88,
          7.91,
          7.9399999999999995,
          7.970000000000001,
          8,
          8.03,
          8.06,
          8.09,
          8.120000000000001,
          8.15,
          8.18,
          8.21,
          8.24,
          8.27,
          8.3,
          8.33,
          8.36,
          8.39,
          8.42,
          8.45,
          8.48,
          8.51,
          8.54,
          8.57,
          8.6,
          8.629999999999999,
          8.66,
          8.69,
          8.72,
          8.75,
          8.78,
          8.81,
          8.84,
          8.870000000000001,
          8.9,
          8.93,
          8.96,
          8.99,
          9.02,
          9.05,
          9.08,
          9.11,
          9.14,
          9.17,
          9.2,
          9.23,
          9.26,
          9.29,
          9.32,
          9.35,
          9.379999999999999,
          9.41,
          9.440000000000001,
          9.469999999999999,
          9.5,
          9.530000000000001,
          9.559999999999999,
          9.59,
          9.620000000000001,
          9.65,
          9.68,
          9.71,
          9.74,
          9.77,
          9.8,
          9.83,
          9.86,
          9.89,
          9.92,
          9.95,
          9.98,
          10.01,
          10.04,
          10.07,
          10.1,
          10.129999999999999,
          10.16,
          10.190000000000001,
          10.219999999999999,
          10.25,
          10.280000000000001,
          10.309999999999999,
          10.34,
          10.370000000000001,
          10.4,
          10.43,
          10.46,
          10.49,
          10.52,
          10.55,
          10.58,
          10.61,
          10.64,
          10.67,
          10.7,
          10.73,
          10.76,
          10.79,
          10.82,
          10.85,
          10.879999999999999,
          10.91,
          10.940000000000001,
          10.969999999999999,
          11,
          11.030000000000001,
          11.059999999999999,
          11.09,
          11.120000000000001,
          11.15,
          11.18,
          11.21,
          11.24,
          11.27,
          11.3,
          11.33,
          11.36,
          11.39,
          11.42,
          11.45,
          11.48,
          11.51,
          11.54,
          11.57,
          11.6,
          11.629999999999999,
          11.66,
          11.690000000000001,
          11.719999999999999,
          11.75,
          11.780000000000001,
          11.809999999999999,
          11.84,
          11.870000000000001,
          11.9,
          11.93,
          11.96,
          11.99,
          12.02,
          12.05,
          12.08,
          12.11,
          12.14,
          12.17,
          12.2,
          12.23,
          12.26,
          12.29,
          12.32,
          12.35,
          12.379999999999999,
          12.41,
          12.440000000000001,
          12.469999999999999,
          12.5,
          12.530000000000001,
          12.559999999999999,
          12.59,
          12.620000000000001,
          12.65,
          12.68,
          12.71,
          12.74,
          12.77,
          12.8,
          12.83,
          12.86,
          12.89,
          12.92,
          12.95,
          12.98,
          13.01,
          13.04,
          13.07,
          13.1,
          13.13,
          13.16,
          13.19,
          13.22,
          13.25,
          13.28,
          13.31,
          13.34,
          13.37,
          13.4,
          13.43,
          13.46,
          13.49,
          13.52,
          13.55,
          13.58,
          13.61,
          13.64,
          13.67,
          13.7,
          13.73,
          13.76,
          13.79,
          13.82,
          13.85,
          13.88,
          13.91,
          13.94,
          13.97,
          14,
          14.03,
          14.06,
          14.09,
          14.12,
          14.15,
          14.18,
          14.21,
          14.24,
          14.27,
          14.3,
          14.33,
          14.36,
          14.39,
          14.42,
          14.45,
          14.48,
          14.51,
          14.54,
          14.57,
          14.6,
          14.63,
          14.66,
          14.69,
          14.72,
          14.75,
          14.78,
          14.81,
          14.84,
          14.87,
          14.9,
          14.93,
          14.96,
          14.99,
          15.02,
          15.05,
          15.08,
          15.11,
          15.14,
          15.17,
          15.2,
          15.23,
          15.26,
          15.29,
          15.32,
          15.35,
          15.38,
          15.41,
          15.44,
          15.47,
          15.5,
          15.53,
          15.56,
          15.59,
          15.62,
          15.65,
          15.68,
          15.71,
          15.74,
          15.77,
          15.8,
          15.83,
          15.86,
          15.89,
          15.92,
          15.95,
          15.98,
          16.009999999999998,
          16.04,
          16.07,
          16.1,
          16.130000000000003,
          16.16,
          16.189999999999998,
          16.22,
          16.25,
          16.28,
          16.310000000000002,
          16.34,
          16.369999999999997,
          16.4,
          16.43,
          16.46,
          16.490000000000002,
          16.52,
          16.55,
          16.58,
          16.61,
          16.64,
          16.67,
          16.7,
          16.73,
          16.759999999999998,
          16.79,
          16.82,
          16.85,
          16.880000000000003,
          16.91,
          16.939999999999998,
          16.97,
          17,
          17.03,
          17.060000000000002,
          17.09,
          17.119999999999997,
          17.15,
          17.18,
          17.21,
          17.240000000000002,
          17.27,
          17.3,
          17.33,
          17.36,
          17.39,
          17.42,
          17.45,
          17.48,
          17.509999999999998,
          17.54,
          17.57,
          17.6,
          17.630000000000003,
          17.66,
          17.689999999999998,
          17.72,
          17.75,
          17.78,
          17.810000000000002,
          17.84,
          17.869999999999997,
          17.9,
          17.93,
          17.96,
          17.990000000000002,
          18.02,
          18.05,
          18.08,
          18.11,
          18.14,
          18.17,
          18.2,
          18.23,
          18.259999999999998,
          18.29,
          18.32,
          18.35,
          18.380000000000003,
          18.41,
          18.439999999999998,
          18.47,
          18.5,
          18.53,
          18.560000000000002,
          18.59,
          18.619999999999997,
          18.65,
          18.68,
          18.71,
          18.740000000000002,
          18.77,
          18.8,
          18.83,
          18.86,
          18.89,
          18.92,
          18.95,
          18.98,
          19.009999999999998,
          19.04,
          19.07,
          19.1,
          19.130000000000003,
          19.16,
          19.189999999999998,
          19.22,
          19.25,
          19.28,
          19.310000000000002,
          19.34,
          19.369999999999997,
          19.4,
          19.43,
          19.46,
          19.490000000000002,
          19.52,
          19.55,
          19.58,
          19.61,
          19.64,
          19.67,
          19.7,
          19.73,
          19.759999999999998,
          19.79,
          19.82,
          19.85,
          19.880000000000003,
          19.91,
          19.939999999999998,
          19.97
         ],
         "xaxis": "x",
         "y": [
          0.024861312390437765,
          0.025299258973427698,
          0.025737888813980356,
          0.0261773566928172,
          0.026617841771432036,
          0.027059547456276253,
          0.027502701161410105,
          0.027947553970064574,
          0.02839438019604887,
          0.02884347684641749,
          0.029295162987276867,
          0.029749779015061237,
          0.030207685836039645,
          0.030669263957225777,
          0.031134912492248038,
          0.031605048086100415,
          0.03208010376302797,
          0.032560527702107114,
          0.033046781945355284,
          0.03353934104345308,
          0.034038690644372385,
          0.03454532603038897,
          0.03505975060910653,
          0.035582474364240384,
          0.036114012271992874,
          0.03665488268891253,
          0.03720560571715422,
          0.037766701553054005,
          0.03833868882490632,
          0.038922082925769,
          0.03951739434704591,
          0.04012512701848736,
          0.04074577666012571,
          0.041379829151513496,
          0.04202775892346942,
          0.0426900273773537,
          0.04336708133670049,
          0.044059351535823105,
          0.04476725114979214,
          0.045491174369950545,
          0.04623149502889874,
          0.04698856527863402,
          0.04776271432528177,
          0.04855424722360348,
          0.04936344373421149,
          0.050190557246163635,
          0.05103581376735695,
          0.05189941098488171,
          0.05278151739724459,
          0.05368227152011826,
          0.054601781167025,
          0.05554012280611626,
          0.056497340993970524,
          0.057473447887090245,
          0.05846842283154953,
          0.05948221203101154,
          0.06051472829311456,
          0.061565850854002874,
          0.06263542528056736,
          0.06372326344975092,
          0.06482914360407074,
          0.06595281048231108,
          0.06709397552414881,
          0.06825231714728755,
          0.06942748109549501,
          0.07061908085576593,
          0.07182669814266492,
          0.07304988344774331,
          0.07428815665177262,
          0.07554100769739158,
          0.07680789731962719,
          0.07808825783162385,
          0.07938149396279788,
          0.08068698374652121,
          0.08200407945435002,
          0.08333210857371731,
          0.08467037482594476,
          0.08601815922135647,
          0.0873747211482372,
          0.0887392994923349,
          0.09011111378358864,
          0.09148936536675238,
          0.09287323859259251,
          0.09426190202635744,
          0.09565450967024955,
          0.09705020219668392,
          0.09844810818917879,
          0.09984734538780107,
          0.10124702193618519,
          0.10264623762724397,
          0.10404408514481502,
          0.10543965129860909,
          0.10683201824997758,
          0.10822026472615659,
          0.10960346722082094,
          0.11098070117893769,
          0.11235104216409551,
          0.11371356700665992,
          0.11506735493130306,
          0.11641148866262967,
          0.1177450555078305,
          0.11906714841546949,
          0.12037686700971212,
          0.12167331859947988,
          0.12295561916220608,
          0.12422289430203388,
          0.12547428018247658,
          0.12670892443370949,
          0.12792598703481683,
          0.1291246411714566,
          0.13030407406952185,
          0.13146348780549855,
          0.13260210009431067,
          0.13371914505552074,
          0.13481387395882813,
          0.13588555594984256,
          0.13693347875715092,
          0.1379569493816995,
          0.13895529476951676,
          0.13992786246876687,
          0.14087402127209567,
          0.141793161845164,
          0.14268469734218758,
          0.14354806400921516,
          0.14438272177576525,
          0.14518815483531758,
          0.14596387221502075,
          0.14670940833482826,
          0.14742432355610893,
          0.1481082047196106,
          0.1487606656724723,
          0.1493813477837946,
          0.14996992044808047,
          0.15052608157566472,
          0.15104955806904957,
          0.15154010628386405,
          0.151997512472968,
          0.15242159321202678,
          0.15281219580469377,
          0.15316919866536283,
          0.1534925116772744,
          0.15378207652360834,
          0.15403786698904964,
          0.1542598892291827,
          0.15444818200496227,
          0.15460281687941832,
          0.15472389837367828,
          0.15481156407934826,
          0.154865984724267,
          0.15488736418865356,
          0.15487593946869319,
          0.1548319805846665,
          0.15475579043081023,
          0.15464770456420873,
          0.15450809093016044,
          0.15433734952162909,
          0.15413591197059412,
          0.1539042410693357,
          0.15364283021994757,
          0.15335220281064804,
          0.15303291151776754,
          0.1526855375326145,
          0.1523106897127741,
          0.15190900365776056,
          0.1514811407093316,
          0.15102778687716972,
          0.15054965169104795,
          0.15004746698101817,
          0.14952198558758623,
          0.14897398000425957,
          0.1484042409552915,
          0.14781357591185346,
          0.147202807550297,
          0.14657277215655468,
          0.14592431798112945,
          0.14525830354948227,
          0.1445755959329851,
          0.1438770689859197,
          0.14316360155430552,
          0.14243607566260097,
          0.14169537468455706,
          0.14094238150469077,
          0.14017797667701176,
          0.1394030365877495,
          0.13861843162890078,
          0.1378250243894614,
          0.13702366787118814,
          0.13621520373568632,
          0.13540046058952707,
          0.13458025231394966,
          0.13375537644553215,
          0.13292661261397912,
          0.13209472104291875,
          0.13126044111929502,
          0.13042449003659976,
          0.12958756151682463,
          0.12875032461559577,
          0.12791342261453156,
          0.12707747200440697,
          0.12624306156221984,
          0.12541075152476922,
          0.12458107286083756,
          0.12375452664355438,
          0.12293158352398495,
          0.12211268330646818,
          0.12129823462569433,
          0.1204886147249962,
          0.11968416933481564,
          0.11888521264981117,
          0.11809202740259435,
          0.11730486503161845,
          0.1165239459403163,
          0.11574945984417281,
          0.11498156620203612,
          0.11422039472763688,
          0.11346604597696258,
          0.1127185920068705,
          0.11197807710007823,
          0.11124451855147999,
          0.1105179075105767,
          0.10979820987469081,
          0.10908536722756691,
          0.10837929781791221,
          0.10767989757244766,
          0.10698704113807651,
          0.10630058294785431,
          0.10562035830557517,
          0.1049461844839203,
          0.10427786183131613,
          0.10361517488285153,
          0.10295789347084722,
          0.10230577383093478,
          0.10165855969979205,
          0.10101598340098035,
          0.10037776691565725,
          0.09974362293526347,
          0.09911325589363175,
          0.09848636297630474,
          0.09786263510520432,
          0.09724175789714058,
          0.09662341259499202,
          0.09600727697072446,
          0.09539302619974757,
          0.09478033370641355,
          0.09416887198076404,
          0.09355831336690923,
          0.09294833082368067,
          0.09233859865843302,
          0.09172879323508364,
          0.09111859365765805,
          0.0905076824307694,
          0.08989574609858586,
          0.08928247586393866,
          0.08866756818928856,
          0.08805072538131245,
          0.08743165616086941,
          0.08681007622009196,
          0.08618570876829058,
          0.08555828506828024,
          0.08492754496463041,
          0.08429323740520327,
          0.0836551209571909,
          0.08301296431867536,
          0.08236654682653582,
          0.0817156589613119,
          0.08106010284938583,
          0.08039969276260686,
          0.07973425561521542,
          0.07906363145765812,
          0.07838767396661307,
          0.0777062509302684,
          0.07701924472762386,
          0.07632655280031823,
          0.07562808811521725,
          0.07492377961575092,
          0.07421357265974422,
          0.07349742944126676,
          0.0727753293938175,
          0.0720472695719798,
          0.07131326500852177,
          0.0705733490437832,
          0.06982757362408293,
          0.06907600956580438,
          0.06831874678177657,
          0.06755589446654815,
          0.06678758123718034,
          0.06601395522624058,
          0.06523518412376383,
          0.06445145516508481,
          0.06366297506159774,
          0.06286996987170126,
          0.06207268480941423,
          0.06127138398841266,
          0.06046635009952808,
          0.05965788402007641,
          0.058846304353730755,
          0.05803194690003384,
          0.05721516405303733,
          0.05639632412897723,
          0.05557581062332833,
          0.05475402139802513,
          0.05393136780009537,
          0.053108273713415956,
          0.052285174545765166,
          0.05146251615380668,
          0.05064075370910421,
          0.04982035050870895,
          0.049001776734300506,
          0.04818550816428047,
          0.04737202484361387,
          0.04656180971658897,
          0.0457553472280097,
          0.044953121898649036,
          0.04415561688107359,
          0.043363312502190575,
          0.04257668479907225,
          0.041796204054775625,
          0.04102233334099346,
          0.040255527074444374,
          0.03949622959394071,
          0.03874487376504886,
          0.03800187961919363,
          0.03726765303394349,
          0.03654258446105282,
          0.03582704770863129,
          0.035121398783560645,
          0.0344259747999859,
          0.033741092959372346,
          0.03306704960724992,
          0.03240411937135544,
          0.03175255438544405,
          0.03111258360257061,
          0.030484412201143563,
          0.029868221086539436,
          0.02926416649052304,
          0.02867237967017432,
          0.02809296670745564,
          0.02752600840999153,
          0.02697156031305899,
          0.026429652782226705,
          0.025900291215516815,
          0.025383456343418466,
          0.024879104624549044,
          0.02438716873424081,
          0.023907558142845144,
          0.023440159780073133,
          0.022984838781259,
          0.0225414393110248,
          0.022109785459452195,
          0.021689682205535292,
          0.021280916442388324,
          0.020883258058426613,
          0.020496461068524853,
          0.020120264788980286,
          0.019754395049979064,
          0.0193985654391749,
          0.01905247856994234,
          0.018715827367862252,
          0.01838829636903346,
          0.018069563023880283,
          0.017759299000238964,
          0.017457171479656843,
          0.01716284444102153,
          0.016875979925854698,
          0.016596239279850836,
          0.016323284365512947,
          0.01605677874103628,
          0.015796388800907772,
          0.015541784874025641,
          0.01529264227549691,
          0.015048642308631854,
          0.01480947321403079,
          0.014574831063036085,
          0.014344420593205096,
          0.014117955983843576,
          0.013895161570020012,
          0.013675772493854491,
          0.013459535292248219,
          0.013246208420573424,
          0.013035562712193334,
          0.012827381774012266,
          0.012621462318573673,
          0.012417614433522142,
          0.01221566178952789,
          0.012015441788032028,
          0.011816805650412,
          0.01161961845038601,
          0.011423759091671834,
          0.011229120233091614,
          0.011035608163466916,
          0.010843142628779204,
          0.010651656614180794,
          0.010461096083528498,
          0.010271419679179728,
          0.010082598384838522,
          0.00989461515426531,
          0.009707464508676563,
          0.009521152105650474,
          0.009335694282333447,
          0.009151117575704231,
          0.008967458222598871,
          0.008784761642139309,
          0.008603081903130852,
          0.008422481178911338,
          0.008243029192042353,
          0.008064802651133152,
          0.007887884681983409,
          0.007712364255121545,
          0.007538335611703327,
          0.007365897689620585,
          0.007195153551554749,
          0.007026209816594363,
          0.006859176096921838,
          0.006694164440962018,
          0.006531288784275191,
          0.006370664409371388,
          0.006212407415519906,
          0.006056634199531027,
          0.005903460948393259,
          0.005753003144562995,
          0.005605375084621623,
          0.005460689411939381,
          0.005319056663916575,
          0.005180584834308591,
          0.005045378951084826,
          0.0049135406702206395,
          0.004785167885776846,
          0.004660354356581638,
          0.004539189349798118,
          0.004421757301630747,
          0.004308137495403249,
          0.0041984037572211415,
          0.004092624169418475,
          0.003990860801978849,
          0.0038931694621141075,
          0.003799599462180084,
          0.0037101934061084104,
          0.0036249869945332394,
          0.0035440088487945724,
          0.00346728035400225,
          0.0033948155213481862,
          0.0033266208698572563,
          0.0032626953277695853,
          0.003203030153747441,
          0.0031476088780996734,
          0.0030964072642128354,
          0.0030493932903725074,
          0.0030065271521491806,
          0.0029677612855102124,
          0.0029330404108029464,
          0.0029023015977330644,
          0.0028754743514367823,
          0.0028524807197154644,
          0.0028332354214660118,
          0.0028176459963002148,
          0.0028056129753009956,
          0.0027970300728130007,
          0.0027917843991095833,
          0.0027897566937176823,
          0.0027908215791169555,
          0.002794847834459872,
          0.002801698688885347,
          0.0028112321339210282,
          0.0028233012543879173,
          0.0028377545771372443,
          0.0028544364368629093,
          0.0028731873581448538,
          0.002893844452789427,
          0.002916241831443335,
          0.0029402110283683618,
          0.0029655814381761686,
          0.0029921807632360413,
          0.0030198354703851165,
          0.0030483712554906553,
          0.003077613514338214,
          0.0031073878182493325,
          0.003137520392767866,
          0.0031678385976962775,
          0.00319817140671327,
          0.0032283498847619847,
          0.003258207661365013,
          0.0032875813979987775,
          0.0033163112476462526,
          0.0033442413046438895,
          0.0033712200429462007,
          0.003397100740950446,
          0.0034217418910540416,
          0.003445007592159097,
          0.003466767923391622,
          0.003486899297367825,
          0.003505284791415662,
          0.0035218144552468965,
          0.0035363855936723725,
          0.0035489030230609043,
          0.003559279300359383,
          0.0035674349236178397,
          0.003573298503097352,
          0.0035768069021803422,
          0.003577905347450587,
          0.003576547507463705
         ],
         "yaxis": "y"
        },
        {
         "fill": "tozeroy",
         "fillcolor": "rgba(8, 141, 165, 0.2)",
         "legendgroup": "Reference",
         "marker": {
          "color": "#088DA5",
          "symbol": "line-ns-open"
         },
         "mode": "markers",
         "name": "Reference",
         "showlegend": false,
         "type": "scatter",
         "x": [
          14,
          17,
          14,
          11,
          16,
          16,
          11,
          2,
          3,
          1,
          1,
          1,
          1,
          3,
          10,
          12,
          14,
          15,
          15,
          13,
          19,
          11,
          10,
          13,
          10,
          15,
          20,
          11,
          8,
          10,
          10,
          14,
          12,
          11,
          11,
          8,
          13,
          6,
          9,
          15,
          4,
          15,
          10,
          7,
          14,
          5,
          8,
          12,
          2,
          13,
          14,
          10,
          8,
          11,
          8,
          12,
          3,
          12,
          10,
          8,
          10,
          11,
          14,
          9,
          13,
          21,
          8,
          18,
          13,
          9,
          9,
          15,
          7,
          10,
          5,
          12,
          11,
          10,
          7,
          9,
          8,
          10,
          13,
          9,
          7,
          7,
          15,
          11,
          9,
          8,
          7,
          9,
          8,
          11,
          2,
          7,
          8,
          2,
          4,
          7,
          1,
          3,
          2,
          6,
          4,
          3,
          4,
          7
         ],
         "xaxis": "x",
         "y": [
          "Reference",
          "Reference",
          "Reference",
          "Reference",
          "Reference",
          "Reference",
          "Reference",
          "Reference",
          "Reference",
          "Reference",
          "Reference",
          "Reference",
          "Reference",
          "Reference",
          "Reference",
          "Reference",
          "Reference",
          "Reference",
          "Reference",
          "Reference",
          "Reference",
          "Reference",
          "Reference",
          "Reference",
          "Reference",
          "Reference",
          "Reference",
          "Reference",
          "Reference",
          "Reference",
          "Reference",
          "Reference",
          "Reference",
          "Reference",
          "Reference",
          "Reference",
          "Reference",
          "Reference",
          "Reference",
          "Reference",
          "Reference",
          "Reference",
          "Reference",
          "Reference",
          "Reference",
          "Reference",
          "Reference",
          "Reference",
          "Reference",
          "Reference",
          "Reference",
          "Reference",
          "Reference",
          "Reference",
          "Reference",
          "Reference",
          "Reference",
          "Reference",
          "Reference",
          "Reference",
          "Reference",
          "Reference",
          "Reference",
          "Reference",
          "Reference",
          "Reference",
          "Reference",
          "Reference",
          "Reference",
          "Reference",
          "Reference",
          "Reference",
          "Reference",
          "Reference",
          "Reference",
          "Reference",
          "Reference",
          "Reference",
          "Reference",
          "Reference",
          "Reference",
          "Reference",
          "Reference",
          "Reference",
          "Reference",
          "Reference",
          "Reference",
          "Reference",
          "Reference",
          "Reference",
          "Reference",
          "Reference",
          "Reference",
          "Reference",
          "Reference",
          "Reference",
          "Reference",
          "Reference",
          "Reference",
          "Reference",
          "Reference",
          "Reference",
          "Reference",
          "Reference",
          "Reference",
          "Reference",
          "Reference",
          "Reference"
         ],
         "yaxis": "y2"
        },
        {
         "fill": "tozeroy",
         "fillcolor": "rgba(208, 0, 111, 0.2)",
         "legendgroup": "Zero-Shot",
         "marker": {
          "color": "#D0006F",
          "symbol": "line-ns-open"
         },
         "mode": "markers",
         "name": "Zero-Shot",
         "showlegend": false,
         "type": "scatter",
         "x": [
          17,
          15,
          9,
          16,
          17,
          8,
          8,
          7,
          10,
          10,
          8,
          10,
          7,
          10,
          16,
          10,
          8,
          17,
          15,
          11,
          9,
          8,
          8,
          10,
          10,
          10,
          8,
          12,
          12,
          11,
          11,
          11,
          10,
          9,
          12,
          10,
          12,
          14,
          10,
          10,
          9,
          10,
          13,
          10,
          10,
          11,
          10,
          14,
          11,
          10,
          11,
          9,
          20,
          7,
          8,
          9,
          11,
          7,
          18,
          6,
          15,
          9,
          12,
          16,
          10,
          11,
          12,
          10,
          15,
          10,
          8,
          10,
          12,
          8,
          6,
          12,
          9,
          13,
          10,
          8,
          8,
          8,
          10,
          9,
          9,
          7,
          10,
          14,
          12,
          13,
          11,
          9,
          15,
          11,
          11,
          16,
          12,
          9,
          14,
          9,
          14,
          8,
          11,
          15,
          19,
          8,
          10,
          6,
          7,
          8,
          9,
          11
         ],
         "xaxis": "x",
         "y": [
          "Zero-Shot",
          "Zero-Shot",
          "Zero-Shot",
          "Zero-Shot",
          "Zero-Shot",
          "Zero-Shot",
          "Zero-Shot",
          "Zero-Shot",
          "Zero-Shot",
          "Zero-Shot",
          "Zero-Shot",
          "Zero-Shot",
          "Zero-Shot",
          "Zero-Shot",
          "Zero-Shot",
          "Zero-Shot",
          "Zero-Shot",
          "Zero-Shot",
          "Zero-Shot",
          "Zero-Shot",
          "Zero-Shot",
          "Zero-Shot",
          "Zero-Shot",
          "Zero-Shot",
          "Zero-Shot",
          "Zero-Shot",
          "Zero-Shot",
          "Zero-Shot",
          "Zero-Shot",
          "Zero-Shot",
          "Zero-Shot",
          "Zero-Shot",
          "Zero-Shot",
          "Zero-Shot",
          "Zero-Shot",
          "Zero-Shot",
          "Zero-Shot",
          "Zero-Shot",
          "Zero-Shot",
          "Zero-Shot",
          "Zero-Shot",
          "Zero-Shot",
          "Zero-Shot",
          "Zero-Shot",
          "Zero-Shot",
          "Zero-Shot",
          "Zero-Shot",
          "Zero-Shot",
          "Zero-Shot",
          "Zero-Shot",
          "Zero-Shot",
          "Zero-Shot",
          "Zero-Shot",
          "Zero-Shot",
          "Zero-Shot",
          "Zero-Shot",
          "Zero-Shot",
          "Zero-Shot",
          "Zero-Shot",
          "Zero-Shot",
          "Zero-Shot",
          "Zero-Shot",
          "Zero-Shot",
          "Zero-Shot",
          "Zero-Shot",
          "Zero-Shot",
          "Zero-Shot",
          "Zero-Shot",
          "Zero-Shot",
          "Zero-Shot",
          "Zero-Shot",
          "Zero-Shot",
          "Zero-Shot",
          "Zero-Shot",
          "Zero-Shot",
          "Zero-Shot",
          "Zero-Shot",
          "Zero-Shot",
          "Zero-Shot",
          "Zero-Shot",
          "Zero-Shot",
          "Zero-Shot",
          "Zero-Shot",
          "Zero-Shot",
          "Zero-Shot",
          "Zero-Shot",
          "Zero-Shot",
          "Zero-Shot",
          "Zero-Shot",
          "Zero-Shot",
          "Zero-Shot",
          "Zero-Shot",
          "Zero-Shot",
          "Zero-Shot",
          "Zero-Shot",
          "Zero-Shot",
          "Zero-Shot",
          "Zero-Shot",
          "Zero-Shot",
          "Zero-Shot",
          "Zero-Shot",
          "Zero-Shot",
          "Zero-Shot",
          "Zero-Shot",
          "Zero-Shot",
          "Zero-Shot",
          "Zero-Shot",
          "Zero-Shot",
          "Zero-Shot",
          "Zero-Shot",
          "Zero-Shot",
          "Zero-Shot"
         ],
         "yaxis": "y2"
        },
        {
         "fill": "tozeroy",
         "fillcolor": "rgba(55, 32, 130, 0.2)",
         "legendgroup": "One-Shot",
         "marker": {
          "color": "#372082",
          "symbol": "line-ns-open"
         },
         "mode": "markers",
         "name": "One-Shot",
         "showlegend": false,
         "type": "scatter",
         "x": [
          17,
          14,
          10,
          16,
          7,
          14,
          16,
          8,
          8,
          11,
          11,
          14,
          11,
          10,
          12,
          9,
          8,
          10,
          13,
          7,
          10,
          10,
          13,
          10,
          14,
          10,
          13,
          6,
          10,
          8,
          12,
          11,
          10,
          7,
          11,
          9,
          6,
          12,
          11,
          10,
          10,
          9,
          9,
          9,
          5,
          14,
          10,
          9,
          9,
          5,
          8,
          10,
          12,
          12,
          8,
          8,
          10,
          8,
          13,
          12,
          13,
          12,
          7,
          11,
          15,
          7,
          11,
          5,
          13,
          8,
          11,
          8,
          13,
          13,
          9,
          9,
          12,
          8,
          9,
          20,
          12,
          5,
          9,
          9,
          11,
          9,
          14,
          10,
          13,
          9,
          11,
          12,
          6,
          9,
          10,
          10,
          9,
          7,
          8,
          9,
          12,
          10,
          8,
          9,
          14,
          8,
          9,
          10,
          11
         ],
         "xaxis": "x",
         "y": [
          "One-Shot",
          "One-Shot",
          "One-Shot",
          "One-Shot",
          "One-Shot",
          "One-Shot",
          "One-Shot",
          "One-Shot",
          "One-Shot",
          "One-Shot",
          "One-Shot",
          "One-Shot",
          "One-Shot",
          "One-Shot",
          "One-Shot",
          "One-Shot",
          "One-Shot",
          "One-Shot",
          "One-Shot",
          "One-Shot",
          "One-Shot",
          "One-Shot",
          "One-Shot",
          "One-Shot",
          "One-Shot",
          "One-Shot",
          "One-Shot",
          "One-Shot",
          "One-Shot",
          "One-Shot",
          "One-Shot",
          "One-Shot",
          "One-Shot",
          "One-Shot",
          "One-Shot",
          "One-Shot",
          "One-Shot",
          "One-Shot",
          "One-Shot",
          "One-Shot",
          "One-Shot",
          "One-Shot",
          "One-Shot",
          "One-Shot",
          "One-Shot",
          "One-Shot",
          "One-Shot",
          "One-Shot",
          "One-Shot",
          "One-Shot",
          "One-Shot",
          "One-Shot",
          "One-Shot",
          "One-Shot",
          "One-Shot",
          "One-Shot",
          "One-Shot",
          "One-Shot",
          "One-Shot",
          "One-Shot",
          "One-Shot",
          "One-Shot",
          "One-Shot",
          "One-Shot",
          "One-Shot",
          "One-Shot",
          "One-Shot",
          "One-Shot",
          "One-Shot",
          "One-Shot",
          "One-Shot",
          "One-Shot",
          "One-Shot",
          "One-Shot",
          "One-Shot",
          "One-Shot",
          "One-Shot",
          "One-Shot",
          "One-Shot",
          "One-Shot",
          "One-Shot",
          "One-Shot",
          "One-Shot",
          "One-Shot",
          "One-Shot",
          "One-Shot",
          "One-Shot",
          "One-Shot",
          "One-Shot",
          "One-Shot",
          "One-Shot",
          "One-Shot",
          "One-Shot",
          "One-Shot",
          "One-Shot",
          "One-Shot",
          "One-Shot",
          "One-Shot",
          "One-Shot",
          "One-Shot",
          "One-Shot",
          "One-Shot",
          "One-Shot",
          "One-Shot",
          "One-Shot",
          "One-Shot",
          "One-Shot",
          "One-Shot",
          "One-Shot"
         ],
         "yaxis": "y2"
        }
       ],
       "layout": {
        "barmode": "overlay",
        "hovermode": "closest",
        "legend": {
         "traceorder": "reversed"
        },
        "template": {
         "data": {
          "bar": [
           {
            "error_x": {
             "color": "#2a3f5f"
            },
            "error_y": {
             "color": "#2a3f5f"
            },
            "marker": {
             "line": {
              "color": "#E5ECF6",
              "width": 0.5
             },
             "pattern": {
              "fillmode": "overlay",
              "size": 10,
              "solidity": 0.2
             }
            },
            "type": "bar"
           }
          ],
          "barpolar": [
           {
            "marker": {
             "line": {
              "color": "#E5ECF6",
              "width": 0.5
             },
             "pattern": {
              "fillmode": "overlay",
              "size": 10,
              "solidity": 0.2
             }
            },
            "type": "barpolar"
           }
          ],
          "carpet": [
           {
            "aaxis": {
             "endlinecolor": "#2a3f5f",
             "gridcolor": "white",
             "linecolor": "white",
             "minorgridcolor": "white",
             "startlinecolor": "#2a3f5f"
            },
            "baxis": {
             "endlinecolor": "#2a3f5f",
             "gridcolor": "white",
             "linecolor": "white",
             "minorgridcolor": "white",
             "startlinecolor": "#2a3f5f"
            },
            "type": "carpet"
           }
          ],
          "choropleth": [
           {
            "colorbar": {
             "outlinewidth": 0,
             "ticks": ""
            },
            "type": "choropleth"
           }
          ],
          "contour": [
           {
            "colorbar": {
             "outlinewidth": 0,
             "ticks": ""
            },
            "colorscale": [
             [
              0,
              "#0d0887"
             ],
             [
              0.1111111111111111,
              "#46039f"
             ],
             [
              0.2222222222222222,
              "#7201a8"
             ],
             [
              0.3333333333333333,
              "#9c179e"
             ],
             [
              0.4444444444444444,
              "#bd3786"
             ],
             [
              0.5555555555555556,
              "#d8576b"
             ],
             [
              0.6666666666666666,
              "#ed7953"
             ],
             [
              0.7777777777777778,
              "#fb9f3a"
             ],
             [
              0.8888888888888888,
              "#fdca26"
             ],
             [
              1,
              "#f0f921"
             ]
            ],
            "type": "contour"
           }
          ],
          "contourcarpet": [
           {
            "colorbar": {
             "outlinewidth": 0,
             "ticks": ""
            },
            "type": "contourcarpet"
           }
          ],
          "heatmap": [
           {
            "colorbar": {
             "outlinewidth": 0,
             "ticks": ""
            },
            "colorscale": [
             [
              0,
              "#0d0887"
             ],
             [
              0.1111111111111111,
              "#46039f"
             ],
             [
              0.2222222222222222,
              "#7201a8"
             ],
             [
              0.3333333333333333,
              "#9c179e"
             ],
             [
              0.4444444444444444,
              "#bd3786"
             ],
             [
              0.5555555555555556,
              "#d8576b"
             ],
             [
              0.6666666666666666,
              "#ed7953"
             ],
             [
              0.7777777777777778,
              "#fb9f3a"
             ],
             [
              0.8888888888888888,
              "#fdca26"
             ],
             [
              1,
              "#f0f921"
             ]
            ],
            "type": "heatmap"
           }
          ],
          "heatmapgl": [
           {
            "colorbar": {
             "outlinewidth": 0,
             "ticks": ""
            },
            "colorscale": [
             [
              0,
              "#0d0887"
             ],
             [
              0.1111111111111111,
              "#46039f"
             ],
             [
              0.2222222222222222,
              "#7201a8"
             ],
             [
              0.3333333333333333,
              "#9c179e"
             ],
             [
              0.4444444444444444,
              "#bd3786"
             ],
             [
              0.5555555555555556,
              "#d8576b"
             ],
             [
              0.6666666666666666,
              "#ed7953"
             ],
             [
              0.7777777777777778,
              "#fb9f3a"
             ],
             [
              0.8888888888888888,
              "#fdca26"
             ],
             [
              1,
              "#f0f921"
             ]
            ],
            "type": "heatmapgl"
           }
          ],
          "histogram": [
           {
            "marker": {
             "pattern": {
              "fillmode": "overlay",
              "size": 10,
              "solidity": 0.2
             }
            },
            "type": "histogram"
           }
          ],
          "histogram2d": [
           {
            "colorbar": {
             "outlinewidth": 0,
             "ticks": ""
            },
            "colorscale": [
             [
              0,
              "#0d0887"
             ],
             [
              0.1111111111111111,
              "#46039f"
             ],
             [
              0.2222222222222222,
              "#7201a8"
             ],
             [
              0.3333333333333333,
              "#9c179e"
             ],
             [
              0.4444444444444444,
              "#bd3786"
             ],
             [
              0.5555555555555556,
              "#d8576b"
             ],
             [
              0.6666666666666666,
              "#ed7953"
             ],
             [
              0.7777777777777778,
              "#fb9f3a"
             ],
             [
              0.8888888888888888,
              "#fdca26"
             ],
             [
              1,
              "#f0f921"
             ]
            ],
            "type": "histogram2d"
           }
          ],
          "histogram2dcontour": [
           {
            "colorbar": {
             "outlinewidth": 0,
             "ticks": ""
            },
            "colorscale": [
             [
              0,
              "#0d0887"
             ],
             [
              0.1111111111111111,
              "#46039f"
             ],
             [
              0.2222222222222222,
              "#7201a8"
             ],
             [
              0.3333333333333333,
              "#9c179e"
             ],
             [
              0.4444444444444444,
              "#bd3786"
             ],
             [
              0.5555555555555556,
              "#d8576b"
             ],
             [
              0.6666666666666666,
              "#ed7953"
             ],
             [
              0.7777777777777778,
              "#fb9f3a"
             ],
             [
              0.8888888888888888,
              "#fdca26"
             ],
             [
              1,
              "#f0f921"
             ]
            ],
            "type": "histogram2dcontour"
           }
          ],
          "mesh3d": [
           {
            "colorbar": {
             "outlinewidth": 0,
             "ticks": ""
            },
            "type": "mesh3d"
           }
          ],
          "parcoords": [
           {
            "line": {
             "colorbar": {
              "outlinewidth": 0,
              "ticks": ""
             }
            },
            "type": "parcoords"
           }
          ],
          "pie": [
           {
            "automargin": true,
            "type": "pie"
           }
          ],
          "scatter": [
           {
            "fillpattern": {
             "fillmode": "overlay",
             "size": 10,
             "solidity": 0.2
            },
            "type": "scatter"
           }
          ],
          "scatter3d": [
           {
            "line": {
             "colorbar": {
              "outlinewidth": 0,
              "ticks": ""
             }
            },
            "marker": {
             "colorbar": {
              "outlinewidth": 0,
              "ticks": ""
             }
            },
            "type": "scatter3d"
           }
          ],
          "scattercarpet": [
           {
            "marker": {
             "colorbar": {
              "outlinewidth": 0,
              "ticks": ""
             }
            },
            "type": "scattercarpet"
           }
          ],
          "scattergeo": [
           {
            "marker": {
             "colorbar": {
              "outlinewidth": 0,
              "ticks": ""
             }
            },
            "type": "scattergeo"
           }
          ],
          "scattergl": [
           {
            "marker": {
             "colorbar": {
              "outlinewidth": 0,
              "ticks": ""
             }
            },
            "type": "scattergl"
           }
          ],
          "scattermapbox": [
           {
            "marker": {
             "colorbar": {
              "outlinewidth": 0,
              "ticks": ""
             }
            },
            "type": "scattermapbox"
           }
          ],
          "scatterpolar": [
           {
            "marker": {
             "colorbar": {
              "outlinewidth": 0,
              "ticks": ""
             }
            },
            "type": "scatterpolar"
           }
          ],
          "scatterpolargl": [
           {
            "marker": {
             "colorbar": {
              "outlinewidth": 0,
              "ticks": ""
             }
            },
            "type": "scatterpolargl"
           }
          ],
          "scatterternary": [
           {
            "marker": {
             "colorbar": {
              "outlinewidth": 0,
              "ticks": ""
             }
            },
            "type": "scatterternary"
           }
          ],
          "surface": [
           {
            "colorbar": {
             "outlinewidth": 0,
             "ticks": ""
            },
            "colorscale": [
             [
              0,
              "#0d0887"
             ],
             [
              0.1111111111111111,
              "#46039f"
             ],
             [
              0.2222222222222222,
              "#7201a8"
             ],
             [
              0.3333333333333333,
              "#9c179e"
             ],
             [
              0.4444444444444444,
              "#bd3786"
             ],
             [
              0.5555555555555556,
              "#d8576b"
             ],
             [
              0.6666666666666666,
              "#ed7953"
             ],
             [
              0.7777777777777778,
              "#fb9f3a"
             ],
             [
              0.8888888888888888,
              "#fdca26"
             ],
             [
              1,
              "#f0f921"
             ]
            ],
            "type": "surface"
           }
          ],
          "table": [
           {
            "cells": {
             "fill": {
              "color": "#EBF0F8"
             },
             "line": {
              "color": "white"
             }
            },
            "header": {
             "fill": {
              "color": "#C8D4E3"
             },
             "line": {
              "color": "white"
             }
            },
            "type": "table"
           }
          ]
         },
         "layout": {
          "annotationdefaults": {
           "arrowcolor": "#2a3f5f",
           "arrowhead": 0,
           "arrowwidth": 1
          },
          "autotypenumbers": "strict",
          "coloraxis": {
           "colorbar": {
            "outlinewidth": 0,
            "ticks": ""
           }
          },
          "colorscale": {
           "diverging": [
            [
             0,
             "#8e0152"
            ],
            [
             0.1,
             "#c51b7d"
            ],
            [
             0.2,
             "#de77ae"
            ],
            [
             0.3,
             "#f1b6da"
            ],
            [
             0.4,
             "#fde0ef"
            ],
            [
             0.5,
             "#f7f7f7"
            ],
            [
             0.6,
             "#e6f5d0"
            ],
            [
             0.7,
             "#b8e186"
            ],
            [
             0.8,
             "#7fbc41"
            ],
            [
             0.9,
             "#4d9221"
            ],
            [
             1,
             "#276419"
            ]
           ],
           "sequential": [
            [
             0,
             "#0d0887"
            ],
            [
             0.1111111111111111,
             "#46039f"
            ],
            [
             0.2222222222222222,
             "#7201a8"
            ],
            [
             0.3333333333333333,
             "#9c179e"
            ],
            [
             0.4444444444444444,
             "#bd3786"
            ],
            [
             0.5555555555555556,
             "#d8576b"
            ],
            [
             0.6666666666666666,
             "#ed7953"
            ],
            [
             0.7777777777777778,
             "#fb9f3a"
            ],
            [
             0.8888888888888888,
             "#fdca26"
            ],
            [
             1,
             "#f0f921"
            ]
           ],
           "sequentialminus": [
            [
             0,
             "#0d0887"
            ],
            [
             0.1111111111111111,
             "#46039f"
            ],
            [
             0.2222222222222222,
             "#7201a8"
            ],
            [
             0.3333333333333333,
             "#9c179e"
            ],
            [
             0.4444444444444444,
             "#bd3786"
            ],
            [
             0.5555555555555556,
             "#d8576b"
            ],
            [
             0.6666666666666666,
             "#ed7953"
            ],
            [
             0.7777777777777778,
             "#fb9f3a"
            ],
            [
             0.8888888888888888,
             "#fdca26"
            ],
            [
             1,
             "#f0f921"
            ]
           ]
          },
          "colorway": [
           "#636efa",
           "#EF553B",
           "#00cc96",
           "#ab63fa",
           "#FFA15A",
           "#19d3f3",
           "#FF6692",
           "#B6E880",
           "#FF97FF",
           "#FECB52"
          ],
          "font": {
           "color": "#2a3f5f"
          },
          "geo": {
           "bgcolor": "white",
           "lakecolor": "white",
           "landcolor": "#E5ECF6",
           "showlakes": true,
           "showland": true,
           "subunitcolor": "white"
          },
          "hoverlabel": {
           "align": "left"
          },
          "hovermode": "closest",
          "mapbox": {
           "style": "light"
          },
          "paper_bgcolor": "white",
          "plot_bgcolor": "#E5ECF6",
          "polar": {
           "angularaxis": {
            "gridcolor": "white",
            "linecolor": "white",
            "ticks": ""
           },
           "bgcolor": "#E5ECF6",
           "radialaxis": {
            "gridcolor": "white",
            "linecolor": "white",
            "ticks": ""
           }
          },
          "scene": {
           "xaxis": {
            "backgroundcolor": "#E5ECF6",
            "gridcolor": "white",
            "gridwidth": 2,
            "linecolor": "white",
            "showbackground": true,
            "ticks": "",
            "zerolinecolor": "white"
           },
           "yaxis": {
            "backgroundcolor": "#E5ECF6",
            "gridcolor": "white",
            "gridwidth": 2,
            "linecolor": "white",
            "showbackground": true,
            "ticks": "",
            "zerolinecolor": "white"
           },
           "zaxis": {
            "backgroundcolor": "#E5ECF6",
            "gridcolor": "white",
            "gridwidth": 2,
            "linecolor": "white",
            "showbackground": true,
            "ticks": "",
            "zerolinecolor": "white"
           }
          },
          "shapedefaults": {
           "line": {
            "color": "#2a3f5f"
           }
          },
          "ternary": {
           "aaxis": {
            "gridcolor": "white",
            "linecolor": "white",
            "ticks": ""
           },
           "baxis": {
            "gridcolor": "white",
            "linecolor": "white",
            "ticks": ""
           },
           "bgcolor": "#E5ECF6",
           "caxis": {
            "gridcolor": "white",
            "linecolor": "white",
            "ticks": ""
           }
          },
          "title": {
           "x": 0.05
          },
          "xaxis": {
           "automargin": true,
           "gridcolor": "white",
           "linecolor": "white",
           "ticks": "",
           "title": {
            "standoff": 15
           },
           "zerolinecolor": "white",
           "zerolinewidth": 2
          },
          "yaxis": {
           "automargin": true,
           "gridcolor": "white",
           "linecolor": "white",
           "ticks": "",
           "title": {
            "standoff": 15
           },
           "zerolinecolor": "white",
           "zerolinewidth": 2
          }
         }
        },
        "title": {
         "text": "GPT-4 (4000MT, 0T, 0FP) - Question length density distribution"
        },
        "xaxis": {
         "anchor": "y2",
         "domain": [
          0,
          1
         ],
         "title": {
          "text": "Length"
         },
         "zeroline": false
        },
        "yaxis": {
         "anchor": "free",
         "domain": [
          0.35,
          1
         ],
         "position": 0,
         "title": {
          "text": "Count"
         }
        },
        "yaxis2": {
         "anchor": "x",
         "domain": [
          0,
          0.25
         ],
         "dtick": 1,
         "showticklabels": false
        }
       }
      }
     },
     "metadata": {},
     "output_type": "display_data"
    }
   ],
   "source": [
    "plot_density_distribution_comparison_with_ref(gpt_4_0t_0fp.ground_truth_questions, gpt_4_0t_0fp.zero_shot_questions, gpt_4_0t_0fp.one_shot_questions, pairs[0][\"id\"])"
   ]
  },
  {
   "cell_type": "code",
   "execution_count": null,
   "metadata": {},
   "outputs": [],
   "source": []
  }
 ],
 "metadata": {
  "kernelspec": {
   "display_name": ".env",
   "language": "python",
   "name": "python3"
  },
  "language_info": {
   "codemirror_mode": {
    "name": "ipython",
    "version": 3
   },
   "file_extension": ".py",
   "mimetype": "text/x-python",
   "name": "python",
   "nbconvert_exporter": "python",
   "pygments_lexer": "ipython3",
   "version": "3.11.9"
  }
 },
 "nbformat": 4,
 "nbformat_minor": 2
}
