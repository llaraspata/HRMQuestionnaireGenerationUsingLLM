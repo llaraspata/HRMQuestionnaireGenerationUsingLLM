{
 "cells": [
  {
   "cell_type": "markdown",
   "metadata": {},
   "source": [
    "# **Test new sentence embedding model**"
   ]
  },
  {
   "cell_type": "code",
   "execution_count": null,
   "metadata": {},
   "outputs": [],
   "source": [
    "import os\n",
    "import sys\n",
    "sys.path.append('\\\\'.join(os.getcwd().split('\\\\')[:-1])+'\\\\src')\n",
    "\n",
    "from src.evaluation.QuestionnairesEvaluator import QuestionnairesEvaluator"
   ]
  },
  {
   "cell_type": "code",
   "execution_count": null,
   "metadata": {},
   "outputs": [],
   "source": [
    "PROJECT_ROOT = os.path.abspath(os.path.join(os.getcwd(), os.pardir))\n",
    "exp_results_path = os.path.join(PROJECT_ROOT, 'notebooks', 'demofiles', '0s_FULL_gpt-35-turbo-dev_6000MT_0T_0FP')"
   ]
  },
  {
   "cell_type": "code",
   "execution_count": null,
   "metadata": {},
   "outputs": [],
   "source": [
    "questionnaires_evaluator = QuestionnairesEvaluator()\n",
    "questionnaires_evaluator.load_data(project_root=PROJECT_ROOT, task=\"Survey\", prompt_version=\"1.0\", model=\"GPT\", experiment_id=\"0s_FULL_gpt-35-turbo-dev_6000MT_0T_0FP\")"
   ]
  },
  {
   "cell_type": "code",
   "execution_count": null,
   "metadata": {},
   "outputs": [],
   "source": [
    "print(\"1. Computing Semantic Similarity...\")\n",
    "questionnaires_evaluator.compute_semantic_similarity(project_root=PROJECT_ROOT, results_dir=exp_results_path)\n",
    "\n",
    "print(\"2. Computing Serendipity...\")\n",
    "questionnaires_evaluator.compute_serendipity(project_root=PROJECT_ROOT, results_dir=exp_results_path)"
   ]
  }
 ],
 "metadata": {
  "kernelspec": {
   "display_name": ".env",
   "language": "python",
   "name": "python3"
  },
  "language_info": {
   "codemirror_mode": {
    "name": "ipython",
    "version": 3
   },
   "file_extension": ".py",
   "mimetype": "text/x-python",
   "name": "python",
   "nbconvert_exporter": "python",
   "pygments_lexer": "ipython3",
   "version": "3.10.0"
  }
 },
 "nbformat": 4,
 "nbformat_minor": 2
}
