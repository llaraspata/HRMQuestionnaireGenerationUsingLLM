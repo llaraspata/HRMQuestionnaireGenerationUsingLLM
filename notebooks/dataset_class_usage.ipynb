{
 "cells": [
  {
   "cell_type": "markdown",
   "metadata": {},
   "source": [
    "# **TFQuestionnaireDataset usage**"
   ]
  },
  {
   "cell_type": "markdown",
   "metadata": {},
   "source": [
    "In this notebook a short demo about the TFQuestionnaireDataset class is shown.\n",
    "Precisely, below are reported the conversion method of a questionnaire to and from JSON format, which are crucial for the generation tasks.\n",
    "\n",
    "\n",
    "The json is structured as follows:\n",
    "- Within the top-level \"data\" key, there is the key \"TF_QUESTIONNAIRES\" with a corresponding value that is an array, whose elements represent questionnaires. *Notice that just onee questionnaire will be included.*\n",
    "- Each questionnaire object has the following keys: \"ID\", \"CODE\", \"NAME\", \"DESCRIPTION\", and \"_TF_QUESTIONS\".\n",
    "- The value of the \"_TF_QUESTIONS\" key is another array.\n",
    "- Each element in the \"_TF_QUESTIONS\" array is an object representing a question.\n",
    "- Each question object has the following keys: \"ID\", \"TYPE_ID\", \"QUESTIONNAIRE_ID\", \"CODE\", \"NAME\", and \"_TF_ANSWERS\".\n",
    "- The value of the \"_TF_ANSWERS\" key is another array.\n",
    "- Each element in the \"_TF_ANSWERS\" array is an object representing an answer option for the question.\n",
    "- Each answer object has the following keys: \"ID\", \"QUESTION_ID\", \"ANSWER\", and \"SCORE\".\n",
    "Overall, the JSON represents a hierarchical structure of questionnaires, questions, and answer options.\n"
   ]
  },
  {
   "cell_type": "code",
   "execution_count": 1,
   "metadata": {},
   "outputs": [],
   "source": [
    "import os\n",
    "import sys\n",
    "sys.path.append('\\\\'.join(os.getcwd().split('\\\\')[:-1])+'\\\\src')\n",
    "\n",
    "from src.data.TFQuestionnairesDataset import TFQuestionnairesDataset"
   ]
  },
  {
   "cell_type": "code",
   "execution_count": 2,
   "metadata": {},
   "outputs": [],
   "source": [
    "# ----------------\n",
    "# Load data\n",
    "# ----------------\n",
    "dataset = TFQuestionnairesDataset()\n",
    "dataset.load_data(project_root=os.path.abspath(os.path.join(os.getcwd(), os.pardir)))\n",
    "\n",
    "questionnaire_id = 1146002"
   ]
  },
  {
   "cell_type": "markdown",
   "metadata": {},
   "source": [
    "## *Format conversion*"
   ]
  },
  {
   "cell_type": "code",
   "execution_count": 3,
   "metadata": {},
   "outputs": [
    {
     "data": {
      "text/plain": [
       "'{\"data\": {\"TF_QUESTIONNAIRES\": [{\"CODE\": \"Stress Survey\", \"NAME\": \"Stress Survey\", \"_TF_QUESTIONS\": [{\"CODE\": \"1\", \"NAME\": \"I often feel overwhelmed by tasks which I\\'m not sure to complete in time\", \"TYPE_ID\": 3, \"DISPLAY_ORDER\": 1, \"_TF_ANSWERS\": [{\"ANSWER\": \"Completely Disagree\"}, {\"ANSWER\": \"2\"}, {\"ANSWER\": \"3\"}, {\"ANSWER\": \"4\"}, {\"ANSWER\": \"5\"}, {\"ANSWER\": \"6\"}, {\"ANSWER\": \"7\"}, {\"ANSWER\": \"8\"}, {\"ANSWER\": \"9\"}, {\"ANSWER\": \"Strongly Agree\"}]}, {\"CODE\": \"2\", \"NAME\": \"I\\'m not comfortable with my working Time schedule and I would like to shift or reduce it\", \"TYPE_ID\": 3, \"DISPLAY_ORDER\": 2, \"_TF_ANSWERS\": [{\"ANSWER\": \"Completely Disagree\"}, {\"ANSWER\": \"2\"}, {\"ANSWER\": \"3\"}, {\"ANSWER\": \"4\"}, {\"ANSWER\": \"5\"}, {\"ANSWER\": \"6\"}, {\"ANSWER\": \"7\"}, {\"ANSWER\": \"8\"}, {\"ANSWER\": \"9\"}, {\"ANSWER\": \"Strongly Agree\"}]}, {\"CODE\": \"3\", \"NAME\": \"I\\'m often frustrated because I\\'m allocated on tasks which I\\'m not really interested to\", \"TYPE_ID\": 3, \"DISPLAY_ORDER\": 3, \"_TF_ANSWERS\": [{\"ANSWER\": \"Completely Disagree\"}, {\"ANSWER\": \"2\"}, {\"ANSWER\": \"3\"}, {\"ANSWER\": \"4\"}, {\"ANSWER\": \"5\"}, {\"ANSWER\": \"6\"}, {\"ANSWER\": \"7\"}, {\"ANSWER\": \"8\"}, {\"ANSWER\": \"9\"}, {\"ANSWER\": \"Strongly Agree\"}]}, {\"CODE\": \"4\", \"NAME\": \"I often work overtime and I don\\'t have time for myself\", \"TYPE_ID\": 3, \"DISPLAY_ORDER\": 4, \"_TF_ANSWERS\": [{\"ANSWER\": \"Completely Disagree\"}, {\"ANSWER\": \"2\"}, {\"ANSWER\": \"3\"}, {\"ANSWER\": \"4\"}, {\"ANSWER\": \"5\"}, {\"ANSWER\": \"6\"}, {\"ANSWER\": \"7\"}, {\"ANSWER\": \"8\"}, {\"ANSWER\": \"9\"}, {\"ANSWER\": \"Strongly Agree\"}]}, {\"CODE\": \"5\", \"NAME\": \"The place where I use to work for most of my time is not really comfortable.\", \"TYPE_ID\": 3, \"DISPLAY_ORDER\": 5, \"_TF_ANSWERS\": [{\"ANSWER\": \"Completely Disagree\"}, {\"ANSWER\": \"2\"}, {\"ANSWER\": \"3\"}, {\"ANSWER\": \"4\"}, {\"ANSWER\": \"5\"}, {\"ANSWER\": \"6\"}, {\"ANSWER\": \"7\"}, {\"ANSWER\": \"8\"}, {\"ANSWER\": \"9\"}, {\"ANSWER\": \"Strongly Agree\"}]}, {\"CODE\": \"6\", \"NAME\": \"I would like more occasions to talk with my manager and explain my view and expectations.\", \"TYPE_ID\": 3, \"DISPLAY_ORDER\": 6, \"_TF_ANSWERS\": [{\"ANSWER\": \"Completely Disagree\"}, {\"ANSWER\": \"2\"}, {\"ANSWER\": \"3\"}, {\"ANSWER\": \"4\"}, {\"ANSWER\": \"5\"}, {\"ANSWER\": \"6\"}, {\"ANSWER\": \"7\"}, {\"ANSWER\": \"8\"}, {\"ANSWER\": \"9\"}, {\"ANSWER\": \"Strongly Agree\"}]}, {\"CODE\": \"7\", \"NAME\": \"I don\\'t feel 100% comfortable working with some of my colleagues.\", \"TYPE_ID\": 3, \"DISPLAY_ORDER\": 7, \"_TF_ANSWERS\": [{\"ANSWER\": \"Completely Disagree\"}, {\"ANSWER\": \"2\"}, {\"ANSWER\": \"3\"}, {\"ANSWER\": \"4\"}, {\"ANSWER\": \"5\"}, {\"ANSWER\": \"6\"}, {\"ANSWER\": \"7\"}, {\"ANSWER\": \"8\"}, {\"ANSWER\": \"9\"}, {\"ANSWER\": \"Strongly Agree\"}]}]}]}}'"
      ]
     },
     "execution_count": 3,
     "metadata": {},
     "output_type": "execute_result"
    }
   ],
   "source": [
    "# ----------------\n",
    "# To JSON\n",
    "# ----------------\n",
    "json = dataset.to_json(questionnaire_id)\n",
    "json"
   ]
  },
  {
   "cell_type": "code",
   "execution_count": 4,
   "metadata": {},
   "outputs": [],
   "source": [
    "# ----------------\n",
    "# From JSON\n",
    "# ----------------\n",
    "generated_json = \"\"\"{\n",
    "  \"data\": {\n",
    "    \"TF_QUESTIONNAIRES\": [\n",
    "      {\n",
    "        \"CODE\": \"WSQ01\",\n",
    "        \"NAME\": \"Work Stress Questionnaire\",\n",
    "        \"_TF_QUESTIONS\": [\n",
    "          {\n",
    "            \"CODE\": \"Q01\",\n",
    "            \"NAME\": \"How often do you feel overwhelmed by your workload?\",\n",
    "            \"TYPE_ID\": 3,\n",
    "            \"DISPLAY_ORDER\": 1,\n",
    "            \"_TF_ANSWERS\": [\n",
    "              {\n",
    "                \"ANSWER\": \"Never\"\n",
    "              },\n",
    "              {\n",
    "                \"ANSWER\": \"Rarely\"\n",
    "              },\n",
    "              {\n",
    "                \"ANSWER\": \"Sometimes\"\n",
    "              },\n",
    "              {\n",
    "                \"ANSWER\": \"Often\"\n",
    "              },\n",
    "              {\n",
    "                \"ANSWER\": \"Always\"\n",
    "              }\n",
    "            ]\n",
    "          },\n",
    "          {\n",
    "            \"CODE\": \"Q02\",\n",
    "            \"NAME\": \"How often do you feel that you have too little time to complete your tasks?\",\n",
    "            \"TYPE_ID\": 3,\n",
    "            \"DISPLAY_ORDER\": 2,\n",
    "            \"_TF_ANSWERS\": [\n",
    "              {\n",
    "                \"ANSWER\": \"Never\"\n",
    "              },\n",
    "              {\n",
    "                \"ANSWER\": \"Rarely\"\n",
    "              },\n",
    "              {\n",
    "                \"ANSWER\": \"Sometimes\"\n",
    "              },\n",
    "              {\n",
    "                \"ANSWER\": \"Often\"\n",
    "              },\n",
    "              {\n",
    "                \"ANSWER\": \"Always\"\n",
    "              }\n",
    "            ]\n",
    "          },\n",
    "          {\n",
    "            \"CODE\": \"Q03\",\n",
    "            \"NAME\": \"How often do you feel that you are not appreciated for your work?\",\n",
    "            \"TYPE_ID\": 3,\n",
    "            \"DISPLAY_ORDER\": 3,\n",
    "            \"_TF_ANSWERS\": [\n",
    "              {\n",
    "                \"ANSWER\": \"Never\"\n",
    "              },\n",
    "              {\n",
    "                \"ANSWER\": \"Rarely\"\n",
    "              },\n",
    "              {\n",
    "                \"ANSWER\": \"Sometimes\"\n",
    "              },\n",
    "              {\n",
    "                \"ANSWER\": \"Often\"\n",
    "              },\n",
    "              {\n",
    "                \"ANSWER\": \"Always\"\n",
    "              }\n",
    "            ]\n",
    "          },\n",
    "          {\n",
    "            \"CODE\": \"Q04\",\n",
    "            \"NAME\": \"How often do you feel that you are not in control of your work?\",\n",
    "            \"TYPE_ID\": 3,\n",
    "            \"DISPLAY_ORDER\": 4,\n",
    "            \"_TF_ANSWERS\": [\n",
    "              {\n",
    "                \"ANSWER\": \"Never\"\n",
    "              },\n",
    "              {\n",
    "                \"ANSWER\": \"Rarely\"\n",
    "              },\n",
    "              {\n",
    "                \"ANSWER\": \"Sometimes\"\n",
    "              },\n",
    "              {\n",
    "                \"ANSWER\": \"Often\"\n",
    "              },\n",
    "              {\n",
    "                \"ANSWER\": \"Always\"\n",
    "              }\n",
    "            ]\n",
    "          },\n",
    "          {\n",
    "            \"CODE\": \"Q05\",\n",
    "            \"NAME\": \"How often do you feel that you are not being challenged enough at work?\",\n",
    "            \"TYPE_ID\": 3,\n",
    "            \"DISPLAY_ORDER\": 5,\n",
    "            \"_TF_ANSWERS\": [\n",
    "              {\n",
    "                \"ANSWER\": \"Never\"\n",
    "              },\n",
    "              {\n",
    "                \"ANSWER\": \"Rarely\"\n",
    "              },\n",
    "              {\n",
    "                \"ANSWER\": \"Sometimes\"\n",
    "              },\n",
    "              {\n",
    "                \"ANSWER\": \"Often\"\n",
    "              },\n",
    "              {\n",
    "                \"ANSWER\": \"Always\"\n",
    "              }\n",
    "            ]\n",
    "          },\n",
    "          {\n",
    "            \"CODE\": \"Q06\",\n",
    "            \"NAME\": \"How often do you feel that you are not being supported by your colleagues?\",\n",
    "            \"TYPE_ID\": 3,\n",
    "            \"DISPLAY_ORDER\": 6,\n",
    "            \"_TF_ANSWERS\": [\n",
    "              {\n",
    "                \"ANSWER\": \"Never\"\n",
    "              },\n",
    "              {\n",
    "                \"ANSWER\": \"Rarely\"\n",
    "              },\n",
    "              {\n",
    "                \"ANSWER\": \"Sometimes\"\n",
    "              },\n",
    "              {\n",
    "                \"ANSWER\": \"Often\"\n",
    "              },\n",
    "              {\n",
    "                \"ANSWER\": \"Always\"\n",
    "              }\n",
    "            ]\n",
    "          },\n",
    "          {\n",
    "            \"CODE\": \"Q07\",\n",
    "            \"NAME\": \"How often do you feel that you are not being supported by your manager?\",\n",
    "            \"TYPE_ID\": 3,\n",
    "            \"DISPLAY_ORDER\": 7,\n",
    "            \"_TF_ANSWERS\": [\n",
    "              {\n",
    "                \"ANSWER\": \"Never\"\n",
    "              },\n",
    "              {\n",
    "                \"ANSWER\": \"Rarely\"\n",
    "              },\n",
    "              {\n",
    "                \"ANSWER\": \"Sometimes\"\n",
    "              },\n",
    "              {\n",
    "                \"ANSWER\": \"Often\"\n",
    "              },\n",
    "              {\n",
    "                \"ANSWER\": \"Always\"\n",
    "              }\n",
    "            ]\n",
    "          }\n",
    "        ]\n",
    "      }\n",
    "    ]\n",
    "  }\n",
    "}\"\"\""
   ]
  },
  {
   "cell_type": "code",
   "execution_count": 5,
   "metadata": {},
   "outputs": [],
   "source": [
    "questionnaire = TFQuestionnairesDataset.from_json(project_root=os.path.abspath(os.path.join(os.getcwd(), os.pardir)), json_data=json, questionnaire_id=1146004)"
   ]
  },
  {
   "cell_type": "code",
   "execution_count": 6,
   "metadata": {},
   "outputs": [
    {
     "data": {
      "text/html": [
       "<div>\n",
       "<style scoped>\n",
       "    .dataframe tbody tr th:only-of-type {\n",
       "        vertical-align: middle;\n",
       "    }\n",
       "\n",
       "    .dataframe tbody tr th {\n",
       "        vertical-align: top;\n",
       "    }\n",
       "\n",
       "    .dataframe thead th {\n",
       "        text-align: right;\n",
       "    }\n",
       "</style>\n",
       "<table border=\"1\" class=\"dataframe\">\n",
       "  <thead>\n",
       "    <tr style=\"text-align: right;\">\n",
       "      <th></th>\n",
       "      <th>ID</th>\n",
       "      <th>CODE</th>\n",
       "      <th>NAME</th>\n",
       "    </tr>\n",
       "  </thead>\n",
       "  <tbody>\n",
       "    <tr>\n",
       "      <th>0</th>\n",
       "      <td>1146004</td>\n",
       "      <td>Stress Survey</td>\n",
       "      <td>Stress Survey</td>\n",
       "    </tr>\n",
       "  </tbody>\n",
       "</table>\n",
       "</div>"
      ],
      "text/plain": [
       "        ID           CODE           NAME\n",
       "0  1146004  Stress Survey  Stress Survey"
      ]
     },
     "execution_count": 6,
     "metadata": {},
     "output_type": "execute_result"
    }
   ],
   "source": [
    "questionnaire.questionnaires"
   ]
  },
  {
   "cell_type": "code",
   "execution_count": 7,
   "metadata": {},
   "outputs": [
    {
     "data": {
      "text/html": [
       "<div>\n",
       "<style scoped>\n",
       "    .dataframe tbody tr th:only-of-type {\n",
       "        vertical-align: middle;\n",
       "    }\n",
       "\n",
       "    .dataframe tbody tr th {\n",
       "        vertical-align: top;\n",
       "    }\n",
       "\n",
       "    .dataframe thead th {\n",
       "        text-align: right;\n",
       "    }\n",
       "</style>\n",
       "<table border=\"1\" class=\"dataframe\">\n",
       "  <thead>\n",
       "    <tr style=\"text-align: right;\">\n",
       "      <th></th>\n",
       "      <th>ID</th>\n",
       "      <th>TYPE_ID</th>\n",
       "      <th>QUESTIONNAIRE_ID</th>\n",
       "      <th>CODE</th>\n",
       "      <th>NAME</th>\n",
       "      <th>DISPLAY_ORDER</th>\n",
       "    </tr>\n",
       "  </thead>\n",
       "  <tbody>\n",
       "    <tr>\n",
       "      <th>0</th>\n",
       "      <td>0</td>\n",
       "      <td>3</td>\n",
       "      <td>1146004</td>\n",
       "      <td>1</td>\n",
       "      <td>I often feel overwhelmed by tasks which I'm no...</td>\n",
       "      <td>1</td>\n",
       "    </tr>\n",
       "    <tr>\n",
       "      <th>1</th>\n",
       "      <td>1</td>\n",
       "      <td>3</td>\n",
       "      <td>1146004</td>\n",
       "      <td>2</td>\n",
       "      <td>I'm not comfortable with my working Time sched...</td>\n",
       "      <td>2</td>\n",
       "    </tr>\n",
       "    <tr>\n",
       "      <th>2</th>\n",
       "      <td>2</td>\n",
       "      <td>3</td>\n",
       "      <td>1146004</td>\n",
       "      <td>3</td>\n",
       "      <td>I'm often frustrated because I'm allocated on ...</td>\n",
       "      <td>3</td>\n",
       "    </tr>\n",
       "    <tr>\n",
       "      <th>3</th>\n",
       "      <td>3</td>\n",
       "      <td>3</td>\n",
       "      <td>1146004</td>\n",
       "      <td>4</td>\n",
       "      <td>I often work overtime and I don't have time fo...</td>\n",
       "      <td>4</td>\n",
       "    </tr>\n",
       "    <tr>\n",
       "      <th>4</th>\n",
       "      <td>4</td>\n",
       "      <td>3</td>\n",
       "      <td>1146004</td>\n",
       "      <td>5</td>\n",
       "      <td>The place where I use to work for most of my t...</td>\n",
       "      <td>5</td>\n",
       "    </tr>\n",
       "    <tr>\n",
       "      <th>5</th>\n",
       "      <td>5</td>\n",
       "      <td>3</td>\n",
       "      <td>1146004</td>\n",
       "      <td>6</td>\n",
       "      <td>I would like more occasions to talk with my ma...</td>\n",
       "      <td>6</td>\n",
       "    </tr>\n",
       "    <tr>\n",
       "      <th>6</th>\n",
       "      <td>6</td>\n",
       "      <td>3</td>\n",
       "      <td>1146004</td>\n",
       "      <td>7</td>\n",
       "      <td>I don't feel 100% comfortable working with som...</td>\n",
       "      <td>7</td>\n",
       "    </tr>\n",
       "  </tbody>\n",
       "</table>\n",
       "</div>"
      ],
      "text/plain": [
       "   ID  TYPE_ID  QUESTIONNAIRE_ID CODE  \\\n",
       "0   0        3           1146004    1   \n",
       "1   1        3           1146004    2   \n",
       "2   2        3           1146004    3   \n",
       "3   3        3           1146004    4   \n",
       "4   4        3           1146004    5   \n",
       "5   5        3           1146004    6   \n",
       "6   6        3           1146004    7   \n",
       "\n",
       "                                                NAME  DISPLAY_ORDER  \n",
       "0  I often feel overwhelmed by tasks which I'm no...              1  \n",
       "1  I'm not comfortable with my working Time sched...              2  \n",
       "2  I'm often frustrated because I'm allocated on ...              3  \n",
       "3  I often work overtime and I don't have time fo...              4  \n",
       "4  The place where I use to work for most of my t...              5  \n",
       "5  I would like more occasions to talk with my ma...              6  \n",
       "6  I don't feel 100% comfortable working with som...              7  "
      ]
     },
     "execution_count": 7,
     "metadata": {},
     "output_type": "execute_result"
    }
   ],
   "source": [
    "questionnaire.questions"
   ]
  },
  {
   "cell_type": "code",
   "execution_count": 8,
   "metadata": {},
   "outputs": [
    {
     "data": {
      "text/html": [
       "<div>\n",
       "<style scoped>\n",
       "    .dataframe tbody tr th:only-of-type {\n",
       "        vertical-align: middle;\n",
       "    }\n",
       "\n",
       "    .dataframe tbody tr th {\n",
       "        vertical-align: top;\n",
       "    }\n",
       "\n",
       "    .dataframe thead th {\n",
       "        text-align: right;\n",
       "    }\n",
       "</style>\n",
       "<table border=\"1\" class=\"dataframe\">\n",
       "  <thead>\n",
       "    <tr style=\"text-align: right;\">\n",
       "      <th></th>\n",
       "      <th>ID</th>\n",
       "      <th>QUESTION_ID</th>\n",
       "      <th>ANSWER</th>\n",
       "    </tr>\n",
       "  </thead>\n",
       "  <tbody>\n",
       "    <tr>\n",
       "      <th>0</th>\n",
       "      <td>0</td>\n",
       "      <td>0</td>\n",
       "      <td>Completely Disagree</td>\n",
       "    </tr>\n",
       "    <tr>\n",
       "      <th>1</th>\n",
       "      <td>1</td>\n",
       "      <td>0</td>\n",
       "      <td>2</td>\n",
       "    </tr>\n",
       "    <tr>\n",
       "      <th>2</th>\n",
       "      <td>2</td>\n",
       "      <td>0</td>\n",
       "      <td>3</td>\n",
       "    </tr>\n",
       "    <tr>\n",
       "      <th>3</th>\n",
       "      <td>3</td>\n",
       "      <td>0</td>\n",
       "      <td>4</td>\n",
       "    </tr>\n",
       "    <tr>\n",
       "      <th>4</th>\n",
       "      <td>4</td>\n",
       "      <td>0</td>\n",
       "      <td>5</td>\n",
       "    </tr>\n",
       "    <tr>\n",
       "      <th>...</th>\n",
       "      <td>...</td>\n",
       "      <td>...</td>\n",
       "      <td>...</td>\n",
       "    </tr>\n",
       "    <tr>\n",
       "      <th>65</th>\n",
       "      <td>5</td>\n",
       "      <td>6</td>\n",
       "      <td>6</td>\n",
       "    </tr>\n",
       "    <tr>\n",
       "      <th>66</th>\n",
       "      <td>6</td>\n",
       "      <td>6</td>\n",
       "      <td>7</td>\n",
       "    </tr>\n",
       "    <tr>\n",
       "      <th>67</th>\n",
       "      <td>7</td>\n",
       "      <td>6</td>\n",
       "      <td>8</td>\n",
       "    </tr>\n",
       "    <tr>\n",
       "      <th>68</th>\n",
       "      <td>8</td>\n",
       "      <td>6</td>\n",
       "      <td>9</td>\n",
       "    </tr>\n",
       "    <tr>\n",
       "      <th>69</th>\n",
       "      <td>9</td>\n",
       "      <td>6</td>\n",
       "      <td>Strongly Agree</td>\n",
       "    </tr>\n",
       "  </tbody>\n",
       "</table>\n",
       "<p>70 rows × 3 columns</p>\n",
       "</div>"
      ],
      "text/plain": [
       "    ID  QUESTION_ID               ANSWER\n",
       "0    0            0  Completely Disagree\n",
       "1    1            0                    2\n",
       "2    2            0                    3\n",
       "3    3            0                    4\n",
       "4    4            0                    5\n",
       "..  ..          ...                  ...\n",
       "65   5            6                    6\n",
       "66   6            6                    7\n",
       "67   7            6                    8\n",
       "68   8            6                    9\n",
       "69   9            6       Strongly Agree\n",
       "\n",
       "[70 rows x 3 columns]"
      ]
     },
     "execution_count": 8,
     "metadata": {},
     "output_type": "execute_result"
    }
   ],
   "source": [
    "questionnaire.answers"
   ]
  },
  {
   "cell_type": "markdown",
   "metadata": {},
   "source": [
    "## *Get questionaire info*"
   ]
  },
  {
   "cell_type": "code",
   "execution_count": 9,
   "metadata": {},
   "outputs": [
    {
     "data": {
      "text/plain": [
       "'Stress at work'"
      ]
     },
     "execution_count": 9,
     "metadata": {},
     "output_type": "execute_result"
    }
   ],
   "source": [
    "topic = dataset.get_questionnaire_topic(questionnaire_id)\n",
    "topic"
   ]
  },
  {
   "cell_type": "code",
   "execution_count": 10,
   "metadata": {},
   "outputs": [
    {
     "data": {
      "text/plain": [
       "'Rating scale'"
      ]
     },
     "execution_count": 10,
     "metadata": {},
     "output_type": "execute_result"
    }
   ],
   "source": [
    "question_types = dataset.get_questionnaire_question_type(questionnaire_id)\n",
    "question_types"
   ]
  },
  {
   "cell_type": "code",
   "execution_count": 11,
   "metadata": {},
   "outputs": [
    {
     "data": {
      "text/plain": [
       "7"
      ]
     },
     "execution_count": 11,
     "metadata": {},
     "output_type": "execute_result"
    }
   ],
   "source": [
    "question_number = dataset.get_questionnaire_question_number(questionnaire_id)\n",
    "question_number"
   ]
  },
  {
   "cell_type": "code",
   "execution_count": 12,
   "metadata": {},
   "outputs": [
    {
     "data": {
      "text/plain": [
       "10.0"
      ]
     },
     "execution_count": 12,
     "metadata": {},
     "output_type": "execute_result"
    }
   ],
   "source": [
    "avg_answers = dataset.get_average_answer_number(questionnaire_id)\n",
    "avg_answers"
   ]
  },
  {
   "cell_type": "code",
   "execution_count": 13,
   "metadata": {},
   "outputs": [
    {
     "data": {
      "text/plain": [
       "10"
      ]
     },
     "execution_count": 13,
     "metadata": {},
     "output_type": "execute_result"
    }
   ],
   "source": [
    "subtopics_count = dataset.get_questionnaire_subtopics(questionnaire_id)\n",
    "subtopics_count"
   ]
  }
 ],
 "metadata": {
  "kernelspec": {
   "display_name": ".env",
   "language": "python",
   "name": "python3"
  },
  "language_info": {
   "codemirror_mode": {
    "name": "ipython",
    "version": 3
   },
   "file_extension": ".py",
   "mimetype": "text/x-python",
   "name": "python",
   "nbconvert_exporter": "python",
   "pygments_lexer": "ipython3",
   "version": "3.11.9"
  }
 },
 "nbformat": 4,
 "nbformat_minor": 2
}
