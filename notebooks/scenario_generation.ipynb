{
 "cells": [
  {
   "cell_type": "markdown",
   "metadata": {},
   "source": [
    "# **Scenario Generation**"
   ]
  },
  {
   "cell_type": "markdown",
   "metadata": {},
   "source": [
    "In this notebook is illustrated how to generate scenarios by using the implemented libraries, where 'scenario' refers to the test case with a specific prompting technique.\n",
    "\n",
    "The reported scenario are:\n",
    "- **zero-shot**, where the LLM is asked to perform the task without any previous example.\n",
    "- **one-shot**, where we provide one example to the LLM before asking it to perform the final task."
   ]
  },
  {
   "cell_type": "code",
   "execution_count": 1,
   "metadata": {},
   "outputs": [],
   "source": [
    "import os\n",
    "import sys\n",
    "sys.path.append('\\\\'.join(os.getcwd().split('\\\\')[:-1])+'\\\\src')\n",
    "\n",
    "from src.data.TFQuestionnairesDataset import TFQuestionnairesDataset\n",
    "from src.prompts.ScenarioGenerator import ScenarioGenerator\n",
    "\n",
    "from pprint import pprint"
   ]
  },
  {
   "cell_type": "code",
   "execution_count": 2,
   "metadata": {},
   "outputs": [],
   "source": [
    "# ----------------\n",
    "# Load data\n",
    "# ----------------\n",
    "dataset = TFQuestionnairesDataset()\n",
    "dataset.load_data(project_root=os.path.abspath(os.path.join(os.getcwd(), os.pardir)))"
   ]
  },
  {
   "cell_type": "markdown",
   "metadata": {},
   "source": [
    "In order to experiment different configuration, we will use a dictionary. A sample of it is reported below. \n",
    "\n",
    "*Notice that here we reported only the strictly necessary information.*"
   ]
  },
  {
   "cell_type": "code",
   "execution_count": 3,
   "metadata": {},
   "outputs": [],
   "source": [
    "experiment_config = [\n",
    "    {\n",
    "        \"technique\": \"zero-shot\",\n",
    "        \"k\": 0,\n",
    "        \"has_full_params\": True\n",
    "    },\n",
    "    {\n",
    "        \"technique\": \"one-shot\",\n",
    "        \"k\": 1,\n",
    "        \"has_full_params\": True\n",
    "    }\n",
    "]"
   ]
  },
  {
   "cell_type": "markdown",
   "metadata": {},
   "source": [
    "## **Zero-Shot**"
   ]
  },
  {
   "cell_type": "code",
   "execution_count": 4,
   "metadata": {},
   "outputs": [],
   "source": [
    "log_file = \"demo_prompt_zero_shot.txt\"\n",
    "scenario_generator = ScenarioGenerator(experiment_config=experiment_config[0], dataset=dataset)"
   ]
  },
  {
   "cell_type": "code",
   "execution_count": 5,
   "metadata": {},
   "outputs": [],
   "source": [
    "with open(log_file, \"w\") as log_file:\n",
    "    for i in range(0, 3):\n",
    "        questionnaire_id = dataset.questionnaires[\"ID\"][i]\n",
    "        system_prompt, sample_user_prompts, assistant_prompts, user_prompt = scenario_generator.generate_scenario(log_file=log_file,\n",
    "                                                                                                                  current_questionnaire_id=questionnaire_id, dataset=dataset)\n",
    "\n",
    "        log_file.write(\"\\n-------------------\")\n",
    "        log_file.write(\"\\n[PROMPTS]\")\n",
    "        log_file.write(f\"\\n     - System: \\n{system_prompt}\")\n",
    "        log_file.write(f\"\\n     - Sample users: \\n{sample_user_prompts}\")\n",
    "        log_file.write(f\"\\n     - Assistant: \\n{assistant_prompts}\")\n",
    "        log_file.write(f\"\\n     - User: \\n{user_prompt}\")\n",
    "        log_file.write(\"\\n-------------------\")\n",
    "log_file.close()"
   ]
  },
  {
   "cell_type": "markdown",
   "metadata": {},
   "source": [
    "## **One-Shot**"
   ]
  },
  {
   "cell_type": "code",
   "execution_count": 6,
   "metadata": {},
   "outputs": [],
   "source": [
    "log_file = \"demo_prompt_one_shot.txt\"\n",
    "scenario_generator = ScenarioGenerator(experiment_config=experiment_config[1], dataset=dataset)"
   ]
  },
  {
   "cell_type": "code",
   "execution_count": 7,
   "metadata": {},
   "outputs": [],
   "source": [
    "with open(log_file, \"w\") as log_file:\n",
    "    for i in range(0, 3):\n",
    "        questionnaire_id = dataset.questionnaires[\"ID\"][i]\n",
    "        system_prompt, sample_user_prompts, assistant_prompts, user_prompt = scenario_generator.generate_scenario(log_file=log_file,\n",
    "                                                                                                                  current_questionnaire_id=questionnaire_id, dataset=dataset)\n",
    "\n",
    "        log_file.write(\"\\n-------------------\")\n",
    "        log_file.write(\"\\n[PROMPTS]\")\n",
    "        log_file.write(f\"\\n     - System: \\n{system_prompt}\")\n",
    "        log_file.write(f\"\\n     - Sample users: \\n{sample_user_prompts}\")\n",
    "        log_file.write(f\"\\n     - Assistant: \\n{assistant_prompts}\")\n",
    "        log_file.write(f\"\\n     - User: \\n{user_prompt}\")\n",
    "        log_file.write(\"\\n-------------------\")\n",
    "log_file.close()"
   ]
  }
 ],
 "metadata": {
  "kernelspec": {
   "display_name": ".env",
   "language": "python",
   "name": "python3"
  },
  "language_info": {
   "codemirror_mode": {
    "name": "ipython",
    "version": 3
   },
   "file_extension": ".py",
   "mimetype": "text/x-python",
   "name": "python",
   "nbconvert_exporter": "python",
   "pygments_lexer": "ipython3",
   "version": "3.12.2"
  }
 },
 "nbformat": 4,
 "nbformat_minor": 2
}
