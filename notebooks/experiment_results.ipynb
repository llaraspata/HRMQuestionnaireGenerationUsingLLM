{
 "cells": [
  {
   "cell_type": "markdown",
   "metadata": {},
   "source": [
    "# **Results**"
   ]
  },
  {
   "cell_type": "markdown",
   "metadata": {},
   "source": [
    "In this notebook the experiment results are reported. \n",
    "\n",
    "- Best and Worst based on: Conversion Error, not json error, syntactic intraquestionnaire similarity, semantic score, serendipity\n",
    "- Plot of trend variation on different values for temperature and frequency penalty.\n",
    "- TODO: altro"
   ]
  },
  {
   "cell_type": "code",
   "execution_count": 1,
   "metadata": {},
   "outputs": [],
   "source": [
    "import os\n",
    "import sys\n",
    "sys.path.append('\\\\'.join(os.getcwd().split('\\\\')[:-1])+'\\\\src')\n",
    "from src.visualization.GlobalResultVisualizer import GlobalResultVisualizer"
   ]
  },
  {
   "cell_type": "markdown",
   "metadata": {},
   "source": [
    "## **Global results**"
   ]
  },
  {
   "cell_type": "code",
   "execution_count": 2,
   "metadata": {},
   "outputs": [],
   "source": [
    "grv = GlobalResultVisualizer(project_root=os.path.abspath(os.path.join(os.getcwd(), os.pardir)))\n",
    "bw_conversion_errors_df, bw_json_errors_df, bw_intraquestionnaire_similarity_df, bw_semantic_metrics_df, bw_serendipity_scores_df = grv.get_best_and_worst_experiments()"
   ]
  },
  {
   "cell_type": "code",
   "execution_count": 3,
   "metadata": {},
   "outputs": [
    {
     "data": {
      "text/html": [
       "<div>\n",
       "<style scoped>\n",
       "    .dataframe tbody tr th:only-of-type {\n",
       "        vertical-align: middle;\n",
       "    }\n",
       "\n",
       "    .dataframe tbody tr th {\n",
       "        vertical-align: top;\n",
       "    }\n",
       "\n",
       "    .dataframe thead th {\n",
       "        text-align: right;\n",
       "    }\n",
       "</style>\n",
       "<table border=\"1\" class=\"dataframe\">\n",
       "  <thead>\n",
       "    <tr style=\"text-align: right;\">\n",
       "      <th></th>\n",
       "      <th>EXPERIMENT_ID</th>\n",
       "      <th>CONVERSION_ERROR_RATE</th>\n",
       "    </tr>\n",
       "  </thead>\n",
       "  <tbody>\n",
       "    <tr>\n",
       "      <th>0</th>\n",
       "      <td>0s_FULL_gpt-35-turbo-dev_6000MT_0.5T_1FP</td>\n",
       "      <td>100.0</td>\n",
       "    </tr>\n",
       "    <tr>\n",
       "      <th>1</th>\n",
       "      <td>0s_gpt-35-turbo-dev_6000MT_0T_1FP</td>\n",
       "      <td>100.0</td>\n",
       "    </tr>\n",
       "    <tr>\n",
       "      <th>2</th>\n",
       "      <td>0s_gpt-4-dev_4000MT_0.5T_1FP_JSON</td>\n",
       "      <td>100.0</td>\n",
       "    </tr>\n",
       "    <tr>\n",
       "      <th>3</th>\n",
       "      <td>0s_gpt-4-dev_4000MT_0T_1FP_JSON</td>\n",
       "      <td>100.0</td>\n",
       "    </tr>\n",
       "    <tr>\n",
       "      <th>4</th>\n",
       "      <td>0s_FULL_gpt-35-turbo-dev_6000MT_0.25T_0FP</td>\n",
       "      <td>0.0</td>\n",
       "    </tr>\n",
       "    <tr>\n",
       "      <th>5</th>\n",
       "      <td>0s_FULL_gpt-35-turbo-dev_6000MT_0.5T_0FP</td>\n",
       "      <td>0.0</td>\n",
       "    </tr>\n",
       "    <tr>\n",
       "      <th>6</th>\n",
       "      <td>0s_FULL_gpt-35-turbo-dev_6000MT_0T_0FP</td>\n",
       "      <td>0.0</td>\n",
       "    </tr>\n",
       "    <tr>\n",
       "      <th>7</th>\n",
       "      <td>0s_FULL_gpt-4-dev_4000MT_0.25T_0FP_JSON</td>\n",
       "      <td>0.0</td>\n",
       "    </tr>\n",
       "    <tr>\n",
       "      <th>8</th>\n",
       "      <td>0s_FULL_gpt-4-dev_4000MT_0T_0FP_JSON</td>\n",
       "      <td>0.0</td>\n",
       "    </tr>\n",
       "    <tr>\n",
       "      <th>9</th>\n",
       "      <td>0s_gpt-35-turbo-dev_6000MT_0.25T_0FP</td>\n",
       "      <td>0.0</td>\n",
       "    </tr>\n",
       "    <tr>\n",
       "      <th>10</th>\n",
       "      <td>0s_gpt-35-turbo-dev_6000MT_0.5T_0FP</td>\n",
       "      <td>0.0</td>\n",
       "    </tr>\n",
       "    <tr>\n",
       "      <th>11</th>\n",
       "      <td>0s_gpt-35-turbo-dev_6000MT_0T_0FP</td>\n",
       "      <td>0.0</td>\n",
       "    </tr>\n",
       "    <tr>\n",
       "      <th>12</th>\n",
       "      <td>0s_gpt-4-dev_4000MT_0.5T_0FP_JSON</td>\n",
       "      <td>0.0</td>\n",
       "    </tr>\n",
       "    <tr>\n",
       "      <th>13</th>\n",
       "      <td>0s_gpt-4-dev_4000MT_0T_0FP_JSON</td>\n",
       "      <td>0.0</td>\n",
       "    </tr>\n",
       "    <tr>\n",
       "      <th>14</th>\n",
       "      <td>1s_FULL_gpt-35-turbo-dev_6000MT_0.5T_0FP</td>\n",
       "      <td>0.0</td>\n",
       "    </tr>\n",
       "    <tr>\n",
       "      <th>15</th>\n",
       "      <td>1s_FULL_gpt-4-dev_4000MT_0T_0FP_JSON</td>\n",
       "      <td>0.0</td>\n",
       "    </tr>\n",
       "    <tr>\n",
       "      <th>16</th>\n",
       "      <td>1s_gpt-35-turbo-dev_6000MT_0.25T_0FP</td>\n",
       "      <td>0.0</td>\n",
       "    </tr>\n",
       "    <tr>\n",
       "      <th>17</th>\n",
       "      <td>1s_gpt-35-turbo-dev_6000MT_0.5T_0FP</td>\n",
       "      <td>0.0</td>\n",
       "    </tr>\n",
       "    <tr>\n",
       "      <th>18</th>\n",
       "      <td>1s_gpt-4-dev_4000MT_0T_0FP_JSON</td>\n",
       "      <td>0.0</td>\n",
       "    </tr>\n",
       "  </tbody>\n",
       "</table>\n",
       "</div>"
      ],
      "text/plain": [
       "                                EXPERIMENT_ID  CONVERSION_ERROR_RATE\n",
       "0    0s_FULL_gpt-35-turbo-dev_6000MT_0.5T_1FP                  100.0\n",
       "1           0s_gpt-35-turbo-dev_6000MT_0T_1FP                  100.0\n",
       "2           0s_gpt-4-dev_4000MT_0.5T_1FP_JSON                  100.0\n",
       "3             0s_gpt-4-dev_4000MT_0T_1FP_JSON                  100.0\n",
       "4   0s_FULL_gpt-35-turbo-dev_6000MT_0.25T_0FP                    0.0\n",
       "5    0s_FULL_gpt-35-turbo-dev_6000MT_0.5T_0FP                    0.0\n",
       "6      0s_FULL_gpt-35-turbo-dev_6000MT_0T_0FP                    0.0\n",
       "7     0s_FULL_gpt-4-dev_4000MT_0.25T_0FP_JSON                    0.0\n",
       "8        0s_FULL_gpt-4-dev_4000MT_0T_0FP_JSON                    0.0\n",
       "9        0s_gpt-35-turbo-dev_6000MT_0.25T_0FP                    0.0\n",
       "10        0s_gpt-35-turbo-dev_6000MT_0.5T_0FP                    0.0\n",
       "11          0s_gpt-35-turbo-dev_6000MT_0T_0FP                    0.0\n",
       "12          0s_gpt-4-dev_4000MT_0.5T_0FP_JSON                    0.0\n",
       "13            0s_gpt-4-dev_4000MT_0T_0FP_JSON                    0.0\n",
       "14   1s_FULL_gpt-35-turbo-dev_6000MT_0.5T_0FP                    0.0\n",
       "15       1s_FULL_gpt-4-dev_4000MT_0T_0FP_JSON                    0.0\n",
       "16       1s_gpt-35-turbo-dev_6000MT_0.25T_0FP                    0.0\n",
       "17        1s_gpt-35-turbo-dev_6000MT_0.5T_0FP                    0.0\n",
       "18            1s_gpt-4-dev_4000MT_0T_0FP_JSON                    0.0"
      ]
     },
     "execution_count": 3,
     "metadata": {},
     "output_type": "execute_result"
    }
   ],
   "source": [
    "bw_conversion_errors_df[[\"EXPERIMENT_ID\", \"CONVERSION_ERROR_RATE\"]]"
   ]
  },
  {
   "cell_type": "code",
   "execution_count": 4,
   "metadata": {},
   "outputs": [
    {
     "data": {
      "text/html": [
       "<div>\n",
       "<style scoped>\n",
       "    .dataframe tbody tr th:only-of-type {\n",
       "        vertical-align: middle;\n",
       "    }\n",
       "\n",
       "    .dataframe tbody tr th {\n",
       "        vertical-align: top;\n",
       "    }\n",
       "\n",
       "    .dataframe thead th {\n",
       "        text-align: right;\n",
       "    }\n",
       "</style>\n",
       "<table border=\"1\" class=\"dataframe\">\n",
       "  <thead>\n",
       "    <tr style=\"text-align: right;\">\n",
       "      <th></th>\n",
       "      <th>EXPERIMENT_ID</th>\n",
       "      <th>JSON_ERROR_RATE</th>\n",
       "    </tr>\n",
       "  </thead>\n",
       "  <tbody>\n",
       "    <tr>\n",
       "      <th>0</th>\n",
       "      <td>0s_gpt-35-turbo-dev_6000MT_0T_1FP</td>\n",
       "      <td>100.0</td>\n",
       "    </tr>\n",
       "    <tr>\n",
       "      <th>1</th>\n",
       "      <td>0s_FULL_gpt-35-turbo-dev_6000MT_0.25T_0FP</td>\n",
       "      <td>0.0</td>\n",
       "    </tr>\n",
       "    <tr>\n",
       "      <th>2</th>\n",
       "      <td>0s_FULL_gpt-35-turbo-dev_6000MT_0.5T_0FP</td>\n",
       "      <td>0.0</td>\n",
       "    </tr>\n",
       "    <tr>\n",
       "      <th>3</th>\n",
       "      <td>0s_FULL_gpt-35-turbo-dev_6000MT_0T_0FP</td>\n",
       "      <td>0.0</td>\n",
       "    </tr>\n",
       "    <tr>\n",
       "      <th>4</th>\n",
       "      <td>0s_FULL_gpt-4-dev_4000MT_0.25T_0FP_JSON</td>\n",
       "      <td>0.0</td>\n",
       "    </tr>\n",
       "    <tr>\n",
       "      <th>5</th>\n",
       "      <td>0s_FULL_gpt-4-dev_4000MT_0T_0FP_JSON</td>\n",
       "      <td>0.0</td>\n",
       "    </tr>\n",
       "    <tr>\n",
       "      <th>6</th>\n",
       "      <td>0s_gpt-35-turbo-dev_6000MT_0.25T_0FP</td>\n",
       "      <td>0.0</td>\n",
       "    </tr>\n",
       "    <tr>\n",
       "      <th>7</th>\n",
       "      <td>0s_gpt-35-turbo-dev_6000MT_0.5T_0FP</td>\n",
       "      <td>0.0</td>\n",
       "    </tr>\n",
       "    <tr>\n",
       "      <th>8</th>\n",
       "      <td>0s_gpt-35-turbo-dev_6000MT_0T_0FP</td>\n",
       "      <td>0.0</td>\n",
       "    </tr>\n",
       "    <tr>\n",
       "      <th>9</th>\n",
       "      <td>0s_gpt-4-dev_4000MT_0.5T_0FP_JSON</td>\n",
       "      <td>0.0</td>\n",
       "    </tr>\n",
       "    <tr>\n",
       "      <th>10</th>\n",
       "      <td>0s_gpt-4-dev_4000MT_0T_0FP_JSON</td>\n",
       "      <td>0.0</td>\n",
       "    </tr>\n",
       "    <tr>\n",
       "      <th>11</th>\n",
       "      <td>1s_FULL_gpt-35-turbo-dev_6000MT_0.5T_0FP</td>\n",
       "      <td>0.0</td>\n",
       "    </tr>\n",
       "    <tr>\n",
       "      <th>12</th>\n",
       "      <td>1s_FULL_gpt-4-dev_4000MT_0T_0FP_JSON</td>\n",
       "      <td>0.0</td>\n",
       "    </tr>\n",
       "    <tr>\n",
       "      <th>13</th>\n",
       "      <td>1s_gpt-35-turbo-dev_6000MT_0.25T_0FP</td>\n",
       "      <td>0.0</td>\n",
       "    </tr>\n",
       "    <tr>\n",
       "      <th>14</th>\n",
       "      <td>1s_gpt-35-turbo-dev_6000MT_0.5T_0FP</td>\n",
       "      <td>0.0</td>\n",
       "    </tr>\n",
       "    <tr>\n",
       "      <th>15</th>\n",
       "      <td>1s_gpt-4-dev_4000MT_0T_0FP_JSON</td>\n",
       "      <td>0.0</td>\n",
       "    </tr>\n",
       "  </tbody>\n",
       "</table>\n",
       "</div>"
      ],
      "text/plain": [
       "                                EXPERIMENT_ID  JSON_ERROR_RATE\n",
       "0           0s_gpt-35-turbo-dev_6000MT_0T_1FP            100.0\n",
       "1   0s_FULL_gpt-35-turbo-dev_6000MT_0.25T_0FP              0.0\n",
       "2    0s_FULL_gpt-35-turbo-dev_6000MT_0.5T_0FP              0.0\n",
       "3      0s_FULL_gpt-35-turbo-dev_6000MT_0T_0FP              0.0\n",
       "4     0s_FULL_gpt-4-dev_4000MT_0.25T_0FP_JSON              0.0\n",
       "5        0s_FULL_gpt-4-dev_4000MT_0T_0FP_JSON              0.0\n",
       "6        0s_gpt-35-turbo-dev_6000MT_0.25T_0FP              0.0\n",
       "7         0s_gpt-35-turbo-dev_6000MT_0.5T_0FP              0.0\n",
       "8           0s_gpt-35-turbo-dev_6000MT_0T_0FP              0.0\n",
       "9           0s_gpt-4-dev_4000MT_0.5T_0FP_JSON              0.0\n",
       "10            0s_gpt-4-dev_4000MT_0T_0FP_JSON              0.0\n",
       "11   1s_FULL_gpt-35-turbo-dev_6000MT_0.5T_0FP              0.0\n",
       "12       1s_FULL_gpt-4-dev_4000MT_0T_0FP_JSON              0.0\n",
       "13       1s_gpt-35-turbo-dev_6000MT_0.25T_0FP              0.0\n",
       "14        1s_gpt-35-turbo-dev_6000MT_0.5T_0FP              0.0\n",
       "15            1s_gpt-4-dev_4000MT_0T_0FP_JSON              0.0"
      ]
     },
     "execution_count": 4,
     "metadata": {},
     "output_type": "execute_result"
    }
   ],
   "source": [
    "bw_json_errors_df[[\"EXPERIMENT_ID\", \"JSON_ERROR_RATE\"]]"
   ]
  },
  {
   "cell_type": "code",
   "execution_count": 5,
   "metadata": {},
   "outputs": [
    {
     "data": {
      "text/html": [
       "<div>\n",
       "<style scoped>\n",
       "    .dataframe tbody tr th:only-of-type {\n",
       "        vertical-align: middle;\n",
       "    }\n",
       "\n",
       "    .dataframe tbody tr th {\n",
       "        vertical-align: top;\n",
       "    }\n",
       "\n",
       "    .dataframe thead th {\n",
       "        text-align: right;\n",
       "    }\n",
       "</style>\n",
       "<table border=\"1\" class=\"dataframe\">\n",
       "  <thead>\n",
       "    <tr style=\"text-align: right;\">\n",
       "      <th></th>\n",
       "      <th>EXPERIMENT_ID</th>\n",
       "      <th>INTRAQSTN_ROUGE_L_F1_SCORE</th>\n",
       "    </tr>\n",
       "  </thead>\n",
       "  <tbody>\n",
       "    <tr>\n",
       "      <th>0</th>\n",
       "      <td>0s_FULL_gpt-35-turbo-dev_6000MT_0T_1FP</td>\n",
       "      <td>0.390810</td>\n",
       "    </tr>\n",
       "    <tr>\n",
       "      <th>1</th>\n",
       "      <td>0s_FULL_gpt-4-dev_4000MT_0.5T_1FP_JSON</td>\n",
       "      <td>0.148602</td>\n",
       "    </tr>\n",
       "  </tbody>\n",
       "</table>\n",
       "</div>"
      ],
      "text/plain": [
       "                            EXPERIMENT_ID  INTRAQSTN_ROUGE_L_F1_SCORE\n",
       "0  0s_FULL_gpt-35-turbo-dev_6000MT_0T_1FP                    0.390810\n",
       "1  0s_FULL_gpt-4-dev_4000MT_0.5T_1FP_JSON                    0.148602"
      ]
     },
     "execution_count": 5,
     "metadata": {},
     "output_type": "execute_result"
    }
   ],
   "source": [
    "bw_intraquestionnaire_similarity_df[[\"EXPERIMENT_ID\", \"INTRAQSTN_ROUGE_L_F1_SCORE\"]]"
   ]
  },
  {
   "cell_type": "code",
   "execution_count": 6,
   "metadata": {},
   "outputs": [
    {
     "data": {
      "text/html": [
       "<div>\n",
       "<style scoped>\n",
       "    .dataframe tbody tr th:only-of-type {\n",
       "        vertical-align: middle;\n",
       "    }\n",
       "\n",
       "    .dataframe tbody tr th {\n",
       "        vertical-align: top;\n",
       "    }\n",
       "\n",
       "    .dataframe thead th {\n",
       "        text-align: right;\n",
       "    }\n",
       "</style>\n",
       "<table border=\"1\" class=\"dataframe\">\n",
       "  <thead>\n",
       "    <tr style=\"text-align: right;\">\n",
       "      <th></th>\n",
       "      <th>EXPERIMENT_ID</th>\n",
       "      <th>FINAL_SCORE</th>\n",
       "    </tr>\n",
       "  </thead>\n",
       "  <tbody>\n",
       "    <tr>\n",
       "      <th>0</th>\n",
       "      <td>0s_gpt-35-turbo-dev_6000MT_0.5T_1FP</td>\n",
       "      <td>0.650004</td>\n",
       "    </tr>\n",
       "    <tr>\n",
       "      <th>1</th>\n",
       "      <td>0s_gpt-35-turbo-dev_6000MT_0T_1FP</td>\n",
       "      <td>0.333347</td>\n",
       "    </tr>\n",
       "  </tbody>\n",
       "</table>\n",
       "</div>"
      ],
      "text/plain": [
       "                         EXPERIMENT_ID  FINAL_SCORE\n",
       "0  0s_gpt-35-turbo-dev_6000MT_0.5T_1FP     0.650004\n",
       "1    0s_gpt-35-turbo-dev_6000MT_0T_1FP     0.333347"
      ]
     },
     "execution_count": 6,
     "metadata": {},
     "output_type": "execute_result"
    }
   ],
   "source": [
    "bw_semantic_metrics_df[[\"EXPERIMENT_ID\", \"FINAL_SCORE\"]]"
   ]
  },
  {
   "cell_type": "code",
   "execution_count": 7,
   "metadata": {},
   "outputs": [
    {
     "data": {
      "text/html": [
       "<div>\n",
       "<style scoped>\n",
       "    .dataframe tbody tr th:only-of-type {\n",
       "        vertical-align: middle;\n",
       "    }\n",
       "\n",
       "    .dataframe tbody tr th {\n",
       "        vertical-align: top;\n",
       "    }\n",
       "\n",
       "    .dataframe thead th {\n",
       "        text-align: right;\n",
       "    }\n",
       "</style>\n",
       "<table border=\"1\" class=\"dataframe\">\n",
       "  <thead>\n",
       "    <tr style=\"text-align: right;\">\n",
       "      <th></th>\n",
       "      <th>EXPERIMENT_ID</th>\n",
       "      <th>AVG_SERENDIPITY_SCORE</th>\n",
       "    </tr>\n",
       "  </thead>\n",
       "  <tbody>\n",
       "    <tr>\n",
       "      <th>0</th>\n",
       "      <td>1s_gpt-35-turbo-dev_6000MT_0T_0FP</td>\n",
       "      <td>0.852200</td>\n",
       "    </tr>\n",
       "    <tr>\n",
       "      <th>1</th>\n",
       "      <td>0s_FULL_gpt-35-turbo-dev_6000MT_0T_1FP</td>\n",
       "      <td>0.666667</td>\n",
       "    </tr>\n",
       "    <tr>\n",
       "      <th>2</th>\n",
       "      <td>0s_gpt-35-turbo-dev_6000MT_0.5T_1FP</td>\n",
       "      <td>0.666667</td>\n",
       "    </tr>\n",
       "  </tbody>\n",
       "</table>\n",
       "</div>"
      ],
      "text/plain": [
       "                            EXPERIMENT_ID  AVG_SERENDIPITY_SCORE\n",
       "0       1s_gpt-35-turbo-dev_6000MT_0T_0FP               0.852200\n",
       "1  0s_FULL_gpt-35-turbo-dev_6000MT_0T_1FP               0.666667\n",
       "2     0s_gpt-35-turbo-dev_6000MT_0.5T_1FP               0.666667"
      ]
     },
     "execution_count": 7,
     "metadata": {},
     "output_type": "execute_result"
    }
   ],
   "source": [
    "bw_serendipity_scores_df[[\"EXPERIMENT_ID\", \"AVG_SERENDIPITY_SCORE\"]]"
   ]
  },
  {
   "cell_type": "markdown",
   "metadata": {},
   "source": [
    "## **Plots**"
   ]
  },
  {
   "cell_type": "code",
   "execution_count": 8,
   "metadata": {},
   "outputs": [
    {
     "data": {
      "image/png": "[encoded data removed]",
      "text/plain": [
       "<Figure size 800x600 with 2 Axes>"
      ]
     },
     "metadata": {},
     "output_type": "display_data"
    },
    {
     "data": {
      "image/png": "[encoded data removed]",
      "text/plain": [
       "<Figure size 800x600 with 2 Axes>"
      ]
     },
     "metadata": {},
     "output_type": "display_data"
    }
   ],
   "source": [
    "grv.plot_errors_heatmap()"
   ]
  },
  {
   "cell_type": "code",
   "execution_count": null,
   "metadata": {},
   "outputs": [],
   "source": []
  }
 ],
 "metadata": {
  "kernelspec": {
   "display_name": ".env",
   "language": "python",
   "name": "python3"
  },
  "language_info": {
   "codemirror_mode": {
    "name": "ipython",
    "version": 3
   },
   "file_extension": ".py",
   "mimetype": "text/x-python",
   "name": "python",
   "nbconvert_exporter": "python",
   "pygments_lexer": "ipython3",
   "version": "3.11.9"
  }
 },
 "nbformat": 4,
 "nbformat_minor": 2
}
