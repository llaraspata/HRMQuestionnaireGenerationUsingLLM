{
 "cells": [
  {
   "cell_type": "markdown",
   "metadata": {},
   "source": [
    "# **Prompt Generation**"
   ]
  },
  {
   "cell_type": "markdown",
   "metadata": {},
   "source": [
    "In this notebook is illustrated how to generate prompts by using the implemented libraries.\n",
    "\n",
    "Note that these prompts are essentially designed for GPT models, or for those supporting the following roles:\n",
    "- **system**,  which provides high-level instructions to guide model’s behavior throughout the conversation;\n",
    "- **user**, it is the model’s response, usually simulated when using few-shot prompting;\n",
    "- **assistant**, that presents queries related to the task the LLM is asked to perform.\n",
    "\n",
    "We designed different versions of prompts for the same task. Then, all of them are shown within this notebook.\n",
    "Such variants are briefly described below:\n",
    "- *v1.0*, the model is asked to generate the whole questionnaire in a single shot, directly in the JSON format.\n",
    "- *v1.1*, the model is asked to generate the whole questionnaire in a single shot, but it's asked to explain firstly the content of it (kinda reasoning) and then format it as a JSON. Moreover, the Chain-of-Thought is integrated to let the model \"think\" better about the structure of the questionnaire.\n",
    "- *v2.0*, the generation task is split into two parts: firstly, the model is aked to generate the questionnaire without any format constraint, then (in another call), the model is asked to simply convert it into a JSON.\n",
    "- *v2.1*, the conversation follows the previous verion's flow, but it integrates the Chain-of-Thought technique to let the model think deeply about the content of the questionnaire."
   ]
  },
  {
   "cell_type": "code",
   "execution_count": 1,
   "metadata": {},
   "outputs": [],
   "source": [
    "import os\n",
    "import sys\n",
    "sys.path.append('\\\\'.join(os.getcwd().split('\\\\')[:-1])+'\\\\src')\n",
    "\n",
    "from src.data.TFQuestionnairesDataset import TFQuestionnairesDataset\n",
    "from src.prompts.PredictionSystemPrompt import PredictionSystemPrompt\n",
    "from src.prompts.PredictionUserPrompt import PredictionUserPrompt\n",
    "from src.prompts.PredictionAssistantPrompt import PredictionAssistantPrompt\n",
    "\n",
    "from pprint import pprint"
   ]
  },
  {
   "cell_type": "markdown",
   "metadata": {},
   "source": [
    "## **Survey questionnaire generation**"
   ]
  },
  {
   "cell_type": "markdown",
   "metadata": {},
   "source": [
    "The first step of this thesis work is the questionnaire generaion. The designed prompts are reported below."
   ]
  },
  {
   "cell_type": "code",
   "execution_count": 2,
   "metadata": {},
   "outputs": [],
   "source": [
    "# ----------------\n",
    "# Load data\n",
    "# ----------------\n",
    "dataset = TFQuestionnairesDataset()\n",
    "dataset.load_data(project_root=os.path.abspath(os.path.join(os.getcwd(), os.pardir)))\n",
    "\n",
    "samples = dataset.get_sample_questionnaire_data()\n",
    "questionnaire_id = samples.questionnaires[\"ID\"]\n",
    "\n",
    "question_types = samples.get_question_types()"
   ]
  },
  {
   "cell_type": "markdown",
   "metadata": {},
   "source": [
    "### *System prompt*"
   ]
  },
  {
   "cell_type": "markdown",
   "metadata": {},
   "source": [
    "#### v1.0"
   ]
  },
  {
   "cell_type": "markdown",
   "metadata": {},
   "source": [
    "The **system** prompt has two variants according to the given specifications:\n",
    "1. with all parameters: topic, number and type of questions to be generated\n",
    "2. with only the questionnaire topic\n",
    "\n",
    "Both of them are structured as follows:\n",
    "1. **Role definition**, used to define the role the LLM has to impersonate.\n",
    "2. **Input definition**, which define the information that the user can specify.\n",
    "3. **Task definition**, which is used to instruct the LLM on the task it has to perform.\n",
    "4. **Output definition**, it constrates the LLM to use the specified format while generating its response.\n",
    "5. **Question types**, used to define the admissible question types.\n",
    "6. **Style command**, used to stimulate the model to be more syntactically variable."
   ]
  },
  {
   "cell_type": "code",
   "execution_count": 3,
   "metadata": {},
   "outputs": [],
   "source": [
    "system = PredictionSystemPrompt(project_root=os.path.abspath(os.path.join(os.getcwd(), os.pardir)))\n",
    "\n",
    "full_params = system.build_prompt(has_full_params=True, qst_types_df=dataset.question_types)\n",
    "only_topic = system.build_prompt(has_full_params=False, qst_types_df=dataset.question_types)"
   ]
  },
  {
   "cell_type": "code",
   "execution_count": 4,
   "metadata": {},
   "outputs": [
    {
     "name": "stdout",
     "output_type": "stream",
     "text": [
      "('You are a Questionnaire Generator in the Human Resource Management field.\\n'\n",
      " 'The user will ask you to generate a questionnaire specifying the topic and '\n",
      " 'the number of questions.\\n'\n",
      " 'If the user does not specify a valid topic, reply with \"Sorry I cant help '\n",
      " 'you\".\\n'\n",
      " 'If the topic is valid, reply with only a JSON, which must respect the '\n",
      " 'following format:\\n'\n",
      " ' - The root of the JSON is an object that contains a single property '\n",
      " \"'data'.\\n\"\n",
      " \"        - The 'data' property is an object that contains a single property \"\n",
      " \"'TF_QUESTIONNAIRES'.\\n\"\n",
      " \"        - 'TF_QUESTIONNAIRES' is an array of only one element, which \"\n",
      " 'represents a questionnaire. It has the following properties:\\n'\n",
      " \"            - 'CODE': (string) the questionnaire's code.\\n\"\n",
      " \"            - 'NAME': (string) the questionnaire's name.\\n\"\n",
      " \"            - 'TYPE_ID': (int) which is equal to 3.\\n\"\n",
      " \"            - '_TF_QUESTIONS': An array of objects, each representing a \"\n",
      " 'question.\\n'\n",
      " \"        - Each question in the '_TF_QUESTIONS' array has the following \"\n",
      " 'properties:\\n'\n",
      " \"            - 'CODE': (string) the question's unique code.\\n\"\n",
      " \"            - 'NAME': (string) the question's content.\\n\"\n",
      " \"            - 'TYPE_ID': (int) the question's type.\\n\"\n",
      " \"            - 'DISPLAY_ORDER': (int) the question's display order.\\n\"\n",
      " \"            - '_TF_ANSWERS': An array of objects, each representing a \"\n",
      " 'possible answer to the question.\\n'\n",
      " \"        - Each answer object in the '_TF_ANSWERS' array has a single \"\n",
      " \"property 'ANSWER', which is a string representing the content of the \"\n",
      " 'answer.\\n'\n",
      " \"The admitted question's types are the following:\\n\"\n",
      " ' - ID: 1, DESCRIPTION: Use this type of question to choose one answer from a '\n",
      " 'list.\\n'\n",
      " ' - ID: 2, DESCRIPTION: Use this type of question to choose one or more '\n",
      " 'answer from a list.\\n'\n",
      " ' - ID: 3, DESCRIPTION: Use this type of question to rate something.\\n'\n",
      " ' - ID: 4, DESCRIPTION: Use this type of question to aquire feedback.\\n'\n",
      " ' - ID: 5, DESCRIPTION: Use this type of question to reorder items.\\n'\n",
      " ' - ID: 6, DESCRIPTION: Use this type of question to disribute weights across '\n",
      " 'several items/options.\\n'\n",
      " ' - ID: 7, DESCRIPTION: Use this type of question to clone questions from a '\n",
      " 'template.\\n'\n",
      " ' - ID: 8, DESCRIPTION: Use this type of question when the answer to be given '\n",
      " 'is a date or a date/time.\\n'\n",
      " 'Be creative and vary the syntax of your questions to enhance user '\n",
      " 'engagement. Reply only with the JSON.\\n')\n"
     ]
    }
   ],
   "source": [
    "pprint(full_params)"
   ]
  },
  {
   "cell_type": "code",
   "execution_count": 5,
   "metadata": {},
   "outputs": [
    {
     "name": "stdout",
     "output_type": "stream",
     "text": [
      "('You are a Questionnaire Generator in the Human Resource Management field.\\n'\n",
      " 'The user will ask you to generate a questionnaire about a specified topic.\\n'\n",
      " 'If the user does not specify a valid topic, reply with \"Sorry I cant help '\n",
      " 'you\".\\n'\n",
      " 'If the topic is valid, reply with only a JSON, which must respect the '\n",
      " 'following format:\\n'\n",
      " ' - The root of the JSON is an object that contains a single property '\n",
      " \"'data'.\\n\"\n",
      " \"        - The 'data' property is an object that contains a single property \"\n",
      " \"'TF_QUESTIONNAIRES'.\\n\"\n",
      " \"        - 'TF_QUESTIONNAIRES' is an array of only one element, which \"\n",
      " 'represents a questionnaire. It has the following properties:\\n'\n",
      " \"            - 'CODE': (string) the questionnaire's code.\\n\"\n",
      " \"            - 'NAME': (string) the questionnaire's name.\\n\"\n",
      " \"            - 'TYPE_ID': (int) which is equal to 3.\\n\"\n",
      " \"            - '_TF_QUESTIONS': An array of objects, each representing a \"\n",
      " 'question.\\n'\n",
      " \"        - Each question in the '_TF_QUESTIONS' array has the following \"\n",
      " 'properties:\\n'\n",
      " \"            - 'CODE': (string) the question's unique code.\\n\"\n",
      " \"            - 'NAME': (string) the question's content.\\n\"\n",
      " \"            - 'TYPE_ID': (int) the question's type.\\n\"\n",
      " \"            - 'DISPLAY_ORDER': (int) the question's display order.\\n\"\n",
      " \"            - '_TF_ANSWERS': An array of objects, each representing a \"\n",
      " 'possible answer to the question.\\n'\n",
      " \"        - Each answer object in the '_TF_ANSWERS' array has a single \"\n",
      " \"property 'ANSWER', which is a string representing the content of the \"\n",
      " 'answer.\\n'\n",
      " \"The admitted question's types are the following:\\n\"\n",
      " ' - ID: 1, DESCRIPTION: Use this type of question to choose one answer from a '\n",
      " 'list.\\n'\n",
      " ' - ID: 2, DESCRIPTION: Use this type of question to choose one or more '\n",
      " 'answer from a list.\\n'\n",
      " ' - ID: 3, DESCRIPTION: Use this type of question to rate something.\\n'\n",
      " ' - ID: 4, DESCRIPTION: Use this type of question to aquire feedback.\\n'\n",
      " ' - ID: 5, DESCRIPTION: Use this type of question to reorder items.\\n'\n",
      " ' - ID: 6, DESCRIPTION: Use this type of question to disribute weights across '\n",
      " 'several items/options.\\n'\n",
      " ' - ID: 7, DESCRIPTION: Use this type of question to clone questions from a '\n",
      " 'template.\\n'\n",
      " ' - ID: 8, DESCRIPTION: Use this type of question when the answer to be given '\n",
      " 'is a date or a date/time.\\n'\n",
      " 'Be creative and vary the syntax of your questions to enhance user '\n",
      " 'engagement. Reply only with the JSON.\\n')\n"
     ]
    }
   ],
   "source": [
    "pprint(only_topic)"
   ]
  },
  {
   "cell_type": "markdown",
   "metadata": {},
   "source": [
    "#### v1.1"
   ]
  },
  {
   "cell_type": "markdown",
   "metadata": {},
   "source": [
    "The **system** prompt has two variants according to the given specifications:\n",
    "1. with all parameters: topic, number and type of questions to be generated\n",
    "2. with only the questionnaire topic\n",
    "\n",
    "Both of them are structured as follows:\n",
    "1. **Role definition**, used to define the role the LLM has to impersonate.\n",
    "2. **Input definition**, which define the information that the user can specify.\n",
    "3. **Task definition**, which is used to instruct the LLM on the task it has to perform.\n",
    "4. **Output definition**, it constrates the LLM to use the specified format while generating its response.\n",
    "5. **Question types**, used to define the admissible question types.\n",
    "6. **Style command**, used to stimulate the model to be more syntactically variable.\n",
    "7. **Chain of Thought**, used to induce the model thinking deeply about the content of the questionnaire."
   ]
  },
  {
   "cell_type": "code",
   "execution_count": 6,
   "metadata": {},
   "outputs": [],
   "source": [
    "system = PredictionSystemPrompt(project_root=os.path.abspath(os.path.join(os.getcwd(), os.pardir)), prompt_version=\"1.1\")\n",
    "\n",
    "full_params = system.build_prompt(has_full_params=True, qst_types_df=dataset.question_types)\n",
    "only_topic = system.build_prompt(has_full_params=False, qst_types_df=dataset.question_types)"
   ]
  },
  {
   "cell_type": "code",
   "execution_count": 7,
   "metadata": {},
   "outputs": [
    {
     "name": "stdout",
     "output_type": "stream",
     "text": [
      "('You are a Questionnaire Generator in the Human Resource Management field.\\n'\n",
      " 'The user will ask you to generate a questionnaire specifying the topic and '\n",
      " 'the number of questions.\\n'\n",
      " 'Firstly describe how the questionnaire is structured. Start with '\n",
      " \"'Explanation: '. Then format the questionnaire as a JSON, which must respect \"\n",
      " 'the following format:\\n'\n",
      " ' - The root of the JSON is an object that contains a single property '\n",
      " \"'data'.\\n\"\n",
      " \"        - The 'data' property is an object that contains a single property \"\n",
      " \"'TF_QUESTIONNAIRES'.\\n\"\n",
      " \"        - 'TF_QUESTIONNAIRES' is an array of only one element, which \"\n",
      " 'represents a questionnaire. It has the following properties:\\n'\n",
      " \"            - 'CODE': (string) the questionnaire's code.\\n\"\n",
      " \"            - 'NAME': (string) the questionnaire's name.\\n\"\n",
      " \"            - 'TYPE_ID': (int) which is equal to 3.\\n\"\n",
      " \"            - '_TF_QUESTIONS': An array of objects, each representing a \"\n",
      " 'question.\\n'\n",
      " \"        - Each question in the '_TF_QUESTIONS' array has the following \"\n",
      " 'properties:\\n'\n",
      " \"            - 'CODE': (string) the question's unique code.\\n\"\n",
      " \"            - 'NAME': (string) the question's content.\\n\"\n",
      " \"            - 'TYPE_ID': (int) the question's type.\\n\"\n",
      " \"            - 'DISPLAY_ORDER': (int) the question's display order.\\n\"\n",
      " \"            - '_TF_ANSWERS': An array of objects, each representing a \"\n",
      " 'possible answer to the question.\\n'\n",
      " \"        - Each answer object in the '_TF_ANSWERS' array has a single \"\n",
      " \"property 'ANSWER', which is a string representing the content of the \"\n",
      " 'answer.\\n'\n",
      " \"The admitted question's types are the following:\\n\"\n",
      " ' - ID: 1, DESCRIPTION: Use this type of question to choose one answer from a '\n",
      " 'list.\\n'\n",
      " ' - ID: 2, DESCRIPTION: Use this type of question to choose one or more '\n",
      " 'answer from a list.\\n'\n",
      " ' - ID: 3, DESCRIPTION: Use this type of question to rate something.\\n'\n",
      " ' - ID: 4, DESCRIPTION: Use this type of question to aquire feedback.\\n'\n",
      " ' - ID: 5, DESCRIPTION: Use this type of question to reorder items.\\n'\n",
      " ' - ID: 6, DESCRIPTION: Use this type of question to disribute weights across '\n",
      " 'several items/options.\\n'\n",
      " ' - ID: 7, DESCRIPTION: Use this type of question to clone questions from a '\n",
      " 'template.\\n'\n",
      " ' - ID: 8, DESCRIPTION: Use this type of question when the answer to be given '\n",
      " 'is a date or a date/time.\\n'\n",
      " 'Be creative and vary the syntax of your questions to enhance user '\n",
      " 'engagement.\\n'\n",
      " 'Think about the questionnaire content step by step.\\n')\n"
     ]
    }
   ],
   "source": [
    "pprint(full_params)"
   ]
  },
  {
   "cell_type": "code",
   "execution_count": 8,
   "metadata": {},
   "outputs": [
    {
     "name": "stdout",
     "output_type": "stream",
     "text": [
      "('You are a Questionnaire Generator in the Human Resource Management field.\\n'\n",
      " 'The user will ask you to generate a questionnaire about a specified topic.\\n'\n",
      " 'Firstly describe how the questionnaire is structured. Start with '\n",
      " \"'Explanation: '. Then format the questionnaire as a JSON, which must respect \"\n",
      " 'the following format:\\n'\n",
      " ' - The root of the JSON is an object that contains a single property '\n",
      " \"'data'.\\n\"\n",
      " \"        - The 'data' property is an object that contains a single property \"\n",
      " \"'TF_QUESTIONNAIRES'.\\n\"\n",
      " \"        - 'TF_QUESTIONNAIRES' is an array of only one element, which \"\n",
      " 'represents a questionnaire. It has the following properties:\\n'\n",
      " \"            - 'CODE': (string) the questionnaire's code.\\n\"\n",
      " \"            - 'NAME': (string) the questionnaire's name.\\n\"\n",
      " \"            - 'TYPE_ID': (int) which is equal to 3.\\n\"\n",
      " \"            - '_TF_QUESTIONS': An array of objects, each representing a \"\n",
      " 'question.\\n'\n",
      " \"        - Each question in the '_TF_QUESTIONS' array has the following \"\n",
      " 'properties:\\n'\n",
      " \"            - 'CODE': (string) the question's unique code.\\n\"\n",
      " \"            - 'NAME': (string) the question's content.\\n\"\n",
      " \"            - 'TYPE_ID': (int) the question's type.\\n\"\n",
      " \"            - 'DISPLAY_ORDER': (int) the question's display order.\\n\"\n",
      " \"            - '_TF_ANSWERS': An array of objects, each representing a \"\n",
      " 'possible answer to the question.\\n'\n",
      " \"        - Each answer object in the '_TF_ANSWERS' array has a single \"\n",
      " \"property 'ANSWER', which is a string representing the content of the \"\n",
      " 'answer.\\n'\n",
      " \"The admitted question's types are the following:\\n\"\n",
      " ' - ID: 1, DESCRIPTION: Use this type of question to choose one answer from a '\n",
      " 'list.\\n'\n",
      " ' - ID: 2, DESCRIPTION: Use this type of question to choose one or more '\n",
      " 'answer from a list.\\n'\n",
      " ' - ID: 3, DESCRIPTION: Use this type of question to rate something.\\n'\n",
      " ' - ID: 4, DESCRIPTION: Use this type of question to aquire feedback.\\n'\n",
      " ' - ID: 5, DESCRIPTION: Use this type of question to reorder items.\\n'\n",
      " ' - ID: 6, DESCRIPTION: Use this type of question to disribute weights across '\n",
      " 'several items/options.\\n'\n",
      " ' - ID: 7, DESCRIPTION: Use this type of question to clone questions from a '\n",
      " 'template.\\n'\n",
      " ' - ID: 8, DESCRIPTION: Use this type of question when the answer to be given '\n",
      " 'is a date or a date/time.\\n'\n",
      " 'Be creative and vary the syntax of your questions to enhance user '\n",
      " 'engagement.\\n'\n",
      " 'Think about the questionnaire content step by step.\\n')\n"
     ]
    }
   ],
   "source": [
    "pprint(only_topic)"
   ]
  },
  {
   "cell_type": "markdown",
   "metadata": {},
   "source": [
    "#### v2.0"
   ]
  },
  {
   "cell_type": "markdown",
   "metadata": {},
   "source": [
    "The **system** prompt has two variants according to the given specifications:\n",
    "1. with all parameters: topic, number and type of questions to be generated\n",
    "2. with only the questionnaire topic\n",
    "\n",
    "Both of them are structured as follows:\n",
    "1. **Role definition**, used to define the role the LLM has to impersonate.\n",
    "2. **Input definition**, which define the information that the user can specify.\n",
    "3. **Task definition**, which is used to instruct the LLM on the task it has to perform.\n",
    "4. **Style command**, used to stimulate the model to be more syntactically variable."
   ]
  },
  {
   "cell_type": "code",
   "execution_count": 9,
   "metadata": {},
   "outputs": [],
   "source": [
    "system = PredictionSystemPrompt(project_root=os.path.abspath(os.path.join(os.getcwd(), os.pardir)), prompt_version=\"2.0\")\n",
    "\n",
    "full_params = system.build_prompt(has_full_params=True, qst_types_df=dataset.question_types)\n",
    "only_topic = system.build_prompt(has_full_params=False, qst_types_df=dataset.question_types)"
   ]
  },
  {
   "cell_type": "code",
   "execution_count": 10,
   "metadata": {},
   "outputs": [
    {
     "name": "stdout",
     "output_type": "stream",
     "text": [
      "('You are a Questionnaire Generator that helps HR users investigate phenomena '\n",
      " 'within the company.\\n'\n",
      " 'Firstly, the user will ask you to generate a questionnaire specifying the '\n",
      " 'topic and the number of questions.\\n'\n",
      " 'Then, the user will ask to convert it into a specified format.\\n'\n",
      " 'Be creative and vary the syntax of your questions to enhance user '\n",
      " 'engagement. \\n')\n"
     ]
    }
   ],
   "source": [
    "pprint(full_params)"
   ]
  },
  {
   "cell_type": "code",
   "execution_count": 11,
   "metadata": {},
   "outputs": [
    {
     "name": "stdout",
     "output_type": "stream",
     "text": [
      "('You are a Questionnaire Generator that helps HR users investigate phenomena '\n",
      " 'within the company.\\n'\n",
      " 'Firstly, the user will ask you to generate a questionnaire specifying the '\n",
      " 'topic.\\n'\n",
      " 'Then, the user will ask to convert it into a specified format.\\n'\n",
      " 'Be creative and vary the syntax of your questions to enhance user '\n",
      " 'engagement. \\n')\n"
     ]
    }
   ],
   "source": [
    "pprint(only_topic)"
   ]
  },
  {
   "cell_type": "markdown",
   "metadata": {},
   "source": [
    "#### v2.1"
   ]
  },
  {
   "cell_type": "markdown",
   "metadata": {},
   "source": [
    "The **system** prompt has two variants according to the given specifications:\n",
    "1. with all parameters: topic, number and type of questions to be generated\n",
    "2. with only the questionnaire topic\n",
    "\n",
    "Both of them are structured as follows:\n",
    "1. **Role definition**, used to define the role the LLM has to impersonate.\n",
    "2. **Input definition**, which define the information that the user can specify.\n",
    "3. **Task definition**, which is used to instruct the LLM on the task it has to perform.\n",
    "4. **Style command**, used to stimulate the model to be more syntactically variable.\n",
    "5. **Chain of Thought**, used to stimulate a better organization and quality of the questionnaire content."
   ]
  },
  {
   "cell_type": "code",
   "execution_count": 12,
   "metadata": {},
   "outputs": [],
   "source": [
    "system = PredictionSystemPrompt(project_root=os.path.abspath(os.path.join(os.getcwd(), os.pardir)), prompt_version=\"2.1\")\n",
    "\n",
    "full_params = system.build_prompt(has_full_params=True, qst_types_df=dataset.question_types)\n",
    "only_topic = system.build_prompt(has_full_params=False, qst_types_df=dataset.question_types)"
   ]
  },
  {
   "cell_type": "code",
   "execution_count": 13,
   "metadata": {},
   "outputs": [
    {
     "name": "stdout",
     "output_type": "stream",
     "text": [
      "('You are a Questionnaire Generator that helps HR users in investigating '\n",
      " 'phenomena within the company.\\n'\n",
      " 'Firstly, the user will ask you to generate a questionnaire specifying the '\n",
      " 'topic and the number of quesions.\\n'\n",
      " 'Then, the user will ask to convert it in a specified format.\\n'\n",
      " 'Be creative and vary the syntax of your questions to enhance user '\n",
      " 'engagement. \\n'\n",
      " 'Think about the questionnaire content step by step.\\n')\n"
     ]
    }
   ],
   "source": [
    "pprint(full_params)"
   ]
  },
  {
   "cell_type": "code",
   "execution_count": 14,
   "metadata": {},
   "outputs": [
    {
     "name": "stdout",
     "output_type": "stream",
     "text": [
      "('You are a Questionnaire Generator that helps HR users in investigating '\n",
      " 'phenomena within the company.\\n'\n",
      " 'Firstly, the user will ask you to generate a questionnaire specifying the '\n",
      " 'topic.\\n'\n",
      " 'Then, the user will ask to convert it in a specified format.\\n'\n",
      " 'Be creative and vary the syntax of your questions to enhance user '\n",
      " 'engagement. \\n'\n",
      " 'Think about the questionnaire content step by step.\\n')\n"
     ]
    }
   ],
   "source": [
    "pprint(only_topic)"
   ]
  },
  {
   "cell_type": "markdown",
   "metadata": {},
   "source": [
    "### *Assistant prompt*"
   ]
  },
  {
   "cell_type": "markdown",
   "metadata": {},
   "source": [
    "The **assistant** prompt represents the LLM's output. It's used only when using the *few-shot* prompting technique. Note that is doesn't change according to the parameters specified by the user."
   ]
  },
  {
   "cell_type": "markdown",
   "metadata": {},
   "source": [
    "#### v1.0"
   ]
  },
  {
   "cell_type": "markdown",
   "metadata": {},
   "source": [
    "In this case, it simply corresponds to the JSON of the questionnaire to be generated."
   ]
  },
  {
   "cell_type": "code",
   "execution_count": 15,
   "metadata": {},
   "outputs": [
    {
     "name": "stdout",
     "output_type": "stream",
     "text": [
      "('{\"data\": {\"TF_QUESTIONNAIRES\": [{\"CODE\": \"Stress Survey\", \"NAME\": \"Stress '\n",
      " 'Survey\", \"_TF_QUESTIONS\": [{\"CODE\": \"1\", \"NAME\": \"I often feel overwhelmed '\n",
      " 'by tasks which I\\'m not sure to complete in time\", \"TYPE_ID\": 3, '\n",
      " '\"DISPLAY_ORDER\": 1, \"_TF_ANSWERS\": [{\"ANSWER\": \"Completely Disagree\"}, '\n",
      " '{\"ANSWER\": \"2\"}, {\"ANSWER\": \"3\"}, {\"ANSWER\": \"4\"}, {\"ANSWER\": \"5\"}, '\n",
      " '{\"ANSWER\": \"6\"}, {\"ANSWER\": \"7\"}, {\"ANSWER\": \"8\"}, {\"ANSWER\": \"9\"}, '\n",
      " '{\"ANSWER\": \"Strongly Agree\"}]}, {\"CODE\": \"2\", \"NAME\": \"I\\'m not comfortable '\n",
      " 'with my working Time schedule and I would like to shift or reduce it\", '\n",
      " '\"TYPE_ID\": 3, \"DISPLAY_ORDER\": 2, \"_TF_ANSWERS\": [{\"ANSWER\": \"Completely '\n",
      " 'Disagree\"}, {\"ANSWER\": \"2\"}, {\"ANSWER\": \"3\"}, {\"ANSWER\": \"4\"}, {\"ANSWER\": '\n",
      " '\"5\"}, {\"ANSWER\": \"6\"}, {\"ANSWER\": \"7\"}, {\"ANSWER\": \"8\"}, {\"ANSWER\": \"9\"}, '\n",
      " '{\"ANSWER\": \"Strongly Agree\"}]}, {\"CODE\": \"3\", \"NAME\": \"I\\'m often frustrated '\n",
      " 'because I\\'m allocated on tasks which I\\'m not really interested to\", '\n",
      " '\"TYPE_ID\": 3, \"DISPLAY_ORDER\": 3, \"_TF_ANSWERS\": [{\"ANSWER\": \"Completely '\n",
      " 'Disagree\"}, {\"ANSWER\": \"2\"}, {\"ANSWER\": \"3\"}, {\"ANSWER\": \"4\"}, {\"ANSWER\": '\n",
      " '\"5\"}, {\"ANSWER\": \"6\"}, {\"ANSWER\": \"7\"}, {\"ANSWER\": \"8\"}, {\"ANSWER\": \"9\"}, '\n",
      " '{\"ANSWER\": \"Strongly Agree\"}]}, {\"CODE\": \"4\", \"NAME\": \"I often work overtime '\n",
      " 'and I don\\'t have time for myself\", \"TYPE_ID\": 3, \"DISPLAY_ORDER\": 4, '\n",
      " '\"_TF_ANSWERS\": [{\"ANSWER\": \"Completely Disagree\"}, {\"ANSWER\": \"2\"}, '\n",
      " '{\"ANSWER\": \"3\"}, {\"ANSWER\": \"4\"}, {\"ANSWER\": \"5\"}, {\"ANSWER\": \"6\"}, '\n",
      " '{\"ANSWER\": \"7\"}, {\"ANSWER\": \"8\"}, {\"ANSWER\": \"9\"}, {\"ANSWER\": \"Strongly '\n",
      " 'Agree\"}]}, {\"CODE\": \"5\", \"NAME\": \"The place where I use to work for most of '\n",
      " 'my time is not really comfortable.\", \"TYPE_ID\": 3, \"DISPLAY_ORDER\": 5, '\n",
      " '\"_TF_ANSWERS\": [{\"ANSWER\": \"Completely Disagree\"}, {\"ANSWER\": \"2\"}, '\n",
      " '{\"ANSWER\": \"3\"}, {\"ANSWER\": \"4\"}, {\"ANSWER\": \"5\"}, {\"ANSWER\": \"6\"}, '\n",
      " '{\"ANSWER\": \"7\"}, {\"ANSWER\": \"8\"}, {\"ANSWER\": \"9\"}, {\"ANSWER\": \"Strongly '\n",
      " 'Agree\"}]}, {\"CODE\": \"6\", \"NAME\": \"I would like more occasions to talk with '\n",
      " 'my manager and explain my view and expectations.\", \"TYPE_ID\": 3, '\n",
      " '\"DISPLAY_ORDER\": 6, \"_TF_ANSWERS\": [{\"ANSWER\": \"Completely Disagree\"}, '\n",
      " '{\"ANSWER\": \"2\"}, {\"ANSWER\": \"3\"}, {\"ANSWER\": \"4\"}, {\"ANSWER\": \"5\"}, '\n",
      " '{\"ANSWER\": \"6\"}, {\"ANSWER\": \"7\"}, {\"ANSWER\": \"8\"}, {\"ANSWER\": \"9\"}, '\n",
      " '{\"ANSWER\": \"Strongly Agree\"}]}, {\"CODE\": \"7\", \"NAME\": \"I don\\'t feel 100% '\n",
      " 'comfortable working with some of my colleagues.\", \"TYPE_ID\": 3, '\n",
      " '\"DISPLAY_ORDER\": 7, \"_TF_ANSWERS\": [{\"ANSWER\": \"Completely Disagree\"}, '\n",
      " '{\"ANSWER\": \"2\"}, {\"ANSWER\": \"3\"}, {\"ANSWER\": \"4\"}, {\"ANSWER\": \"5\"}, '\n",
      " '{\"ANSWER\": \"6\"}, {\"ANSWER\": \"7\"}, {\"ANSWER\": \"8\"}, {\"ANSWER\": \"9\"}, '\n",
      " '{\"ANSWER\": \"Strongly Agree\"}]}]}]}}')\n"
     ]
    }
   ],
   "source": [
    "assistant = PredictionAssistantPrompt(project_root=os.path.abspath(os.path.join(os.getcwd(), os.pardir)))\n",
    "\n",
    "formatted_json = dataset.to_json(questionnaire_id)\n",
    "\n",
    "response = assistant.build_prompt(params=[formatted_json])\n",
    "pprint(response)"
   ]
  },
  {
   "cell_type": "markdown",
   "metadata": {},
   "source": [
    "#### v1.1"
   ]
  },
  {
   "cell_type": "markdown",
   "metadata": {},
   "source": [
    "It is structured as follows:\n",
    "1. **Explanation**, given that there's no deep content description of the questionnaire in the dataset, we put a placeholder.\n",
    "2. **JSON**, the questionnaire formatted as a JSON."
   ]
  },
  {
   "cell_type": "code",
   "execution_count": 16,
   "metadata": {},
   "outputs": [
    {
     "name": "stdout",
     "output_type": "stream",
     "text": [
      "('Explanation: <your_explanation>\\n'\n",
      " '\\n'\n",
      " '{\"data\": {\"TF_QUESTIONNAIRES\": [{\"CODE\": \"Stress Survey\", \"NAME\": \"Stress '\n",
      " 'Survey\", \"_TF_QUESTIONS\": [{\"CODE\": \"1\", \"NAME\": \"I often feel overwhelmed '\n",
      " 'by tasks which I\\'m not sure to complete in time\", \"TYPE_ID\": 3, '\n",
      " '\"DISPLAY_ORDER\": 1, \"_TF_ANSWERS\": [{\"ANSWER\": \"Completely Disagree\"}, '\n",
      " '{\"ANSWER\": \"2\"}, {\"ANSWER\": \"3\"}, {\"ANSWER\": \"4\"}, {\"ANSWER\": \"5\"}, '\n",
      " '{\"ANSWER\": \"6\"}, {\"ANSWER\": \"7\"}, {\"ANSWER\": \"8\"}, {\"ANSWER\": \"9\"}, '\n",
      " '{\"ANSWER\": \"Strongly Agree\"}]}, {\"CODE\": \"2\", \"NAME\": \"I\\'m not comfortable '\n",
      " 'with my working Time schedule and I would like to shift or reduce it\", '\n",
      " '\"TYPE_ID\": 3, \"DISPLAY_ORDER\": 2, \"_TF_ANSWERS\": [{\"ANSWER\": \"Completely '\n",
      " 'Disagree\"}, {\"ANSWER\": \"2\"}, {\"ANSWER\": \"3\"}, {\"ANSWER\": \"4\"}, {\"ANSWER\": '\n",
      " '\"5\"}, {\"ANSWER\": \"6\"}, {\"ANSWER\": \"7\"}, {\"ANSWER\": \"8\"}, {\"ANSWER\": \"9\"}, '\n",
      " '{\"ANSWER\": \"Strongly Agree\"}]}, {\"CODE\": \"3\", \"NAME\": \"I\\'m often frustrated '\n",
      " 'because I\\'m allocated on tasks which I\\'m not really interested to\", '\n",
      " '\"TYPE_ID\": 3, \"DISPLAY_ORDER\": 3, \"_TF_ANSWERS\": [{\"ANSWER\": \"Completely '\n",
      " 'Disagree\"}, {\"ANSWER\": \"2\"}, {\"ANSWER\": \"3\"}, {\"ANSWER\": \"4\"}, {\"ANSWER\": '\n",
      " '\"5\"}, {\"ANSWER\": \"6\"}, {\"ANSWER\": \"7\"}, {\"ANSWER\": \"8\"}, {\"ANSWER\": \"9\"}, '\n",
      " '{\"ANSWER\": \"Strongly Agree\"}]}, {\"CODE\": \"4\", \"NAME\": \"I often work overtime '\n",
      " 'and I don\\'t have time for myself\", \"TYPE_ID\": 3, \"DISPLAY_ORDER\": 4, '\n",
      " '\"_TF_ANSWERS\": [{\"ANSWER\": \"Completely Disagree\"}, {\"ANSWER\": \"2\"}, '\n",
      " '{\"ANSWER\": \"3\"}, {\"ANSWER\": \"4\"}, {\"ANSWER\": \"5\"}, {\"ANSWER\": \"6\"}, '\n",
      " '{\"ANSWER\": \"7\"}, {\"ANSWER\": \"8\"}, {\"ANSWER\": \"9\"}, {\"ANSWER\": \"Strongly '\n",
      " 'Agree\"}]}, {\"CODE\": \"5\", \"NAME\": \"The place where I use to work for most of '\n",
      " 'my time is not really comfortable.\", \"TYPE_ID\": 3, \"DISPLAY_ORDER\": 5, '\n",
      " '\"_TF_ANSWERS\": [{\"ANSWER\": \"Completely Disagree\"}, {\"ANSWER\": \"2\"}, '\n",
      " '{\"ANSWER\": \"3\"}, {\"ANSWER\": \"4\"}, {\"ANSWER\": \"5\"}, {\"ANSWER\": \"6\"}, '\n",
      " '{\"ANSWER\": \"7\"}, {\"ANSWER\": \"8\"}, {\"ANSWER\": \"9\"}, {\"ANSWER\": \"Strongly '\n",
      " 'Agree\"}]}, {\"CODE\": \"6\", \"NAME\": \"I would like more occasions to talk with '\n",
      " 'my manager and explain my view and expectations.\", \"TYPE_ID\": 3, '\n",
      " '\"DISPLAY_ORDER\": 6, \"_TF_ANSWERS\": [{\"ANSWER\": \"Completely Disagree\"}, '\n",
      " '{\"ANSWER\": \"2\"}, {\"ANSWER\": \"3\"}, {\"ANSWER\": \"4\"}, {\"ANSWER\": \"5\"}, '\n",
      " '{\"ANSWER\": \"6\"}, {\"ANSWER\": \"7\"}, {\"ANSWER\": \"8\"}, {\"ANSWER\": \"9\"}, '\n",
      " '{\"ANSWER\": \"Strongly Agree\"}]}, {\"CODE\": \"7\", \"NAME\": \"I don\\'t feel 100% '\n",
      " 'comfortable working with some of my colleagues.\", \"TYPE_ID\": 3, '\n",
      " '\"DISPLAY_ORDER\": 7, \"_TF_ANSWERS\": [{\"ANSWER\": \"Completely Disagree\"}, '\n",
      " '{\"ANSWER\": \"2\"}, {\"ANSWER\": \"3\"}, {\"ANSWER\": \"4\"}, {\"ANSWER\": \"5\"}, '\n",
      " '{\"ANSWER\": \"6\"}, {\"ANSWER\": \"7\"}, {\"ANSWER\": \"8\"}, {\"ANSWER\": \"9\"}, '\n",
      " '{\"ANSWER\": \"Strongly Agree\"}]}]}]}}\\n')\n"
     ]
    }
   ],
   "source": [
    "assistant = PredictionAssistantPrompt(project_root=os.path.abspath(os.path.join(os.getcwd(), os.pardir)), prompt_version=\"1.1\")\n",
    "\n",
    "formatted_json = dataset.to_json(questionnaire_id)\n",
    "\n",
    "response = assistant.build_prompt(params=[formatted_json])\n",
    "pprint(response)"
   ]
  },
  {
   "cell_type": "markdown",
   "metadata": {},
   "source": [
    "#### v2.0"
   ]
  },
  {
   "cell_type": "markdown",
   "metadata": {},
   "source": [
    "In this scenario, we modeled the questionnaire generation in a conversation made up of two steps as initially stated. \n",
    "\n",
    "Then the first **assistant** prompt corresponds to the questionnaire content in an unstructured format. TODO: how do we do this?\n",
    "The second one is the corresponding JSON."
   ]
  },
  {
   "cell_type": "code",
   "execution_count": 17,
   "metadata": {},
   "outputs": [],
   "source": [
    "assistant = PredictionAssistantPrompt(project_root=os.path.abspath(os.path.join(os.getcwd(), os.pardir)), prompt_version=\"2.0\")\n",
    "\n",
    "free_text = dataset.to_text(questionnaire_id)\n",
    "formatted_json = dataset.to_json(questionnaire_id)\n",
    "\n",
    "content = assistant.build_prompt(params=[free_text])\n",
    "converted = assistant.build_prompt(params=[formatted_json])"
   ]
  },
  {
   "cell_type": "code",
   "execution_count": 18,
   "metadata": {},
   "outputs": [
    {
     "name": "stdout",
     "output_type": "stream",
     "text": [
      "(\"**I often feel overwhelmed by tasks which I'm not sure to complete in \"\n",
      " 'time**\\n'\n",
      " '  - Completely Disagree\\n'\n",
      " '  - 2\\n'\n",
      " '  - 3\\n'\n",
      " '  - 4\\n'\n",
      " '  - 5\\n'\n",
      " '  - 6\\n'\n",
      " '  - 7\\n'\n",
      " '  - 8\\n'\n",
      " '  - 9\\n'\n",
      " '  - Strongly Agree\\n'\n",
      " '\\n'\n",
      " \"**I'm not comfortable with my working Time schedule and I would like to \"\n",
      " 'shift or reduce it**\\n'\n",
      " '  - Completely Disagree\\n'\n",
      " '  - 2\\n'\n",
      " '  - 3\\n'\n",
      " '  - 4\\n'\n",
      " '  - 5\\n'\n",
      " '  - 6\\n'\n",
      " '  - 7\\n'\n",
      " '  - 8\\n'\n",
      " '  - 9\\n'\n",
      " '  - Strongly Agree\\n'\n",
      " '\\n'\n",
      " \"**I'm often frustrated because I'm allocated on tasks which I'm not really \"\n",
      " 'interested to**\\n'\n",
      " '  - Completely Disagree\\n'\n",
      " '  - 2\\n'\n",
      " '  - 3\\n'\n",
      " '  - 4\\n'\n",
      " '  - 5\\n'\n",
      " '  - 6\\n'\n",
      " '  - 7\\n'\n",
      " '  - 8\\n'\n",
      " '  - 9\\n'\n",
      " '  - Strongly Agree\\n'\n",
      " '\\n'\n",
      " \"**I often work overtime and I don't have time for myself**\\n\"\n",
      " '  - Completely Disagree\\n'\n",
      " '  - 2\\n'\n",
      " '  - 3\\n'\n",
      " '  - 4\\n'\n",
      " '  - 5\\n'\n",
      " '  - 6\\n'\n",
      " '  - 7\\n'\n",
      " '  - 8\\n'\n",
      " '  - 9\\n'\n",
      " '  - Strongly Agree\\n'\n",
      " '\\n'\n",
      " '**The place where I use to work for most of my time is not really '\n",
      " 'comfortable.**\\n'\n",
      " '  - Completely Disagree\\n'\n",
      " '  - 2\\n'\n",
      " '  - 3\\n'\n",
      " '  - 4\\n'\n",
      " '  - 5\\n'\n",
      " '  - 6\\n'\n",
      " '  - 7\\n'\n",
      " '  - 8\\n'\n",
      " '  - 9\\n'\n",
      " '  - Strongly Agree\\n'\n",
      " '\\n'\n",
      " '**I would like more occasions to talk with my manager and explain my view '\n",
      " 'and expectations.**\\n'\n",
      " '  - Completely Disagree\\n'\n",
      " '  - 2\\n'\n",
      " '  - 3\\n'\n",
      " '  - 4\\n'\n",
      " '  - 5\\n'\n",
      " '  - 6\\n'\n",
      " '  - 7\\n'\n",
      " '  - 8\\n'\n",
      " '  - 9\\n'\n",
      " '  - Strongly Agree\\n'\n",
      " '\\n'\n",
      " \"**I don't feel 100% comfortable working with some of my colleagues.**\\n\"\n",
      " '  - Completely Disagree\\n'\n",
      " '  - 2\\n'\n",
      " '  - 3\\n'\n",
      " '  - 4\\n'\n",
      " '  - 5\\n'\n",
      " '  - 6\\n'\n",
      " '  - 7\\n'\n",
      " '  - 8\\n'\n",
      " '  - 9\\n'\n",
      " '  - Strongly Agree\\n'\n",
      " '\\n')\n"
     ]
    }
   ],
   "source": [
    "pprint(content)"
   ]
  },
  {
   "cell_type": "code",
   "execution_count": 19,
   "metadata": {},
   "outputs": [
    {
     "name": "stdout",
     "output_type": "stream",
     "text": [
      "('{\"data\": {\"TF_QUESTIONNAIRES\": [{\"CODE\": \"Stress Survey\", \"NAME\": \"Stress '\n",
      " 'Survey\", \"_TF_QUESTIONS\": [{\"CODE\": \"1\", \"NAME\": \"I often feel overwhelmed '\n",
      " 'by tasks which I\\'m not sure to complete in time\", \"TYPE_ID\": 3, '\n",
      " '\"DISPLAY_ORDER\": 1, \"_TF_ANSWERS\": [{\"ANSWER\": \"Completely Disagree\"}, '\n",
      " '{\"ANSWER\": \"2\"}, {\"ANSWER\": \"3\"}, {\"ANSWER\": \"4\"}, {\"ANSWER\": \"5\"}, '\n",
      " '{\"ANSWER\": \"6\"}, {\"ANSWER\": \"7\"}, {\"ANSWER\": \"8\"}, {\"ANSWER\": \"9\"}, '\n",
      " '{\"ANSWER\": \"Strongly Agree\"}]}, {\"CODE\": \"2\", \"NAME\": \"I\\'m not comfortable '\n",
      " 'with my working Time schedule and I would like to shift or reduce it\", '\n",
      " '\"TYPE_ID\": 3, \"DISPLAY_ORDER\": 2, \"_TF_ANSWERS\": [{\"ANSWER\": \"Completely '\n",
      " 'Disagree\"}, {\"ANSWER\": \"2\"}, {\"ANSWER\": \"3\"}, {\"ANSWER\": \"4\"}, {\"ANSWER\": '\n",
      " '\"5\"}, {\"ANSWER\": \"6\"}, {\"ANSWER\": \"7\"}, {\"ANSWER\": \"8\"}, {\"ANSWER\": \"9\"}, '\n",
      " '{\"ANSWER\": \"Strongly Agree\"}]}, {\"CODE\": \"3\", \"NAME\": \"I\\'m often frustrated '\n",
      " 'because I\\'m allocated on tasks which I\\'m not really interested to\", '\n",
      " '\"TYPE_ID\": 3, \"DISPLAY_ORDER\": 3, \"_TF_ANSWERS\": [{\"ANSWER\": \"Completely '\n",
      " 'Disagree\"}, {\"ANSWER\": \"2\"}, {\"ANSWER\": \"3\"}, {\"ANSWER\": \"4\"}, {\"ANSWER\": '\n",
      " '\"5\"}, {\"ANSWER\": \"6\"}, {\"ANSWER\": \"7\"}, {\"ANSWER\": \"8\"}, {\"ANSWER\": \"9\"}, '\n",
      " '{\"ANSWER\": \"Strongly Agree\"}]}, {\"CODE\": \"4\", \"NAME\": \"I often work overtime '\n",
      " 'and I don\\'t have time for myself\", \"TYPE_ID\": 3, \"DISPLAY_ORDER\": 4, '\n",
      " '\"_TF_ANSWERS\": [{\"ANSWER\": \"Completely Disagree\"}, {\"ANSWER\": \"2\"}, '\n",
      " '{\"ANSWER\": \"3\"}, {\"ANSWER\": \"4\"}, {\"ANSWER\": \"5\"}, {\"ANSWER\": \"6\"}, '\n",
      " '{\"ANSWER\": \"7\"}, {\"ANSWER\": \"8\"}, {\"ANSWER\": \"9\"}, {\"ANSWER\": \"Strongly '\n",
      " 'Agree\"}]}, {\"CODE\": \"5\", \"NAME\": \"The place where I use to work for most of '\n",
      " 'my time is not really comfortable.\", \"TYPE_ID\": 3, \"DISPLAY_ORDER\": 5, '\n",
      " '\"_TF_ANSWERS\": [{\"ANSWER\": \"Completely Disagree\"}, {\"ANSWER\": \"2\"}, '\n",
      " '{\"ANSWER\": \"3\"}, {\"ANSWER\": \"4\"}, {\"ANSWER\": \"5\"}, {\"ANSWER\": \"6\"}, '\n",
      " '{\"ANSWER\": \"7\"}, {\"ANSWER\": \"8\"}, {\"ANSWER\": \"9\"}, {\"ANSWER\": \"Strongly '\n",
      " 'Agree\"}]}, {\"CODE\": \"6\", \"NAME\": \"I would like more occasions to talk with '\n",
      " 'my manager and explain my view and expectations.\", \"TYPE_ID\": 3, '\n",
      " '\"DISPLAY_ORDER\": 6, \"_TF_ANSWERS\": [{\"ANSWER\": \"Completely Disagree\"}, '\n",
      " '{\"ANSWER\": \"2\"}, {\"ANSWER\": \"3\"}, {\"ANSWER\": \"4\"}, {\"ANSWER\": \"5\"}, '\n",
      " '{\"ANSWER\": \"6\"}, {\"ANSWER\": \"7\"}, {\"ANSWER\": \"8\"}, {\"ANSWER\": \"9\"}, '\n",
      " '{\"ANSWER\": \"Strongly Agree\"}]}, {\"CODE\": \"7\", \"NAME\": \"I don\\'t feel 100% '\n",
      " 'comfortable working with some of my colleagues.\", \"TYPE_ID\": 3, '\n",
      " '\"DISPLAY_ORDER\": 7, \"_TF_ANSWERS\": [{\"ANSWER\": \"Completely Disagree\"}, '\n",
      " '{\"ANSWER\": \"2\"}, {\"ANSWER\": \"3\"}, {\"ANSWER\": \"4\"}, {\"ANSWER\": \"5\"}, '\n",
      " '{\"ANSWER\": \"6\"}, {\"ANSWER\": \"7\"}, {\"ANSWER\": \"8\"}, {\"ANSWER\": \"9\"}, '\n",
      " '{\"ANSWER\": \"Strongly Agree\"}]}]}]}}')\n"
     ]
    }
   ],
   "source": [
    "pprint(converted)"
   ]
  },
  {
   "cell_type": "markdown",
   "metadata": {},
   "source": [
    "#### v2.1"
   ]
  },
  {
   "cell_type": "markdown",
   "metadata": {},
   "source": [
    "In this scenario, we modeled the questionnaire generation in a conversation made up of two steps as initially stated. \n",
    "\n",
    "Then the first **assistant** prompt corresponds to the questionnaire content in an unstructured format. TODO: how do we do this?\n",
    "The second one is the corresponding JSON."
   ]
  },
  {
   "cell_type": "code",
   "execution_count": 20,
   "metadata": {},
   "outputs": [],
   "source": [
    "assistant = PredictionAssistantPrompt(project_root=os.path.abspath(os.path.join(os.getcwd(), os.pardir)), prompt_version=\"2.1\")\n",
    "\n",
    "free_text = dataset.to_text(questionnaire_id)\n",
    "formatted_json = dataset.to_json(questionnaire_id)\n",
    "\n",
    "content = assistant.build_prompt(params=[free_text])\n",
    "converted = assistant.build_prompt(params=[formatted_json])"
   ]
  },
  {
   "cell_type": "code",
   "execution_count": 21,
   "metadata": {},
   "outputs": [
    {
     "name": "stdout",
     "output_type": "stream",
     "text": [
      "(\"**I often feel overwhelmed by tasks which I'm not sure to complete in \"\n",
      " 'time**\\n'\n",
      " '  - Completely Disagree\\n'\n",
      " '  - 2\\n'\n",
      " '  - 3\\n'\n",
      " '  - 4\\n'\n",
      " '  - 5\\n'\n",
      " '  - 6\\n'\n",
      " '  - 7\\n'\n",
      " '  - 8\\n'\n",
      " '  - 9\\n'\n",
      " '  - Strongly Agree\\n'\n",
      " '\\n'\n",
      " \"**I'm not comfortable with my working Time schedule and I would like to \"\n",
      " 'shift or reduce it**\\n'\n",
      " '  - Completely Disagree\\n'\n",
      " '  - 2\\n'\n",
      " '  - 3\\n'\n",
      " '  - 4\\n'\n",
      " '  - 5\\n'\n",
      " '  - 6\\n'\n",
      " '  - 7\\n'\n",
      " '  - 8\\n'\n",
      " '  - 9\\n'\n",
      " '  - Strongly Agree\\n'\n",
      " '\\n'\n",
      " \"**I'm often frustrated because I'm allocated on tasks which I'm not really \"\n",
      " 'interested to**\\n'\n",
      " '  - Completely Disagree\\n'\n",
      " '  - 2\\n'\n",
      " '  - 3\\n'\n",
      " '  - 4\\n'\n",
      " '  - 5\\n'\n",
      " '  - 6\\n'\n",
      " '  - 7\\n'\n",
      " '  - 8\\n'\n",
      " '  - 9\\n'\n",
      " '  - Strongly Agree\\n'\n",
      " '\\n'\n",
      " \"**I often work overtime and I don't have time for myself**\\n\"\n",
      " '  - Completely Disagree\\n'\n",
      " '  - 2\\n'\n",
      " '  - 3\\n'\n",
      " '  - 4\\n'\n",
      " '  - 5\\n'\n",
      " '  - 6\\n'\n",
      " '  - 7\\n'\n",
      " '  - 8\\n'\n",
      " '  - 9\\n'\n",
      " '  - Strongly Agree\\n'\n",
      " '\\n'\n",
      " '**The place where I use to work for most of my time is not really '\n",
      " 'comfortable.**\\n'\n",
      " '  - Completely Disagree\\n'\n",
      " '  - 2\\n'\n",
      " '  - 3\\n'\n",
      " '  - 4\\n'\n",
      " '  - 5\\n'\n",
      " '  - 6\\n'\n",
      " '  - 7\\n'\n",
      " '  - 8\\n'\n",
      " '  - 9\\n'\n",
      " '  - Strongly Agree\\n'\n",
      " '\\n'\n",
      " '**I would like more occasions to talk with my manager and explain my view '\n",
      " 'and expectations.**\\n'\n",
      " '  - Completely Disagree\\n'\n",
      " '  - 2\\n'\n",
      " '  - 3\\n'\n",
      " '  - 4\\n'\n",
      " '  - 5\\n'\n",
      " '  - 6\\n'\n",
      " '  - 7\\n'\n",
      " '  - 8\\n'\n",
      " '  - 9\\n'\n",
      " '  - Strongly Agree\\n'\n",
      " '\\n'\n",
      " \"**I don't feel 100% comfortable working with some of my colleagues.**\\n\"\n",
      " '  - Completely Disagree\\n'\n",
      " '  - 2\\n'\n",
      " '  - 3\\n'\n",
      " '  - 4\\n'\n",
      " '  - 5\\n'\n",
      " '  - 6\\n'\n",
      " '  - 7\\n'\n",
      " '  - 8\\n'\n",
      " '  - 9\\n'\n",
      " '  - Strongly Agree\\n'\n",
      " '\\n')\n"
     ]
    }
   ],
   "source": [
    "pprint(content)"
   ]
  },
  {
   "cell_type": "code",
   "execution_count": 22,
   "metadata": {},
   "outputs": [
    {
     "name": "stdout",
     "output_type": "stream",
     "text": [
      "('{\"data\": {\"TF_QUESTIONNAIRES\": [{\"CODE\": \"Stress Survey\", \"NAME\": \"Stress '\n",
      " 'Survey\", \"_TF_QUESTIONS\": [{\"CODE\": \"1\", \"NAME\": \"I often feel overwhelmed '\n",
      " 'by tasks which I\\'m not sure to complete in time\", \"TYPE_ID\": 3, '\n",
      " '\"DISPLAY_ORDER\": 1, \"_TF_ANSWERS\": [{\"ANSWER\": \"Completely Disagree\"}, '\n",
      " '{\"ANSWER\": \"2\"}, {\"ANSWER\": \"3\"}, {\"ANSWER\": \"4\"}, {\"ANSWER\": \"5\"}, '\n",
      " '{\"ANSWER\": \"6\"}, {\"ANSWER\": \"7\"}, {\"ANSWER\": \"8\"}, {\"ANSWER\": \"9\"}, '\n",
      " '{\"ANSWER\": \"Strongly Agree\"}]}, {\"CODE\": \"2\", \"NAME\": \"I\\'m not comfortable '\n",
      " 'with my working Time schedule and I would like to shift or reduce it\", '\n",
      " '\"TYPE_ID\": 3, \"DISPLAY_ORDER\": 2, \"_TF_ANSWERS\": [{\"ANSWER\": \"Completely '\n",
      " 'Disagree\"}, {\"ANSWER\": \"2\"}, {\"ANSWER\": \"3\"}, {\"ANSWER\": \"4\"}, {\"ANSWER\": '\n",
      " '\"5\"}, {\"ANSWER\": \"6\"}, {\"ANSWER\": \"7\"}, {\"ANSWER\": \"8\"}, {\"ANSWER\": \"9\"}, '\n",
      " '{\"ANSWER\": \"Strongly Agree\"}]}, {\"CODE\": \"3\", \"NAME\": \"I\\'m often frustrated '\n",
      " 'because I\\'m allocated on tasks which I\\'m not really interested to\", '\n",
      " '\"TYPE_ID\": 3, \"DISPLAY_ORDER\": 3, \"_TF_ANSWERS\": [{\"ANSWER\": \"Completely '\n",
      " 'Disagree\"}, {\"ANSWER\": \"2\"}, {\"ANSWER\": \"3\"}, {\"ANSWER\": \"4\"}, {\"ANSWER\": '\n",
      " '\"5\"}, {\"ANSWER\": \"6\"}, {\"ANSWER\": \"7\"}, {\"ANSWER\": \"8\"}, {\"ANSWER\": \"9\"}, '\n",
      " '{\"ANSWER\": \"Strongly Agree\"}]}, {\"CODE\": \"4\", \"NAME\": \"I often work overtime '\n",
      " 'and I don\\'t have time for myself\", \"TYPE_ID\": 3, \"DISPLAY_ORDER\": 4, '\n",
      " '\"_TF_ANSWERS\": [{\"ANSWER\": \"Completely Disagree\"}, {\"ANSWER\": \"2\"}, '\n",
      " '{\"ANSWER\": \"3\"}, {\"ANSWER\": \"4\"}, {\"ANSWER\": \"5\"}, {\"ANSWER\": \"6\"}, '\n",
      " '{\"ANSWER\": \"7\"}, {\"ANSWER\": \"8\"}, {\"ANSWER\": \"9\"}, {\"ANSWER\": \"Strongly '\n",
      " 'Agree\"}]}, {\"CODE\": \"5\", \"NAME\": \"The place where I use to work for most of '\n",
      " 'my time is not really comfortable.\", \"TYPE_ID\": 3, \"DISPLAY_ORDER\": 5, '\n",
      " '\"_TF_ANSWERS\": [{\"ANSWER\": \"Completely Disagree\"}, {\"ANSWER\": \"2\"}, '\n",
      " '{\"ANSWER\": \"3\"}, {\"ANSWER\": \"4\"}, {\"ANSWER\": \"5\"}, {\"ANSWER\": \"6\"}, '\n",
      " '{\"ANSWER\": \"7\"}, {\"ANSWER\": \"8\"}, {\"ANSWER\": \"9\"}, {\"ANSWER\": \"Strongly '\n",
      " 'Agree\"}]}, {\"CODE\": \"6\", \"NAME\": \"I would like more occasions to talk with '\n",
      " 'my manager and explain my view and expectations.\", \"TYPE_ID\": 3, '\n",
      " '\"DISPLAY_ORDER\": 6, \"_TF_ANSWERS\": [{\"ANSWER\": \"Completely Disagree\"}, '\n",
      " '{\"ANSWER\": \"2\"}, {\"ANSWER\": \"3\"}, {\"ANSWER\": \"4\"}, {\"ANSWER\": \"5\"}, '\n",
      " '{\"ANSWER\": \"6\"}, {\"ANSWER\": \"7\"}, {\"ANSWER\": \"8\"}, {\"ANSWER\": \"9\"}, '\n",
      " '{\"ANSWER\": \"Strongly Agree\"}]}, {\"CODE\": \"7\", \"NAME\": \"I don\\'t feel 100% '\n",
      " 'comfortable working with some of my colleagues.\", \"TYPE_ID\": 3, '\n",
      " '\"DISPLAY_ORDER\": 7, \"_TF_ANSWERS\": [{\"ANSWER\": \"Completely Disagree\"}, '\n",
      " '{\"ANSWER\": \"2\"}, {\"ANSWER\": \"3\"}, {\"ANSWER\": \"4\"}, {\"ANSWER\": \"5\"}, '\n",
      " '{\"ANSWER\": \"6\"}, {\"ANSWER\": \"7\"}, {\"ANSWER\": \"8\"}, {\"ANSWER\": \"9\"}, '\n",
      " '{\"ANSWER\": \"Strongly Agree\"}]}]}]}}')\n"
     ]
    }
   ],
   "source": [
    "pprint(converted)"
   ]
  },
  {
   "cell_type": "markdown",
   "metadata": {},
   "source": [
    "### *User prompt*"
   ]
  },
  {
   "cell_type": "markdown",
   "metadata": {},
   "source": [
    "#### v1.0"
   ]
  },
  {
   "cell_type": "markdown",
   "metadata": {},
   "source": [
    "It has to variants according to the number of parameters specified by the user. \n",
    "\n",
    "The first parameter corresponds to the questionnaire topic, and the second one to the question number (if needed)."
   ]
  },
  {
   "cell_type": "code",
   "execution_count": 23,
   "metadata": {},
   "outputs": [],
   "source": [
    "user = PredictionUserPrompt(project_root=os.path.abspath(os.path.join(os.getcwd(), os.pardir)), prompt_version=\"1.0\")\n",
    "\n",
    "full_params = user.build_prompt(has_full_params=True, params=[\"career satisfaction\", 10])\n",
    "only_topic = user.build_prompt(has_full_params=False, params=[\"career satisfaction\"])"
   ]
  },
  {
   "cell_type": "code",
   "execution_count": 24,
   "metadata": {},
   "outputs": [
    {
     "name": "stdout",
     "output_type": "stream",
     "text": [
      "'Generate me a questionnaire on career satisfaction with 10 questions\\n'\n"
     ]
    }
   ],
   "source": [
    "pprint(full_params)"
   ]
  },
  {
   "cell_type": "code",
   "execution_count": 25,
   "metadata": {},
   "outputs": [
    {
     "name": "stdout",
     "output_type": "stream",
     "text": [
      "'Generate me a questionnaire on career satisfaction\\n'\n"
     ]
    }
   ],
   "source": [
    "pprint(only_topic)"
   ]
  },
  {
   "cell_type": "markdown",
   "metadata": {},
   "source": [
    "#### v1.1"
   ]
  },
  {
   "cell_type": "markdown",
   "metadata": {},
   "source": [
    "There are no changes with respect to the previous version."
   ]
  },
  {
   "cell_type": "code",
   "execution_count": 26,
   "metadata": {},
   "outputs": [],
   "source": [
    "user = PredictionUserPrompt(project_root=os.path.abspath(os.path.join(os.getcwd(), os.pardir)), prompt_version=\"1.1\")\n",
    "\n",
    "full_params = user.build_prompt(has_full_params=True, params=[\"career satisfaction\", 10])\n",
    "only_topic = user.build_prompt(has_full_params=False, params=[\"career satisfaction\"])"
   ]
  },
  {
   "cell_type": "code",
   "execution_count": 27,
   "metadata": {},
   "outputs": [
    {
     "name": "stdout",
     "output_type": "stream",
     "text": [
      "'Generate me a questionnaire on career satisfaction with 10 questions\\n'\n"
     ]
    }
   ],
   "source": [
    "pprint(full_params)"
   ]
  },
  {
   "cell_type": "code",
   "execution_count": 28,
   "metadata": {},
   "outputs": [
    {
     "name": "stdout",
     "output_type": "stream",
     "text": [
      "'Generate me a questionnaire on career satisfaction\\n'\n"
     ]
    }
   ],
   "source": [
    "pprint(only_topic)"
   ]
  },
  {
   "cell_type": "markdown",
   "metadata": {},
   "source": [
    "#### v2.0"
   ]
  },
  {
   "cell_type": "markdown",
   "metadata": {},
   "source": [
    "Similarly to what done for the roles above, the user prompt varies according to the \"current step in the conversation\".\n",
    "\n",
    "At the fist iteration (step), the user will ask to generate the questionnaire without specifying any format. In this case there's no difference wrt the previous versions, so it changes according to the specified parameters.\n",
    "\n",
    "Instead, the next step aims to convert the generated questinnaire to a JSON. Therefore the prompt includes the description of the JSON structure and the available question types."
   ]
  },
  {
   "cell_type": "code",
   "execution_count": 29,
   "metadata": {},
   "outputs": [],
   "source": [
    "user = PredictionUserPrompt(project_root=os.path.abspath(os.path.join(os.getcwd(), os.pardir)), prompt_version=\"2.0\")\n",
    "\n",
    "full_params = user.build_prompt(has_full_params=True, params=[\"career satisfaction\", 10])\n",
    "only_topic = user.build_prompt(has_full_params=False, params=[\"career satisfaction\"])\n",
    "convert = user.build_prompt(has_full_params=False, qst_types_df=dataset.question_types, prompt_task=\"CONVERT\")"
   ]
  },
  {
   "cell_type": "code",
   "execution_count": 30,
   "metadata": {},
   "outputs": [
    {
     "name": "stdout",
     "output_type": "stream",
     "text": [
      "'Generate me a questionnaire on career satisfaction with 10 questions\\n'\n"
     ]
    }
   ],
   "source": [
    "pprint(full_params)"
   ]
  },
  {
   "cell_type": "code",
   "execution_count": 31,
   "metadata": {},
   "outputs": [
    {
     "name": "stdout",
     "output_type": "stream",
     "text": [
      "'Generate me a questionnaire on career satisfaction\\n'\n"
     ]
    }
   ],
   "source": [
    "pprint(only_topic)"
   ]
  },
  {
   "cell_type": "code",
   "execution_count": 32,
   "metadata": {},
   "outputs": [
    {
     "name": "stdout",
     "output_type": "stream",
     "text": [
      "('Convert it to a JSON which must respect the following format:\\n'\n",
      " ' - The root of the JSON is an object that contains a single property '\n",
      " \"'data'.\\n\"\n",
      " \"        - The 'data' property is an object that contains a single property \"\n",
      " \"'TF_QUESTIONNAIRES'.\\n\"\n",
      " \"        - 'TF_QUESTIONNAIRES' is an array of only one element, which \"\n",
      " 'represents a questionnaire. It has the following properties:\\n'\n",
      " \"            - 'CODE': (string) the questionnaire's code.\\n\"\n",
      " \"            - 'NAME': (string) the questionnaire's name.\\n\"\n",
      " \"            - 'TYPE_ID': (int) which is equal to 3.\\n\"\n",
      " \"            - '_TF_QUESTIONS': An array of objects, each representing a \"\n",
      " 'question.\\n'\n",
      " \"        - Each question in the '_TF_QUESTIONS' array has the following \"\n",
      " 'properties:\\n'\n",
      " \"            - 'CODE': (string) the question's unique code.\\n\"\n",
      " \"            - 'NAME': (string) the question's content.\\n\"\n",
      " \"            - 'TYPE_ID': (int) the question's type.\\n\"\n",
      " \"            - 'DISPLAY_ORDER': (int) the question's display order.\\n\"\n",
      " \"            - '_TF_ANSWERS': An array of objects, each representing a \"\n",
      " 'possible answer to the question.\\n'\n",
      " \"        - Each answer object in the '_TF_ANSWERS' array has a single \"\n",
      " \"property 'ANSWER', which is a string representing the content of the \"\n",
      " 'answer.\\n'\n",
      " \"The admitted question's types are the following:\\n\"\n",
      " ' - ID: 1, DESCRIPTION: Use this type of question to choose one answer from a '\n",
      " 'list.\\n'\n",
      " ' - ID: 2, DESCRIPTION: Use this type of question to choose one or more '\n",
      " 'answer from a list.\\n'\n",
      " ' - ID: 3, DESCRIPTION: Use this type of question to rate something.\\n'\n",
      " ' - ID: 4, DESCRIPTION: Use this type of question to aquire feedback.\\n'\n",
      " ' - ID: 5, DESCRIPTION: Use this type of question to reorder items.\\n'\n",
      " ' - ID: 6, DESCRIPTION: Use this type of question to disribute weights across '\n",
      " 'several items/options.\\n'\n",
      " ' - ID: 7, DESCRIPTION: Use this type of question to clone questions from a '\n",
      " 'template.\\n'\n",
      " ' - ID: 8, DESCRIPTION: Use this type of question when the answer to be given '\n",
      " 'is a date or a date/time.\\n')\n"
     ]
    }
   ],
   "source": [
    "pprint(convert)"
   ]
  },
  {
   "cell_type": "markdown",
   "metadata": {},
   "source": [
    "#### v2.1"
   ]
  },
  {
   "cell_type": "markdown",
   "metadata": {},
   "source": [
    "Similarly to what done for the roles above, the user prompt varies according to the \"current step in the conversation\".\n",
    "\n",
    "At the fist iteration (step), the user will ask to generate the questionnaire without specifying any format. In this case there's no difference wrt the previous versions, so it changes according to the specified parameters.\n",
    "\n",
    "Instead, the next step aims to convert the generated questinnaire to a JSON. Therefore the prompt includes the description of the JSON structure and the available question types."
   ]
  },
  {
   "cell_type": "code",
   "execution_count": 33,
   "metadata": {},
   "outputs": [],
   "source": [
    "user = PredictionUserPrompt(project_root=os.path.abspath(os.path.join(os.getcwd(), os.pardir)), prompt_version=\"2.1\")\n",
    "\n",
    "full_params = user.build_prompt(has_full_params=True, params=[\"career satisfaction\", 10])\n",
    "only_topic = user.build_prompt(has_full_params=False, params=[\"career satisfaction\"])\n",
    "convert = user.build_prompt(has_full_params=False, qst_types_df=dataset.question_types, prompt_task=\"CONVERT\")"
   ]
  },
  {
   "cell_type": "code",
   "execution_count": 34,
   "metadata": {},
   "outputs": [
    {
     "name": "stdout",
     "output_type": "stream",
     "text": [
      "'Generate me a questionnaire on career satisfaction with 10 questions\\n'\n"
     ]
    }
   ],
   "source": [
    "pprint(full_params)"
   ]
  },
  {
   "cell_type": "code",
   "execution_count": 35,
   "metadata": {},
   "outputs": [
    {
     "name": "stdout",
     "output_type": "stream",
     "text": [
      "'Generate me a questionnaire on career satisfaction\\n'\n"
     ]
    }
   ],
   "source": [
    "pprint(only_topic)"
   ]
  },
  {
   "cell_type": "code",
   "execution_count": 36,
   "metadata": {},
   "outputs": [
    {
     "name": "stdout",
     "output_type": "stream",
     "text": [
      "('Convert it to a JSON which must respect the following format:\\n'\n",
      " ' - The root of the JSON is an object that contains a single property '\n",
      " \"'data'.\\n\"\n",
      " \"        - The 'data' property is an object that contains a single property \"\n",
      " \"'TF_QUESTIONNAIRES'.\\n\"\n",
      " \"        - 'TF_QUESTIONNAIRES' is an array of only one element, which \"\n",
      " 'represents a questionnaire. It has the following properties:\\n'\n",
      " \"            - 'CODE': (string) the questionnaire's code.\\n\"\n",
      " \"            - 'NAME': (string) the questionnaire's name.\\n\"\n",
      " \"            - 'TYPE_ID': (int) which is equal to 3.\\n\"\n",
      " \"            - '_TF_QUESTIONS': An array of objects, each representing a \"\n",
      " 'question.\\n'\n",
      " \"        - Each question in the '_TF_QUESTIONS' array has the following \"\n",
      " 'properties:\\n'\n",
      " \"            - 'CODE': (string) the question's unique code.\\n\"\n",
      " \"            - 'NAME': (string) the question's content.\\n\"\n",
      " \"            - 'TYPE_ID': (int) the question's type.\\n\"\n",
      " \"            - 'DISPLAY_ORDER': (int) the question's display order.\\n\"\n",
      " \"            - '_TF_ANSWERS': An array of objects, each representing a \"\n",
      " 'possible answer to the question.\\n'\n",
      " \"        - Each answer object in the '_TF_ANSWERS' array has a single \"\n",
      " \"property 'ANSWER', which is a string representing the content of the \"\n",
      " 'answer.\\n'\n",
      " \"The admitted question's types are the following:\\n\"\n",
      " ' - ID: 1, DESCRIPTION: Use this type of question to choose one answer from a '\n",
      " 'list.\\n'\n",
      " ' - ID: 2, DESCRIPTION: Use this type of question to choose one or more '\n",
      " 'answer from a list.\\n'\n",
      " ' - ID: 3, DESCRIPTION: Use this type of question to rate something.\\n'\n",
      " ' - ID: 4, DESCRIPTION: Use this type of question to aquire feedback.\\n'\n",
      " ' - ID: 5, DESCRIPTION: Use this type of question to reorder items.\\n'\n",
      " ' - ID: 6, DESCRIPTION: Use this type of question to disribute weights across '\n",
      " 'several items/options.\\n'\n",
      " ' - ID: 7, DESCRIPTION: Use this type of question to clone questions from a '\n",
      " 'template.\\n'\n",
      " ' - ID: 8, DESCRIPTION: Use this type of question when the answer to be given '\n",
      " 'is a date or a date/time.\\n')\n"
     ]
    }
   ],
   "source": [
    "pprint(convert)"
   ]
  }
 ],
 "metadata": {
  "kernelspec": {
   "display_name": ".env",
   "language": "python",
   "name": "python3"
  },
  "language_info": {
   "codemirror_mode": {
    "name": "ipython",
    "version": 3
   },
   "file_extension": ".py",
   "mimetype": "text/x-python",
   "name": "python",
   "nbconvert_exporter": "python",
   "pygments_lexer": "ipython3",
   "version": "3.11.9"
  }
 },
 "nbformat": 4,
 "nbformat_minor": 2
}
