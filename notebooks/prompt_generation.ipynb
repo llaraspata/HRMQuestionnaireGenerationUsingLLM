{
 "cells": [
  {
   "cell_type": "markdown",
   "metadata": {},
   "source": [
    "# **Prompt Generation**"
   ]
  },
  {
   "cell_type": "markdown",
   "metadata": {},
   "source": [
    "In this notebook is illustrated how to generate prompts by using the implemented libraries.\n",
    "\n",
    "Note that these prompts are essentially designed for GPT models, or for those supporting the following roles:\n",
    "- **system**,  which provides high-level instructions to guide model’s behavior throughout the conversation;\n",
    "- **user**, it is the model’s response, usually simulated when using few-shot prompting;\n",
    "- **assistant**, that presents queries related to the task the LLM is asked to perform."
   ]
  },
  {
   "cell_type": "code",
   "execution_count": 1,
   "metadata": {},
   "outputs": [],
   "source": [
    "import os\n",
    "import sys\n",
    "sys.path.append('\\\\'.join(os.getcwd().split('\\\\')[:-1])+'\\\\src')\n",
    "\n",
    "from src.data.TFQuestionnairesDataset import TFQuestionnairesDataset\n",
    "from src.prompts.PredictionPromptGenerator import PredictionPromptGenerator\n",
    "\n",
    "from pprint import pprint"
   ]
  },
  {
   "cell_type": "markdown",
   "metadata": {},
   "source": [
    "## **Questionnaire generation**"
   ]
  },
  {
   "cell_type": "markdown",
   "metadata": {},
   "source": [
    "The first step of this thesis work is the questionnaire generaion. The designed prompts are reported below."
   ]
  },
  {
   "cell_type": "code",
   "execution_count": 2,
   "metadata": {},
   "outputs": [],
   "source": [
    "# ----------------\n",
    "# Load data\n",
    "# ----------------\n",
    "dataset = TFQuestionnairesDataset()\n",
    "dataset.load_data(project_root=os.path.abspath(os.path.join(os.getcwd(), os.pardir)))\n",
    "\n",
    "samples = dataset.get_sample_questionnaire_data()\n",
    "questionnaire_id = samples.questionnaires[\"ID\"]\n",
    "\n",
    "question_types = samples.get_question_types()"
   ]
  },
  {
   "cell_type": "markdown",
   "metadata": {},
   "source": [
    "### *System prompt*"
   ]
  },
  {
   "cell_type": "markdown",
   "metadata": {},
   "source": [
    "The **system** prompt has two variants according to the given specifications:\n",
    "1. with all parameters: topic, number and type of questions to be generated\n",
    "2. with only the questionnaire topic"
   ]
  },
  {
   "cell_type": "code",
   "execution_count": 3,
   "metadata": {},
   "outputs": [],
   "source": [
    "system_generator = PredictionPromptGenerator(\"system\")\n",
    "\n",
    "with_all_params = system_generator.generate_prompt(has_full_params=True, topic=samples.questionnaires[\"NAME\"], question_number=5, \n",
    "                                                   question_types_data=question_types)\n",
    "\n",
    "with_only_topic = system_generator.generate_prompt(has_full_params=False, topic=samples.questionnaires[\"NAME\"], question_types_data=question_types)"
   ]
  },
  {
   "cell_type": "markdown",
   "metadata": {},
   "source": [
    "Both of them are structured as follows:\n",
    "1. **Role definition**, used to define the role the LLM has to impersonate;\n",
    "2. **Input definition**, which define the information that the user can specify and (eventually) the used format;\n",
    "3. **Question types**, used to define the admissible question types;\n",
    "4. **Task definition**, which is used to instruct the LLM on the task it has to perform;\n",
    "5. **Output definition**, it constrates the LLM to use the specified format while generating its response."
   ]
  },
  {
   "cell_type": "code",
   "execution_count": 4,
   "metadata": {},
   "outputs": [
    {
     "name": "stdout",
     "output_type": "stream",
     "text": [
      "('You are a Questionnaire Generator and you work in the Human Resources '\n",
      " 'Management field.\\n'\n",
      " 'The user will ask you to generate a questionnaire specifying the topic and '\n",
      " 'the number of questions.\\n'\n",
      " 'If the user does not specify a valid topic, reply with \"Sorry I cant help '\n",
      " 'you\".\\n'\n",
      " 'If the topic is valid, reply with only a JSON, which must respect the '\n",
      " 'following format:\\n'\n",
      " '        - The root of the JSON is an object that contains a single property '\n",
      " \"'data'.\\n\"\n",
      " \"        - The 'data' property is an object that contains a single property \"\n",
      " \"'TF_QUESTIONNAIRES'.\\n\"\n",
      " \"        - 'TF_QUESTIONNAIRES' is an array of only one element, which \"\n",
      " 'represents a questionnaire. It has the following properties:\\n'\n",
      " \"            - 'CODE': (string) the questionnaire's code. It ends with the \"\n",
      " \"character '_' followed by a new random GUID.\\n\"\n",
      " \"            - 'NAME': (string) the questionnaire's name.\\n\"\n",
      " \"            - 'TYPE_ID': (int) which is equal to 3.\\n\"\n",
      " \"            - '_TF_QUESTIONS': An array of objects, each representing a \"\n",
      " 'question.\\n'\n",
      " \"        - Each question in the '_TF_QUESTIONS' array has the following \"\n",
      " 'properties:\\n'\n",
      " \"            - 'CODE': (string) the question's unique code. It ends with the \"\n",
      " \"character '_' followed by a new generated GUID.\\n\"\n",
      " \"            - 'NAME': (string) the question's content.\\n\"\n",
      " \"            - 'TYPE_ID': (int) the question's type.\\n\"\n",
      " \"            - 'DISPLAY_ORDER': (int) the question's display order.\\n\"\n",
      " \"            - '_TF_ANSWERS': An array of objects, each representing a \"\n",
      " 'possible answer to the question.\\n'\n",
      " \"        - Each answer object in the '_TF_ANSWERS' array has a single \"\n",
      " \"property 'ANSWER', which is a string representing the content of the \"\n",
      " 'answer.\\n'\n",
      " \"The admitted question's types are the following: \\n\"\n",
      " '  - ID: 1, DESCRIPTION: Use this type of question to choose one answer from '\n",
      " 'a list.\\n'\n",
      " '  - ID: 2, DESCRIPTION: Use this type of question to choose one or more '\n",
      " 'answer from a list.\\n'\n",
      " '  - ID: 3, DESCRIPTION: Use this type of question to rate something.\\n'\n",
      " '  - ID: 4, DESCRIPTION: Use this type of question to aquire feedback.\\n'\n",
      " '  - ID: 5, DESCRIPTION: Use this type of question to reorder items.\\n'\n",
      " '  - ID: 6, DESCRIPTION: Use this type of question to disribute weights '\n",
      " 'across several items/options.\\n'\n",
      " '  - ID: 7, DESCRIPTION: Use this type of question to clone questions from a '\n",
      " 'template.\\n'\n",
      " '  - ID: 8, DESCRIPTION: Use this type of question when the answer to be '\n",
      " 'given is a date or a date/time.\\n'\n",
      " 'Be creative and vary the syntax of your questions to avoid repetition.')\n"
     ]
    }
   ],
   "source": [
    "pprint(with_all_params)"
   ]
  },
  {
   "cell_type": "code",
   "execution_count": 5,
   "metadata": {},
   "outputs": [
    {
     "name": "stdout",
     "output_type": "stream",
     "text": [
      "('You are a Questionnaire Generator and you work in the Human Resources '\n",
      " 'Management field.\\n'\n",
      " 'The user will ask you to generate a questionnaire about a specified topic.\\n'\n",
      " 'If the user does not specify a valid topic, reply with \"Sorry I cant help '\n",
      " 'you\".\\n'\n",
      " 'If the topic is valid, reply with only a JSON, which must respect the '\n",
      " 'following format:\\n'\n",
      " '        - The root of the JSON is an object that contains a single property '\n",
      " \"'data'.\\n\"\n",
      " \"        - The 'data' property is an object that contains a single property \"\n",
      " \"'TF_QUESTIONNAIRES'.\\n\"\n",
      " \"        - 'TF_QUESTIONNAIRES' is an array of only one element, which \"\n",
      " 'represents a questionnaire. It has the following properties:\\n'\n",
      " \"            - 'CODE': (string) the questionnaire's code. It ends with the \"\n",
      " \"character '_' followed by a new random GUID.\\n\"\n",
      " \"            - 'NAME': (string) the questionnaire's name.\\n\"\n",
      " \"            - 'TYPE_ID': (int) which is equal to 3.\\n\"\n",
      " \"            - '_TF_QUESTIONS': An array of objects, each representing a \"\n",
      " 'question.\\n'\n",
      " \"        - Each question in the '_TF_QUESTIONS' array has the following \"\n",
      " 'properties:\\n'\n",
      " \"            - 'CODE': (string) the question's unique code. It ends with the \"\n",
      " \"character '_' followed by a new generated GUID.\\n\"\n",
      " \"            - 'NAME': (string) the question's content.\\n\"\n",
      " \"            - 'TYPE_ID': (int) the question's type.\\n\"\n",
      " \"            - 'DISPLAY_ORDER': (int) the question's display order.\\n\"\n",
      " \"            - '_TF_ANSWERS': An array of objects, each representing a \"\n",
      " 'possible answer to the question.\\n'\n",
      " \"        - Each answer object in the '_TF_ANSWERS' array has a single \"\n",
      " \"property 'ANSWER', which is a string representing the content of the \"\n",
      " 'answer.\\n'\n",
      " \"The admitted question's types are the following: \\n\"\n",
      " '  - ID: 1, DESCRIPTION: Use this type of question to choose one answer from '\n",
      " 'a list.\\n'\n",
      " '  - ID: 2, DESCRIPTION: Use this type of question to choose one or more '\n",
      " 'answer from a list.\\n'\n",
      " '  - ID: 3, DESCRIPTION: Use this type of question to rate something.\\n'\n",
      " '  - ID: 4, DESCRIPTION: Use this type of question to aquire feedback.\\n'\n",
      " '  - ID: 5, DESCRIPTION: Use this type of question to reorder items.\\n'\n",
      " '  - ID: 6, DESCRIPTION: Use this type of question to disribute weights '\n",
      " 'across several items/options.\\n'\n",
      " '  - ID: 7, DESCRIPTION: Use this type of question to clone questions from a '\n",
      " 'template.\\n'\n",
      " '  - ID: 8, DESCRIPTION: Use this type of question when the answer to be '\n",
      " 'given is a date or a date/time.\\n'\n",
      " 'Be creative and vary the syntax of your questions to avoid repetition.')\n"
     ]
    }
   ],
   "source": [
    "pprint(with_only_topic)"
   ]
  },
  {
   "cell_type": "markdown",
   "metadata": {},
   "source": [
    "### *Assistant prompt*"
   ]
  },
  {
   "cell_type": "markdown",
   "metadata": {},
   "source": [
    "The **assistant** prompt represents the LLM's output. It's used only when using the *few-shot* prompting technique."
   ]
  },
  {
   "cell_type": "code",
   "execution_count": 6,
   "metadata": {},
   "outputs": [
    {
     "name": "stdout",
     "output_type": "stream",
     "text": [
      "('{\"data\": {\"TF_QUESTIONNAIRES\": [{\"CODE\": \"Stress Survey\", \"NAME\": \"Stress '\n",
      " 'Survey\", \"_TF_QUESTIONS\": [{\"CODE\": \"1\", \"NAME\": \"I often feel overwhelmed '\n",
      " 'by tasks which I\\'m not sure to complete in time\", \"TYPE_ID\": 3, '\n",
      " '\"DISPLAY_ORDER\": 1, \"_TF_ANSWERS\": [{\"ANSWER\": \"Completely Disagree\"}, '\n",
      " '{\"ANSWER\": \"2\"}, {\"ANSWER\": \"3\"}, {\"ANSWER\": \"4\"}, {\"ANSWER\": \"5\"}, '\n",
      " '{\"ANSWER\": \"6\"}, {\"ANSWER\": \"7\"}, {\"ANSWER\": \"8\"}, {\"ANSWER\": \"9\"}, '\n",
      " '{\"ANSWER\": \"Strongly Agree\"}]}, {\"CODE\": \"2\", \"NAME\": \"I\\'m not comfortable '\n",
      " 'with my working Time schedule and I would like to shift or reduce it\", '\n",
      " '\"TYPE_ID\": 3, \"DISPLAY_ORDER\": 2, \"_TF_ANSWERS\": [{\"ANSWER\": \"Completely '\n",
      " 'Disagree\"}, {\"ANSWER\": \"2\"}, {\"ANSWER\": \"3\"}, {\"ANSWER\": \"4\"}, {\"ANSWER\": '\n",
      " '\"5\"}, {\"ANSWER\": \"6\"}, {\"ANSWER\": \"7\"}, {\"ANSWER\": \"8\"}, {\"ANSWER\": \"9\"}, '\n",
      " '{\"ANSWER\": \"Strongly Agree\"}]}, {\"CODE\": \"3\", \"NAME\": \"I\\'m often frustrated '\n",
      " 'because I\\'m allocated on tasks which I\\'m not really interested to\", '\n",
      " '\"TYPE_ID\": 3, \"DISPLAY_ORDER\": 3, \"_TF_ANSWERS\": [{\"ANSWER\": \"Completely '\n",
      " 'Disagree\"}, {\"ANSWER\": \"2\"}, {\"ANSWER\": \"3\"}, {\"ANSWER\": \"4\"}, {\"ANSWER\": '\n",
      " '\"5\"}, {\"ANSWER\": \"6\"}, {\"ANSWER\": \"7\"}, {\"ANSWER\": \"8\"}, {\"ANSWER\": \"9\"}, '\n",
      " '{\"ANSWER\": \"Strongly Agree\"}]}, {\"CODE\": \"4\", \"NAME\": \"I often work overtime '\n",
      " 'and I don\\'t have time for myself\", \"TYPE_ID\": 3, \"DISPLAY_ORDER\": 4, '\n",
      " '\"_TF_ANSWERS\": [{\"ANSWER\": \"Completely Disagree\"}, {\"ANSWER\": \"2\"}, '\n",
      " '{\"ANSWER\": \"3\"}, {\"ANSWER\": \"4\"}, {\"ANSWER\": \"5\"}, {\"ANSWER\": \"6\"}, '\n",
      " '{\"ANSWER\": \"7\"}, {\"ANSWER\": \"8\"}, {\"ANSWER\": \"9\"}, {\"ANSWER\": \"Strongly '\n",
      " 'Agree\"}]}, {\"CODE\": \"5\", \"NAME\": \"The place where I use to work for most of '\n",
      " 'my time is not really comfortable.\", \"TYPE_ID\": 3, \"DISPLAY_ORDER\": 5, '\n",
      " '\"_TF_ANSWERS\": [{\"ANSWER\": \"Completely Disagree\"}, {\"ANSWER\": \"2\"}, '\n",
      " '{\"ANSWER\": \"3\"}, {\"ANSWER\": \"4\"}, {\"ANSWER\": \"5\"}, {\"ANSWER\": \"6\"}, '\n",
      " '{\"ANSWER\": \"7\"}, {\"ANSWER\": \"8\"}, {\"ANSWER\": \"9\"}, {\"ANSWER\": \"Strongly '\n",
      " 'Agree\"}]}, {\"CODE\": \"6\", \"NAME\": \"I would like more occasions to talk with '\n",
      " 'my manager and explain my view and expectations.\", \"TYPE_ID\": 3, '\n",
      " '\"DISPLAY_ORDER\": 6, \"_TF_ANSWERS\": [{\"ANSWER\": \"Completely Disagree\"}, '\n",
      " '{\"ANSWER\": \"2\"}, {\"ANSWER\": \"3\"}, {\"ANSWER\": \"4\"}, {\"ANSWER\": \"5\"}, '\n",
      " '{\"ANSWER\": \"6\"}, {\"ANSWER\": \"7\"}, {\"ANSWER\": \"8\"}, {\"ANSWER\": \"9\"}, '\n",
      " '{\"ANSWER\": \"Strongly Agree\"}]}, {\"CODE\": \"7\", \"NAME\": \"I don\\'t feel 100% '\n",
      " 'comfortable working with some of my colleagues.\", \"TYPE_ID\": 3, '\n",
      " '\"DISPLAY_ORDER\": 7, \"_TF_ANSWERS\": [{\"ANSWER\": \"Completely Disagree\"}, '\n",
      " '{\"ANSWER\": \"2\"}, {\"ANSWER\": \"3\"}, {\"ANSWER\": \"4\"}, {\"ANSWER\": \"5\"}, '\n",
      " '{\"ANSWER\": \"6\"}, {\"ANSWER\": \"7\"}, {\"ANSWER\": \"8\"}, {\"ANSWER\": \"9\"}, '\n",
      " '{\"ANSWER\": \"Strongly Agree\"}]}]}]}}')\n"
     ]
    }
   ],
   "source": [
    "assistant_generator = PredictionPromptGenerator(\"assistant\")\n",
    "\n",
    "formatted_json = dataset.to_json(questionnaire_id)\n",
    "\n",
    "response = assistant_generator.generate_prompt(json=formatted_json)\n",
    "pprint(response)"
   ]
  },
  {
   "cell_type": "markdown",
   "metadata": {},
   "source": [
    "### *User prompt*"
   ]
  },
  {
   "cell_type": "markdown",
   "metadata": {},
   "source": [
    "The **user** prompt reprents the user request. Similarly to the *system* prompt, it has two variants."
   ]
  },
  {
   "cell_type": "code",
   "execution_count": 7,
   "metadata": {},
   "outputs": [],
   "source": [
    "user_generator = PredictionPromptGenerator(\"user\")\n",
    "\n",
    "with_all_params = user_generator.generate_prompt(has_full_params=True, topic=samples.questionnaires[\"NAME\"], question_number=5)\n",
    "with_only_topic = user_generator.generate_prompt(has_full_params=False, topic=samples.questionnaires[\"NAME\"])"
   ]
  },
  {
   "cell_type": "code",
   "execution_count": 8,
   "metadata": {},
   "outputs": [
    {
     "name": "stdout",
     "output_type": "stream",
     "text": [
      "'Generate me a questionnaire on Stress Survey with 5 questions'\n"
     ]
    }
   ],
   "source": [
    "pprint(with_all_params)"
   ]
  },
  {
   "cell_type": "code",
   "execution_count": 9,
   "metadata": {},
   "outputs": [
    {
     "name": "stdout",
     "output_type": "stream",
     "text": [
      "'Generate me a questionnaire on Stress Survey'\n"
     ]
    }
   ],
   "source": [
    "pprint(with_only_topic)"
   ]
  }
 ],
 "metadata": {
  "kernelspec": {
   "display_name": ".env",
   "language": "python",
   "name": "python3"
  },
  "language_info": {
   "codemirror_mode": {
    "name": "ipython",
    "version": 3
   },
   "file_extension": ".py",
   "mimetype": "text/x-python",
   "name": "python",
   "nbconvert_exporter": "python",
   "pygments_lexer": "ipython3",
   "version": "3.11.9"
  }
 },
 "nbformat": 4,
 "nbformat_minor": 2
}
