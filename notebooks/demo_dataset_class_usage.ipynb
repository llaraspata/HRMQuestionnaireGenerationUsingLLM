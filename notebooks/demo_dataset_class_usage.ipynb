{
 "cells": [
  {
   "cell_type": "markdown",
   "metadata": {},
   "source": [
    "# **TFQuestionnaireDataset usage - demo**"
   ]
  },
  {
   "cell_type": "markdown",
   "metadata": {},
   "source": [
    "TODO"
   ]
  },
  {
   "cell_type": "code",
   "execution_count": 1,
   "metadata": {},
   "outputs": [],
   "source": [
    "import os\n",
    "import sys\n",
    "sys.path.append('\\\\'.join(os.getcwd().split('\\\\')[:-1])+'\\\\src')\n",
    "\n",
    "import src.data.TFQuestionnairesDataset as tf_qst"
   ]
  },
  {
   "cell_type": "code",
   "execution_count": 2,
   "metadata": {},
   "outputs": [],
   "source": [
    "# ----------------\n",
    "# Load data\n",
    "# ----------------\n",
    "dataset = tf_qst.TFQuestionnairesDataset()\n",
    "dataset.load_data()"
   ]
  },
  {
   "cell_type": "code",
   "execution_count": 3,
   "metadata": {},
   "outputs": [
    {
     "data": {
      "text/plain": [
       "'{\"data\": {\"TF_QUESTIONNAIRES\": [{\"ID\": 1146002, \"CODE\": \"Stress Survey\", \"NAME\": \"Stress Survey\", \"DESCRIPTION\": \"Burnout being represented by emotional and or physical exhaustion of employees due to long term, incessant, work-induced stress can put at risk the achievement of important goals and a correct work life balance at a basis of a good Performance and climate. This questionnaire aims detecting any signal that might be interesting to follow up before it\\'s too late.\", \"_TF_QUESTIONS\": [{\"ID\": 1146002, \"TYPE_ID\": 3, \"QUESTIONNAIRE_ID\": 1146002.0, \"CODE\": \"1\", \"NAME\": \"I often feel overwhelmed by tasks which I\\'m not sure to complete in time\", \"_TF_ANSWERS\": [{\"ID\": 1146002, \"QUESTION_ID\": 1146002, \"ANSWER\": \"Completely Disagree\", \"SCORE\": 1.0}, {\"ID\": 1146003, \"QUESTION_ID\": 1146002, \"ANSWER\": \"2\", \"SCORE\": 2.0}, {\"ID\": 1146004, \"QUESTION_ID\": 1146002, \"ANSWER\": \"3\", \"SCORE\": 3.0}, {\"ID\": 1146005, \"QUESTION_ID\": 1146002, \"ANSWER\": \"4\", \"SCORE\": 4.0}, {\"ID\": 1146006, \"QUESTION_ID\": 1146002, \"ANSWER\": \"5\", \"SCORE\": 5.0}, {\"ID\": 1146007, \"QUESTION_ID\": 1146002, \"ANSWER\": \"6\", \"SCORE\": 6.0}, {\"ID\": 1146008, \"QUESTION_ID\": 1146002, \"ANSWER\": \"7\", \"SCORE\": 7.0}, {\"ID\": 1146009, \"QUESTION_ID\": 1146002, \"ANSWER\": \"8\", \"SCORE\": 8.0}, {\"ID\": 1146010, \"QUESTION_ID\": 1146002, \"ANSWER\": \"9\", \"SCORE\": 9.0}, {\"ID\": 1146011, \"QUESTION_ID\": 1146002, \"ANSWER\": \"Strongly Agree\", \"SCORE\": 10.0}]}, {\"ID\": 1146003, \"TYPE_ID\": 3, \"QUESTIONNAIRE_ID\": 1146002.0, \"CODE\": \"2\", \"NAME\": \"I\\'m not comfortable with my working Time schedule and I would like to shift or reduce it\", \"_TF_ANSWERS\": [{\"ID\": 1146012, \"QUESTION_ID\": 1146003, \"ANSWER\": \"Completely Disagree\", \"SCORE\": 1.0}, {\"ID\": 1146013, \"QUESTION_ID\": 1146003, \"ANSWER\": \"2\", \"SCORE\": 2.0}, {\"ID\": 1146014, \"QUESTION_ID\": 1146003, \"ANSWER\": \"3\", \"SCORE\": 3.0}, {\"ID\": 1146015, \"QUESTION_ID\": 1146003, \"ANSWER\": \"4\", \"SCORE\": 4.0}, {\"ID\": 1146016, \"QUESTION_ID\": 1146003, \"ANSWER\": \"5\", \"SCORE\": 5.0}, {\"ID\": 1146017, \"QUESTION_ID\": 1146003, \"ANSWER\": \"6\", \"SCORE\": 6.0}, {\"ID\": 1146018, \"QUESTION_ID\": 1146003, \"ANSWER\": \"7\", \"SCORE\": 7.0}, {\"ID\": 1146019, \"QUESTION_ID\": 1146003, \"ANSWER\": \"8\", \"SCORE\": 8.0}, {\"ID\": 1146020, \"QUESTION_ID\": 1146003, \"ANSWER\": \"9\", \"SCORE\": 9.0}, {\"ID\": 1146021, \"QUESTION_ID\": 1146003, \"ANSWER\": \"Strongly Agree\", \"SCORE\": 10.0}]}, {\"ID\": 1146004, \"TYPE_ID\": 3, \"QUESTIONNAIRE_ID\": 1146002.0, \"CODE\": \"3\", \"NAME\": \"I\\'m often frustrated because I\\'m allocated on tasks which I\\'m not really interested to\", \"_TF_ANSWERS\": [{\"ID\": 1146022, \"QUESTION_ID\": 1146004, \"ANSWER\": \"Completely Disagree\", \"SCORE\": 1.0}, {\"ID\": 1146023, \"QUESTION_ID\": 1146004, \"ANSWER\": \"2\", \"SCORE\": 2.0}, {\"ID\": 1146024, \"QUESTION_ID\": 1146004, \"ANSWER\": \"3\", \"SCORE\": 3.0}, {\"ID\": 1146025, \"QUESTION_ID\": 1146004, \"ANSWER\": \"4\", \"SCORE\": 4.0}, {\"ID\": 1146026, \"QUESTION_ID\": 1146004, \"ANSWER\": \"5\", \"SCORE\": 5.0}, {\"ID\": 1146027, \"QUESTION_ID\": 1146004, \"ANSWER\": \"6\", \"SCORE\": 6.0}, {\"ID\": 1146028, \"QUESTION_ID\": 1146004, \"ANSWER\": \"7\", \"SCORE\": 7.0}, {\"ID\": 1146029, \"QUESTION_ID\": 1146004, \"ANSWER\": \"8\", \"SCORE\": 8.0}, {\"ID\": 1146030, \"QUESTION_ID\": 1146004, \"ANSWER\": \"9\", \"SCORE\": 9.0}, {\"ID\": 1146031, \"QUESTION_ID\": 1146004, \"ANSWER\": \"Strongly Agree\", \"SCORE\": 10.0}]}, {\"ID\": 1146005, \"TYPE_ID\": 3, \"QUESTIONNAIRE_ID\": 1146002.0, \"CODE\": \"4\", \"NAME\": \"I often work overtime and I don\\'t have time for myself\", \"_TF_ANSWERS\": [{\"ID\": 1146032, \"QUESTION_ID\": 1146005, \"ANSWER\": \"Completely Disagree\", \"SCORE\": 1.0}, {\"ID\": 1146033, \"QUESTION_ID\": 1146005, \"ANSWER\": \"2\", \"SCORE\": 2.0}, {\"ID\": 1146034, \"QUESTION_ID\": 1146005, \"ANSWER\": \"3\", \"SCORE\": 3.0}, {\"ID\": 1146035, \"QUESTION_ID\": 1146005, \"ANSWER\": \"4\", \"SCORE\": 4.0}, {\"ID\": 1146036, \"QUESTION_ID\": 1146005, \"ANSWER\": \"5\", \"SCORE\": 5.0}, {\"ID\": 1146037, \"QUESTION_ID\": 1146005, \"ANSWER\": \"6\", \"SCORE\": 6.0}, {\"ID\": 1146038, \"QUESTION_ID\": 1146005, \"ANSWER\": \"7\", \"SCORE\": 7.0}, {\"ID\": 1146039, \"QUESTION_ID\": 1146005, \"ANSWER\": \"8\", \"SCORE\": 8.0}, {\"ID\": 1146040, \"QUESTION_ID\": 1146005, \"ANSWER\": \"9\", \"SCORE\": 9.0}, {\"ID\": 1146041, \"QUESTION_ID\": 1146005, \"ANSWER\": \"Strongly Agree\", \"SCORE\": 10.0}]}, {\"ID\": 1146006, \"TYPE_ID\": 3, \"QUESTIONNAIRE_ID\": 1146002.0, \"CODE\": \"5\", \"NAME\": \"The place where I use to work for most of my time is not really comfortable.\", \"_TF_ANSWERS\": [{\"ID\": 1146042, \"QUESTION_ID\": 1146006, \"ANSWER\": \"Completely Disagree\", \"SCORE\": 1.0}, {\"ID\": 1146043, \"QUESTION_ID\": 1146006, \"ANSWER\": \"2\", \"SCORE\": 2.0}, {\"ID\": 1146044, \"QUESTION_ID\": 1146006, \"ANSWER\": \"3\", \"SCORE\": 3.0}, {\"ID\": 1146045, \"QUESTION_ID\": 1146006, \"ANSWER\": \"4\", \"SCORE\": 4.0}, {\"ID\": 1146046, \"QUESTION_ID\": 1146006, \"ANSWER\": \"5\", \"SCORE\": 5.0}, {\"ID\": 1146047, \"QUESTION_ID\": 1146006, \"ANSWER\": \"6\", \"SCORE\": 6.0}, {\"ID\": 1146048, \"QUESTION_ID\": 1146006, \"ANSWER\": \"7\", \"SCORE\": 7.0}, {\"ID\": 1146049, \"QUESTION_ID\": 1146006, \"ANSWER\": \"8\", \"SCORE\": 8.0}, {\"ID\": 1146050, \"QUESTION_ID\": 1146006, \"ANSWER\": \"9\", \"SCORE\": 9.0}, {\"ID\": 1146051, \"QUESTION_ID\": 1146006, \"ANSWER\": \"Strongly Agree\", \"SCORE\": 10.0}]}, {\"ID\": 1146007, \"TYPE_ID\": 3, \"QUESTIONNAIRE_ID\": 1146002.0, \"CODE\": \"6\", \"NAME\": \"I would like more occasions to talk with my manager and explain my view and expectations.\", \"_TF_ANSWERS\": [{\"ID\": 1146052, \"QUESTION_ID\": 1146007, \"ANSWER\": \"Completely Disagree\", \"SCORE\": 1.0}, {\"ID\": 1146053, \"QUESTION_ID\": 1146007, \"ANSWER\": \"2\", \"SCORE\": 2.0}, {\"ID\": 1146054, \"QUESTION_ID\": 1146007, \"ANSWER\": \"3\", \"SCORE\": 3.0}, {\"ID\": 1146055, \"QUESTION_ID\": 1146007, \"ANSWER\": \"4\", \"SCORE\": 4.0}, {\"ID\": 1146056, \"QUESTION_ID\": 1146007, \"ANSWER\": \"5\", \"SCORE\": 5.0}, {\"ID\": 1146057, \"QUESTION_ID\": 1146007, \"ANSWER\": \"6\", \"SCORE\": 6.0}, {\"ID\": 1146058, \"QUESTION_ID\": 1146007, \"ANSWER\": \"7\", \"SCORE\": 7.0}, {\"ID\": 1146059, \"QUESTION_ID\": 1146007, \"ANSWER\": \"8\", \"SCORE\": 8.0}, {\"ID\": 1146060, \"QUESTION_ID\": 1146007, \"ANSWER\": \"9\", \"SCORE\": 9.0}, {\"ID\": 1146061, \"QUESTION_ID\": 1146007, \"ANSWER\": \"Strongly Agree\", \"SCORE\": 10.0}]}, {\"ID\": 1146008, \"TYPE_ID\": 3, \"QUESTIONNAIRE_ID\": 1146002.0, \"CODE\": \"7\", \"NAME\": \"I don\\'t feel 100% comfortable working with some of my colleagues.\", \"_TF_ANSWERS\": [{\"ID\": 1146062, \"QUESTION_ID\": 1146008, \"ANSWER\": \"Completely Disagree\", \"SCORE\": 1.0}, {\"ID\": 1146063, \"QUESTION_ID\": 1146008, \"ANSWER\": \"2\", \"SCORE\": 2.0}, {\"ID\": 1146064, \"QUESTION_ID\": 1146008, \"ANSWER\": \"3\", \"SCORE\": 3.0}, {\"ID\": 1146065, \"QUESTION_ID\": 1146008, \"ANSWER\": \"4\", \"SCORE\": 4.0}, {\"ID\": 1146066, \"QUESTION_ID\": 1146008, \"ANSWER\": \"5\", \"SCORE\": 5.0}, {\"ID\": 1146067, \"QUESTION_ID\": 1146008, \"ANSWER\": \"6\", \"SCORE\": 6.0}, {\"ID\": 1146068, \"QUESTION_ID\": 1146008, \"ANSWER\": \"7\", \"SCORE\": 7.0}, {\"ID\": 1146069, \"QUESTION_ID\": 1146008, \"ANSWER\": \"8\", \"SCORE\": 8.0}, {\"ID\": 1146070, \"QUESTION_ID\": 1146008, \"ANSWER\": \"9\", \"SCORE\": 9.0}, {\"ID\": 1146071, \"QUESTION_ID\": 1146008, \"ANSWER\": \"Strongly Agree\", \"SCORE\": 10.0}]}]}]}}'"
      ]
     },
     "execution_count": 3,
     "metadata": {},
     "output_type": "execute_result"
    }
   ],
   "source": [
    "# ----------------\n",
    "# To JSON\n",
    "# ----------------\n",
    "json = dataset.to_json(dataset.questionnaires[\"ID\"][0])\n",
    "json"
   ]
  },
  {
   "cell_type": "code",
   "execution_count": 4,
   "metadata": {},
   "outputs": [],
   "source": [
    "# ----------------\n",
    "# From JSON\n",
    "# ----------------\n",
    "questionnaire = tf_qst.TFQuestionnairesDataset.from_json(json)"
   ]
  },
  {
   "cell_type": "code",
   "execution_count": 5,
   "metadata": {},
   "outputs": [
    {
     "data": {
      "text/html": [
       "<div>\n",
       "<style scoped>\n",
       "    .dataframe tbody tr th:only-of-type {\n",
       "        vertical-align: middle;\n",
       "    }\n",
       "\n",
       "    .dataframe tbody tr th {\n",
       "        vertical-align: top;\n",
       "    }\n",
       "\n",
       "    .dataframe thead th {\n",
       "        text-align: right;\n",
       "    }\n",
       "</style>\n",
       "<table border=\"1\" class=\"dataframe\">\n",
       "  <thead>\n",
       "    <tr style=\"text-align: right;\">\n",
       "      <th></th>\n",
       "      <th>ID</th>\n",
       "      <th>CODE</th>\n",
       "      <th>NAME</th>\n",
       "      <th>DESCRIPTION</th>\n",
       "      <th>_TF_QUESTIONS</th>\n",
       "    </tr>\n",
       "  </thead>\n",
       "  <tbody>\n",
       "    <tr>\n",
       "      <th>0</th>\n",
       "      <td>1146002</td>\n",
       "      <td>Stress Survey</td>\n",
       "      <td>Stress Survey</td>\n",
       "      <td>Burnout being represented by emotional and or ...</td>\n",
       "      <td>[{'ID': 1146002, 'TYPE_ID': 3, 'QUESTIONNAIRE_...</td>\n",
       "    </tr>\n",
       "  </tbody>\n",
       "</table>\n",
       "</div>"
      ],
      "text/plain": [
       "        ID           CODE           NAME  \\\n",
       "0  1146002  Stress Survey  Stress Survey   \n",
       "\n",
       "                                         DESCRIPTION  \\\n",
       "0  Burnout being represented by emotional and or ...   \n",
       "\n",
       "                                       _TF_QUESTIONS  \n",
       "0  [{'ID': 1146002, 'TYPE_ID': 3, 'QUESTIONNAIRE_...  "
      ]
     },
     "execution_count": 5,
     "metadata": {},
     "output_type": "execute_result"
    }
   ],
   "source": [
    "questionnaire.questionnaires"
   ]
  },
  {
   "cell_type": "code",
   "execution_count": null,
   "metadata": {},
   "outputs": [],
   "source": []
  }
 ],
 "metadata": {
  "kernelspec": {
   "display_name": ".env",
   "language": "python",
   "name": "python3"
  },
  "language_info": {
   "codemirror_mode": {
    "name": "ipython",
    "version": 3
   },
   "file_extension": ".py",
   "mimetype": "text/x-python",
   "name": "python",
   "nbconvert_exporter": "python",
   "pygments_lexer": "ipython3",
   "version": "3.12.2"
  }
 },
 "nbformat": 4,
 "nbformat_minor": 2
}
