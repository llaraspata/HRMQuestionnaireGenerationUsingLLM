{
 "cells": [
  {
   "cell_type": "markdown",
   "metadata": {},
   "source": [
    "# **TFQuestionnaireDataset usage - demo**"
   ]
  },
  {
   "cell_type": "markdown",
   "metadata": {},
   "source": [
    "In this notebook a short demo about the TFQuestionnaireDataset class is shown.\n",
    "Precisely, below are reported the conversion method of a questionnaire to and from JSON format, which are crucial for the generation tasks.\n",
    "\n",
    "\n",
    "The json is structured as follows:\n",
    "- Within the top-level \"data\" key, there is the key \"TF_QUESTIONNAIRES\" with a corresponding value that is an array, whose elements represent questionnaires. *Notice that just onee questionnaire will be included.*\n",
    "- Each questionnaire object has the following keys: \"ID\", \"CODE\", \"NAME\", \"DESCRIPTION\", and \"_TF_QUESTIONS\".\n",
    "- The value of the \"_TF_QUESTIONS\" key is another array.\n",
    "- Each element in the \"_TF_QUESTIONS\" array is an object representing a question.\n",
    "- Each question object has the following keys: \"ID\", \"TYPE_ID\", \"QUESTIONNAIRE_ID\", \"CODE\", \"NAME\", and \"_TF_ANSWERS\".\n",
    "- The value of the \"_TF_ANSWERS\" key is another array.\n",
    "- Each element in the \"_TF_ANSWERS\" array is an object representing an answer option for the question.\n",
    "- Each answer object has the following keys: \"ID\", \"QUESTION_ID\", \"ANSWER\", and \"SCORE\".\n",
    "Overall, the JSON represents a hierarchical structure of questionnaires, questions, and answer options.\n"
   ]
  },
  {
   "cell_type": "code",
   "execution_count": 1,
   "metadata": {},
   "outputs": [],
   "source": [
    "import os\n",
    "import sys\n",
    "sys.path.append('\\\\'.join(os.getcwd().split('\\\\')[:-1])+'\\\\src')\n",
    "\n",
    "from src.data.TFQuestionnairesDataset import TFQuestionnairesDataset"
   ]
  },
  {
   "cell_type": "code",
   "execution_count": 2,
   "metadata": {},
   "outputs": [],
   "source": [
    "# ----------------\n",
    "# Load data\n",
    "# ----------------\n",
    "dataset = TFQuestionnairesDataset()\n",
    "dataset.load_data(project_root=os.path.abspath(os.path.join(os.getcwd(), os.pardir)))\n",
    "\n",
    "questionnaire_id = 1146004"
   ]
  },
  {
   "cell_type": "markdown",
   "metadata": {},
   "source": [
    "## *Format conversion*"
   ]
  },
  {
   "cell_type": "code",
   "execution_count": 3,
   "metadata": {},
   "outputs": [
    {
     "data": {
      "text/plain": [
       "'{\"data\": {\"TF_QUESTIONNAIRES\": [{\"CODE\": \"Mood\", \"NAME\": \"Mood\", \"_TF_QUESTIONS\": [{\"CODE\": \"1\", \"NAME\": \"Working Environment\", \"TYPE_ID\": 2, \"DISPLAY_ORDER\": 1, \"_TF_ANSWERS\": [{\"ANSWER\": \"Unhappy\"}, {\"ANSWER\": \"Neutral\"}, {\"ANSWER\": \"Happy\"}, {\"ANSWER\": \"Unhappy\"}, {\"ANSWER\": \"Neutral\"}, {\"ANSWER\": \"Happy\"}, {\"ANSWER\": \"Unhappy\"}, {\"ANSWER\": \"Neutral\"}, {\"ANSWER\": \"Happy\"}, {\"ANSWER\": \"Unhappy\"}, {\"ANSWER\": \"Neutral\"}, {\"ANSWER\": \"Happy\"}, {\"ANSWER\": \"Unhappy\"}, {\"ANSWER\": \"Neutral\"}, {\"ANSWER\": \"Happy\"}, {\"ANSWER\": \"Unhappy\"}, {\"ANSWER\": \"Neutral\"}, {\"ANSWER\": \"Happy\"}, {\"ANSWER\": \"Unhappy\"}, {\"ANSWER\": \"Neutral\"}, {\"ANSWER\": \"Happy\"}]}, {\"CODE\": \"2\", \"NAME\": \"Tasks / Activities\", \"TYPE_ID\": 2, \"DISPLAY_ORDER\": 2, \"_TF_ANSWERS\": [{\"ANSWER\": \"Unhappy\"}, {\"ANSWER\": \"Neutral\"}, {\"ANSWER\": \"Happy\"}, {\"ANSWER\": \"Unhappy\"}, {\"ANSWER\": \"Neutral\"}, {\"ANSWER\": \"Happy\"}, {\"ANSWER\": \"Unhappy\"}, {\"ANSWER\": \"Neutral\"}, {\"ANSWER\": \"Happy\"}, {\"ANSWER\": \"Unhappy\"}, {\"ANSWER\": \"Neutral\"}, {\"ANSWER\": \"Happy\"}, {\"ANSWER\": \"Unhappy\"}, {\"ANSWER\": \"Neutral\"}, {\"ANSWER\": \"Happy\"}, {\"ANSWER\": \"Unhappy\"}, {\"ANSWER\": \"Neutral\"}, {\"ANSWER\": \"Happy\"}, {\"ANSWER\": \"Unhappy\"}, {\"ANSWER\": \"Neutral\"}, {\"ANSWER\": \"Happy\"}]}, {\"CODE\": \"3\", \"NAME\": \"Colleagues\", \"TYPE_ID\": 2, \"DISPLAY_ORDER\": 3, \"_TF_ANSWERS\": [{\"ANSWER\": \"Unhappy\"}, {\"ANSWER\": \"Neutral\"}, {\"ANSWER\": \"Happy\"}, {\"ANSWER\": \"Unhappy\"}, {\"ANSWER\": \"Neutral\"}, {\"ANSWER\": \"Happy\"}, {\"ANSWER\": \"Unhappy\"}, {\"ANSWER\": \"Neutral\"}, {\"ANSWER\": \"Happy\"}, {\"ANSWER\": \"Unhappy\"}, {\"ANSWER\": \"Neutral\"}, {\"ANSWER\": \"Happy\"}, {\"ANSWER\": \"Unhappy\"}, {\"ANSWER\": \"Neutral\"}, {\"ANSWER\": \"Happy\"}, {\"ANSWER\": \"Unhappy\"}, {\"ANSWER\": \"Neutral\"}, {\"ANSWER\": \"Happy\"}, {\"ANSWER\": \"Unhappy\"}, {\"ANSWER\": \"Neutral\"}, {\"ANSWER\": \"Happy\"}]}, {\"CODE\": \"4\", \"NAME\": \"Manager\", \"TYPE_ID\": 2, \"DISPLAY_ORDER\": 4, \"_TF_ANSWERS\": [{\"ANSWER\": \"Unhappy\"}, {\"ANSWER\": \"Neutral\"}, {\"ANSWER\": \"Happy\"}, {\"ANSWER\": \"Unhappy\"}, {\"ANSWER\": \"Neutral\"}, {\"ANSWER\": \"Happy\"}, {\"ANSWER\": \"Unhappy\"}, {\"ANSWER\": \"Neutral\"}, {\"ANSWER\": \"Happy\"}, {\"ANSWER\": \"Unhappy\"}, {\"ANSWER\": \"Neutral\"}, {\"ANSWER\": \"Happy\"}, {\"ANSWER\": \"Unhappy\"}, {\"ANSWER\": \"Neutral\"}, {\"ANSWER\": \"Happy\"}, {\"ANSWER\": \"Unhappy\"}, {\"ANSWER\": \"Neutral\"}, {\"ANSWER\": \"Happy\"}, {\"ANSWER\": \"Unhappy\"}, {\"ANSWER\": \"Neutral\"}, {\"ANSWER\": \"Happy\"}]}, {\"CODE\": \"5\", \"NAME\": \"Career\", \"TYPE_ID\": 2, \"DISPLAY_ORDER\": 5, \"_TF_ANSWERS\": [{\"ANSWER\": \"Unhappy\"}, {\"ANSWER\": \"Neutral\"}, {\"ANSWER\": \"Happy\"}, {\"ANSWER\": \"Unhappy\"}, {\"ANSWER\": \"Neutral\"}, {\"ANSWER\": \"Happy\"}, {\"ANSWER\": \"Unhappy\"}, {\"ANSWER\": \"Neutral\"}, {\"ANSWER\": \"Happy\"}, {\"ANSWER\": \"Unhappy\"}, {\"ANSWER\": \"Neutral\"}, {\"ANSWER\": \"Happy\"}, {\"ANSWER\": \"Unhappy\"}, {\"ANSWER\": \"Neutral\"}, {\"ANSWER\": \"Happy\"}, {\"ANSWER\": \"Unhappy\"}, {\"ANSWER\": \"Neutral\"}, {\"ANSWER\": \"Happy\"}, {\"ANSWER\": \"Unhappy\"}, {\"ANSWER\": \"Neutral\"}, {\"ANSWER\": \"Happy\"}]}, {\"CODE\": \"6\", \"NAME\": \"Training\", \"TYPE_ID\": 2, \"DISPLAY_ORDER\": 6, \"_TF_ANSWERS\": [{\"ANSWER\": \"Unhappy\"}, {\"ANSWER\": \"Neutral\"}, {\"ANSWER\": \"Happy\"}, {\"ANSWER\": \"Unhappy\"}, {\"ANSWER\": \"Neutral\"}, {\"ANSWER\": \"Happy\"}, {\"ANSWER\": \"Unhappy\"}, {\"ANSWER\": \"Neutral\"}, {\"ANSWER\": \"Happy\"}, {\"ANSWER\": \"Unhappy\"}, {\"ANSWER\": \"Neutral\"}, {\"ANSWER\": \"Happy\"}, {\"ANSWER\": \"Unhappy\"}, {\"ANSWER\": \"Neutral\"}, {\"ANSWER\": \"Happy\"}, {\"ANSWER\": \"Unhappy\"}, {\"ANSWER\": \"Neutral\"}, {\"ANSWER\": \"Happy\"}, {\"ANSWER\": \"Unhappy\"}, {\"ANSWER\": \"Neutral\"}, {\"ANSWER\": \"Happy\"}]}, {\"CODE\": \"7\", \"NAME\": \"Working Time Schedule\", \"TYPE_ID\": 2, \"DISPLAY_ORDER\": 7, \"_TF_ANSWERS\": [{\"ANSWER\": \"Unhappy\"}, {\"ANSWER\": \"Neutral\"}, {\"ANSWER\": \"Happy\"}, {\"ANSWER\": \"Unhappy\"}, {\"ANSWER\": \"Neutral\"}, {\"ANSWER\": \"Happy\"}, {\"ANSWER\": \"Unhappy\"}, {\"ANSWER\": \"Neutral\"}, {\"ANSWER\": \"Happy\"}, {\"ANSWER\": \"Unhappy\"}, {\"ANSWER\": \"Neutral\"}, {\"ANSWER\": \"Happy\"}, {\"ANSWER\": \"Unhappy\"}, {\"ANSWER\": \"Neutral\"}, {\"ANSWER\": \"Happy\"}, {\"ANSWER\": \"Unhappy\"}, {\"ANSWER\": \"Neutral\"}, {\"ANSWER\": \"Happy\"}, {\"ANSWER\": \"Unhappy\"}, {\"ANSWER\": \"Neutral\"}, {\"ANSWER\": \"Happy\"}]}]}]}}'"
      ]
     },
     "execution_count": 3,
     "metadata": {},
     "output_type": "execute_result"
    }
   ],
   "source": [
    "# ----------------\n",
    "# To JSON\n",
    "# ----------------\n",
    "json = dataset.to_json(questionnaire_id)\n",
    "json"
   ]
  },
  {
   "cell_type": "code",
   "execution_count": 4,
   "metadata": {},
   "outputs": [],
   "source": [
    "# ----------------\n",
    "# From JSON\n",
    "# ----------------\n",
    "questionnaire = TFQuestionnairesDataset.from_json(json)"
   ]
  },
  {
   "cell_type": "code",
   "execution_count": 5,
   "metadata": {},
   "outputs": [
    {
     "data": {
      "text/html": [
       "<div>\n",
       "<style scoped>\n",
       "    .dataframe tbody tr th:only-of-type {\n",
       "        vertical-align: middle;\n",
       "    }\n",
       "\n",
       "    .dataframe tbody tr th {\n",
       "        vertical-align: top;\n",
       "    }\n",
       "\n",
       "    .dataframe thead th {\n",
       "        text-align: right;\n",
       "    }\n",
       "</style>\n",
       "<table border=\"1\" class=\"dataframe\">\n",
       "  <thead>\n",
       "    <tr style=\"text-align: right;\">\n",
       "      <th></th>\n",
       "      <th>CODE</th>\n",
       "      <th>NAME</th>\n",
       "    </tr>\n",
       "  </thead>\n",
       "  <tbody>\n",
       "    <tr>\n",
       "      <th>0</th>\n",
       "      <td>Mood</td>\n",
       "      <td>Mood</td>\n",
       "    </tr>\n",
       "  </tbody>\n",
       "</table>\n",
       "</div>"
      ],
      "text/plain": [
       "   CODE  NAME\n",
       "0  Mood  Mood"
      ]
     },
     "execution_count": 5,
     "metadata": {},
     "output_type": "execute_result"
    }
   ],
   "source": [
    "questionnaire.questionnaires"
   ]
  },
  {
   "cell_type": "code",
   "execution_count": 6,
   "metadata": {},
   "outputs": [
    {
     "data": {
      "text/html": [
       "<div>\n",
       "<style scoped>\n",
       "    .dataframe tbody tr th:only-of-type {\n",
       "        vertical-align: middle;\n",
       "    }\n",
       "\n",
       "    .dataframe tbody tr th {\n",
       "        vertical-align: top;\n",
       "    }\n",
       "\n",
       "    .dataframe thead th {\n",
       "        text-align: right;\n",
       "    }\n",
       "</style>\n",
       "<table border=\"1\" class=\"dataframe\">\n",
       "  <thead>\n",
       "    <tr style=\"text-align: right;\">\n",
       "      <th></th>\n",
       "      <th>CODE</th>\n",
       "      <th>NAME</th>\n",
       "      <th>TYPE_ID</th>\n",
       "      <th>DISPLAY_ORDER</th>\n",
       "    </tr>\n",
       "  </thead>\n",
       "  <tbody>\n",
       "    <tr>\n",
       "      <th>0</th>\n",
       "      <td>1</td>\n",
       "      <td>Working Environment</td>\n",
       "      <td>2</td>\n",
       "      <td>1</td>\n",
       "    </tr>\n",
       "    <tr>\n",
       "      <th>1</th>\n",
       "      <td>2</td>\n",
       "      <td>Tasks / Activities</td>\n",
       "      <td>2</td>\n",
       "      <td>2</td>\n",
       "    </tr>\n",
       "    <tr>\n",
       "      <th>2</th>\n",
       "      <td>3</td>\n",
       "      <td>Colleagues</td>\n",
       "      <td>2</td>\n",
       "      <td>3</td>\n",
       "    </tr>\n",
       "    <tr>\n",
       "      <th>3</th>\n",
       "      <td>4</td>\n",
       "      <td>Manager</td>\n",
       "      <td>2</td>\n",
       "      <td>4</td>\n",
       "    </tr>\n",
       "    <tr>\n",
       "      <th>4</th>\n",
       "      <td>5</td>\n",
       "      <td>Career</td>\n",
       "      <td>2</td>\n",
       "      <td>5</td>\n",
       "    </tr>\n",
       "    <tr>\n",
       "      <th>5</th>\n",
       "      <td>6</td>\n",
       "      <td>Training</td>\n",
       "      <td>2</td>\n",
       "      <td>6</td>\n",
       "    </tr>\n",
       "    <tr>\n",
       "      <th>6</th>\n",
       "      <td>7</td>\n",
       "      <td>Working Time Schedule</td>\n",
       "      <td>2</td>\n",
       "      <td>7</td>\n",
       "    </tr>\n",
       "  </tbody>\n",
       "</table>\n",
       "</div>"
      ],
      "text/plain": [
       "  CODE                   NAME  TYPE_ID  DISPLAY_ORDER\n",
       "0    1    Working Environment        2              1\n",
       "1    2     Tasks / Activities        2              2\n",
       "2    3             Colleagues        2              3\n",
       "3    4                Manager        2              4\n",
       "4    5                 Career        2              5\n",
       "5    6               Training        2              6\n",
       "6    7  Working Time Schedule        2              7"
      ]
     },
     "execution_count": 6,
     "metadata": {},
     "output_type": "execute_result"
    }
   ],
   "source": [
    "questionnaire.questions"
   ]
  },
  {
   "cell_type": "code",
   "execution_count": 7,
   "metadata": {},
   "outputs": [
    {
     "data": {
      "text/html": [
       "<div>\n",
       "<style scoped>\n",
       "    .dataframe tbody tr th:only-of-type {\n",
       "        vertical-align: middle;\n",
       "    }\n",
       "\n",
       "    .dataframe tbody tr th {\n",
       "        vertical-align: top;\n",
       "    }\n",
       "\n",
       "    .dataframe thead th {\n",
       "        text-align: right;\n",
       "    }\n",
       "</style>\n",
       "<table border=\"1\" class=\"dataframe\">\n",
       "  <thead>\n",
       "    <tr style=\"text-align: right;\">\n",
       "      <th></th>\n",
       "      <th>ANSWER</th>\n",
       "    </tr>\n",
       "  </thead>\n",
       "  <tbody>\n",
       "    <tr>\n",
       "      <th>0</th>\n",
       "      <td>Unhappy</td>\n",
       "    </tr>\n",
       "    <tr>\n",
       "      <th>1</th>\n",
       "      <td>Neutral</td>\n",
       "    </tr>\n",
       "    <tr>\n",
       "      <th>2</th>\n",
       "      <td>Happy</td>\n",
       "    </tr>\n",
       "    <tr>\n",
       "      <th>3</th>\n",
       "      <td>Unhappy</td>\n",
       "    </tr>\n",
       "    <tr>\n",
       "      <th>4</th>\n",
       "      <td>Neutral</td>\n",
       "    </tr>\n",
       "    <tr>\n",
       "      <th>...</th>\n",
       "      <td>...</td>\n",
       "    </tr>\n",
       "    <tr>\n",
       "      <th>142</th>\n",
       "      <td>Neutral</td>\n",
       "    </tr>\n",
       "    <tr>\n",
       "      <th>143</th>\n",
       "      <td>Happy</td>\n",
       "    </tr>\n",
       "    <tr>\n",
       "      <th>144</th>\n",
       "      <td>Unhappy</td>\n",
       "    </tr>\n",
       "    <tr>\n",
       "      <th>145</th>\n",
       "      <td>Neutral</td>\n",
       "    </tr>\n",
       "    <tr>\n",
       "      <th>146</th>\n",
       "      <td>Happy</td>\n",
       "    </tr>\n",
       "  </tbody>\n",
       "</table>\n",
       "<p>147 rows × 1 columns</p>\n",
       "</div>"
      ],
      "text/plain": [
       "      ANSWER\n",
       "0    Unhappy\n",
       "1    Neutral\n",
       "2      Happy\n",
       "3    Unhappy\n",
       "4    Neutral\n",
       "..       ...\n",
       "142  Neutral\n",
       "143    Happy\n",
       "144  Unhappy\n",
       "145  Neutral\n",
       "146    Happy\n",
       "\n",
       "[147 rows x 1 columns]"
      ]
     },
     "execution_count": 7,
     "metadata": {},
     "output_type": "execute_result"
    }
   ],
   "source": [
    "questionnaire.answers"
   ]
  },
  {
   "cell_type": "markdown",
   "metadata": {},
   "source": [
    "## *Get questionaire info*"
   ]
  },
  {
   "cell_type": "code",
   "execution_count": 8,
   "metadata": {},
   "outputs": [
    {
     "data": {
      "text/plain": [
       "'Working mood'"
      ]
     },
     "execution_count": 8,
     "metadata": {},
     "output_type": "execute_result"
    }
   ],
   "source": [
    "topic = dataset.get_questionnaire_topic(questionnaire_id)\n",
    "topic"
   ]
  },
  {
   "cell_type": "code",
   "execution_count": 9,
   "metadata": {},
   "outputs": [
    {
     "data": {
      "text/plain": [
       "'Multi choice'"
      ]
     },
     "execution_count": 9,
     "metadata": {},
     "output_type": "execute_result"
    }
   ],
   "source": [
    "question_types = dataset.get_questionnaire_question_type(questionnaire_id)\n",
    "question_types"
   ]
  },
  {
   "cell_type": "code",
   "execution_count": 10,
   "metadata": {},
   "outputs": [
    {
     "data": {
      "text/plain": [
       "7"
      ]
     },
     "execution_count": 10,
     "metadata": {},
     "output_type": "execute_result"
    }
   ],
   "source": [
    "question_number = dataset.get_questionnaire_question_number(questionnaire_id)\n",
    "question_number"
   ]
  }
 ],
 "metadata": {
  "kernelspec": {
   "display_name": ".env",
   "language": "python",
   "name": "python3"
  },
  "language_info": {
   "codemirror_mode": {
    "name": "ipython",
    "version": 3
   },
   "file_extension": ".py",
   "mimetype": "text/x-python",
   "name": "python",
   "nbconvert_exporter": "python",
   "pygments_lexer": "ipython3",
   "version": "3.12.2"
  }
 },
 "nbformat": 4,
 "nbformat_minor": 2
}
