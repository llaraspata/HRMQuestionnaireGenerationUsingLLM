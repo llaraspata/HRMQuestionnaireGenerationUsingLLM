{
 "cells": [
  {
   "cell_type": "markdown",
   "metadata": {},
   "source": [
    "# **TFQuestionnaireDataset usage - demo**"
   ]
  },
  {
   "cell_type": "markdown",
   "metadata": {},
   "source": [
    "In this notebook a short demo about the TFQuestionnaireDataset class is shown.\n",
    "Precisely, below are reported the conversion method of a questionnaire to and from JSON format, which are crucial for the generation tasks.\n",
    "\n",
    "\n",
    "The json is structured as follows:\n",
    "- Within the top-level \"data\" key, there is the key \"TF_QUESTIONNAIRES\" with a corresponding value that is an array, whose elements represent questionnaires. *Notice that just onee questionnaire will be included.*\n",
    "- Each questionnaire object has the following keys: \"ID\", \"CODE\", \"NAME\", \"DESCRIPTION\", and \"_TF_QUESTIONS\".\n",
    "- The value of the \"_TF_QUESTIONS\" key is another array.\n",
    "- Each element in the \"_TF_QUESTIONS\" array is an object representing a question.\n",
    "- Each question object has the following keys: \"ID\", \"TYPE_ID\", \"QUESTIONNAIRE_ID\", \"CODE\", \"NAME\", and \"_TF_ANSWERS\".\n",
    "- The value of the \"_TF_ANSWERS\" key is another array.\n",
    "- Each element in the \"_TF_ANSWERS\" array is an object representing an answer option for the question.\n",
    "- Each answer object has the following keys: \"ID\", \"QUESTION_ID\", \"ANSWER\", and \"SCORE\".\n",
    "Overall, the JSON represents a hierarchical structure of questionnaires, questions, and answer options.\n"
   ]
  },
  {
   "cell_type": "code",
   "execution_count": 1,
   "metadata": {},
   "outputs": [],
   "source": [
    "import os\n",
    "import sys\n",
    "sys.path.append('\\\\'.join(os.getcwd().split('\\\\')[:-1])+'\\\\src')\n",
    "\n",
    "import src.data.TFQuestionnairesDataset as tf_qst"
   ]
  },
  {
   "cell_type": "code",
   "execution_count": 2,
   "metadata": {},
   "outputs": [],
   "source": [
    "# ----------------\n",
    "# Load data\n",
    "# ----------------\n",
    "dataset = tf_qst.TFQuestionnairesDataset()\n",
    "dataset.load_data()"
   ]
  },
  {
   "cell_type": "code",
   "execution_count": 3,
   "metadata": {},
   "outputs": [
    {
     "data": {
      "text/plain": [
       "'{\"data\": {\"TF_QUESTIONNAIRES\": [{\"CODE\": \"Stress Survey\", \"NAME\": \"Stress Survey\", \"_TF_QUESTIONS\": [{\"CODE\": \"1\", \"NAME\": \"I often feel overwhelmed by tasks which I\\'m not sure to complete in time\", \"TYPE_ID\": 3, \"DISPLAY_ORDER\": 1, \"_TF_ANSWERS\": [{\"ANSWER\": \"Completely Disagree\"}, {\"ANSWER\": \"2\"}, {\"ANSWER\": \"3\"}, {\"ANSWER\": \"4\"}, {\"ANSWER\": \"5\"}, {\"ANSWER\": \"6\"}, {\"ANSWER\": \"7\"}, {\"ANSWER\": \"8\"}, {\"ANSWER\": \"9\"}, {\"ANSWER\": \"Strongly Agree\"}, {\"ANSWER\": \"Completely Disagree\"}, {\"ANSWER\": \"2\"}, {\"ANSWER\": \"3\"}, {\"ANSWER\": \"4\"}, {\"ANSWER\": \"5\"}, {\"ANSWER\": \"6\"}, {\"ANSWER\": \"7\"}, {\"ANSWER\": \"8\"}, {\"ANSWER\": \"9\"}, {\"ANSWER\": \"Strongly Agree\"}, {\"ANSWER\": \"Completely Disagree\"}, {\"ANSWER\": \"2\"}, {\"ANSWER\": \"3\"}, {\"ANSWER\": \"4\"}, {\"ANSWER\": \"5\"}, {\"ANSWER\": \"6\"}, {\"ANSWER\": \"7\"}, {\"ANSWER\": \"8\"}, {\"ANSWER\": \"9\"}, {\"ANSWER\": \"Strongly Agree\"}, {\"ANSWER\": \"Completely Disagree\"}, {\"ANSWER\": \"2\"}, {\"ANSWER\": \"3\"}, {\"ANSWER\": \"4\"}, {\"ANSWER\": \"5\"}, {\"ANSWER\": \"6\"}, {\"ANSWER\": \"7\"}, {\"ANSWER\": \"8\"}, {\"ANSWER\": \"9\"}, {\"ANSWER\": \"Strongly Agree\"}, {\"ANSWER\": \"Completely Disagree\"}, {\"ANSWER\": \"2\"}, {\"ANSWER\": \"3\"}, {\"ANSWER\": \"4\"}, {\"ANSWER\": \"5\"}, {\"ANSWER\": \"6\"}, {\"ANSWER\": \"7\"}, {\"ANSWER\": \"8\"}, {\"ANSWER\": \"9\"}, {\"ANSWER\": \"Strongly Agree\"}, {\"ANSWER\": \"Completely Disagree\"}, {\"ANSWER\": \"2\"}, {\"ANSWER\": \"3\"}, {\"ANSWER\": \"4\"}, {\"ANSWER\": \"5\"}, {\"ANSWER\": \"6\"}, {\"ANSWER\": \"7\"}, {\"ANSWER\": \"8\"}, {\"ANSWER\": \"9\"}, {\"ANSWER\": \"Strongly Agree\"}, {\"ANSWER\": \"Completely Disagree\"}, {\"ANSWER\": \"2\"}, {\"ANSWER\": \"3\"}, {\"ANSWER\": \"4\"}, {\"ANSWER\": \"5\"}, {\"ANSWER\": \"6\"}, {\"ANSWER\": \"7\"}, {\"ANSWER\": \"8\"}, {\"ANSWER\": \"9\"}, {\"ANSWER\": \"Strongly Agree\"}]}, {\"CODE\": \"2\", \"NAME\": \"I\\'m not comfortable with my working Time schedule and I would like to shift or reduce it\", \"TYPE_ID\": 3, \"DISPLAY_ORDER\": 2, \"_TF_ANSWERS\": [{\"ANSWER\": \"Completely Disagree\"}, {\"ANSWER\": \"2\"}, {\"ANSWER\": \"3\"}, {\"ANSWER\": \"4\"}, {\"ANSWER\": \"5\"}, {\"ANSWER\": \"6\"}, {\"ANSWER\": \"7\"}, {\"ANSWER\": \"8\"}, {\"ANSWER\": \"9\"}, {\"ANSWER\": \"Strongly Agree\"}, {\"ANSWER\": \"Completely Disagree\"}, {\"ANSWER\": \"2\"}, {\"ANSWER\": \"3\"}, {\"ANSWER\": \"4\"}, {\"ANSWER\": \"5\"}, {\"ANSWER\": \"6\"}, {\"ANSWER\": \"7\"}, {\"ANSWER\": \"8\"}, {\"ANSWER\": \"9\"}, {\"ANSWER\": \"Strongly Agree\"}, {\"ANSWER\": \"Completely Disagree\"}, {\"ANSWER\": \"2\"}, {\"ANSWER\": \"3\"}, {\"ANSWER\": \"4\"}, {\"ANSWER\": \"5\"}, {\"ANSWER\": \"6\"}, {\"ANSWER\": \"7\"}, {\"ANSWER\": \"8\"}, {\"ANSWER\": \"9\"}, {\"ANSWER\": \"Strongly Agree\"}, {\"ANSWER\": \"Completely Disagree\"}, {\"ANSWER\": \"2\"}, {\"ANSWER\": \"3\"}, {\"ANSWER\": \"4\"}, {\"ANSWER\": \"5\"}, {\"ANSWER\": \"6\"}, {\"ANSWER\": \"7\"}, {\"ANSWER\": \"8\"}, {\"ANSWER\": \"9\"}, {\"ANSWER\": \"Strongly Agree\"}, {\"ANSWER\": \"Completely Disagree\"}, {\"ANSWER\": \"2\"}, {\"ANSWER\": \"3\"}, {\"ANSWER\": \"4\"}, {\"ANSWER\": \"5\"}, {\"ANSWER\": \"6\"}, {\"ANSWER\": \"7\"}, {\"ANSWER\": \"8\"}, {\"ANSWER\": \"9\"}, {\"ANSWER\": \"Strongly Agree\"}, {\"ANSWER\": \"Completely Disagree\"}, {\"ANSWER\": \"2\"}, {\"ANSWER\": \"3\"}, {\"ANSWER\": \"4\"}, {\"ANSWER\": \"5\"}, {\"ANSWER\": \"6\"}, {\"ANSWER\": \"7\"}, {\"ANSWER\": \"8\"}, {\"ANSWER\": \"9\"}, {\"ANSWER\": \"Strongly Agree\"}, {\"ANSWER\": \"Completely Disagree\"}, {\"ANSWER\": \"2\"}, {\"ANSWER\": \"3\"}, {\"ANSWER\": \"4\"}, {\"ANSWER\": \"5\"}, {\"ANSWER\": \"6\"}, {\"ANSWER\": \"7\"}, {\"ANSWER\": \"8\"}, {\"ANSWER\": \"9\"}, {\"ANSWER\": \"Strongly Agree\"}]}, {\"CODE\": \"3\", \"NAME\": \"I\\'m often frustrated because I\\'m allocated on tasks which I\\'m not really interested to\", \"TYPE_ID\": 3, \"DISPLAY_ORDER\": 3, \"_TF_ANSWERS\": [{\"ANSWER\": \"Completely Disagree\"}, {\"ANSWER\": \"2\"}, {\"ANSWER\": \"3\"}, {\"ANSWER\": \"4\"}, {\"ANSWER\": \"5\"}, {\"ANSWER\": \"6\"}, {\"ANSWER\": \"7\"}, {\"ANSWER\": \"8\"}, {\"ANSWER\": \"9\"}, {\"ANSWER\": \"Strongly Agree\"}, {\"ANSWER\": \"Completely Disagree\"}, {\"ANSWER\": \"2\"}, {\"ANSWER\": \"3\"}, {\"ANSWER\": \"4\"}, {\"ANSWER\": \"5\"}, {\"ANSWER\": \"6\"}, {\"ANSWER\": \"7\"}, {\"ANSWER\": \"8\"}, {\"ANSWER\": \"9\"}, {\"ANSWER\": \"Strongly Agree\"}, {\"ANSWER\": \"Completely Disagree\"}, {\"ANSWER\": \"2\"}, {\"ANSWER\": \"3\"}, {\"ANSWER\": \"4\"}, {\"ANSWER\": \"5\"}, {\"ANSWER\": \"6\"}, {\"ANSWER\": \"7\"}, {\"ANSWER\": \"8\"}, {\"ANSWER\": \"9\"}, {\"ANSWER\": \"Strongly Agree\"}, {\"ANSWER\": \"Completely Disagree\"}, {\"ANSWER\": \"2\"}, {\"ANSWER\": \"3\"}, {\"ANSWER\": \"4\"}, {\"ANSWER\": \"5\"}, {\"ANSWER\": \"6\"}, {\"ANSWER\": \"7\"}, {\"ANSWER\": \"8\"}, {\"ANSWER\": \"9\"}, {\"ANSWER\": \"Strongly Agree\"}, {\"ANSWER\": \"Completely Disagree\"}, {\"ANSWER\": \"2\"}, {\"ANSWER\": \"3\"}, {\"ANSWER\": \"4\"}, {\"ANSWER\": \"5\"}, {\"ANSWER\": \"6\"}, {\"ANSWER\": \"7\"}, {\"ANSWER\": \"8\"}, {\"ANSWER\": \"9\"}, {\"ANSWER\": \"Strongly Agree\"}, {\"ANSWER\": \"Completely Disagree\"}, {\"ANSWER\": \"2\"}, {\"ANSWER\": \"3\"}, {\"ANSWER\": \"4\"}, {\"ANSWER\": \"5\"}, {\"ANSWER\": \"6\"}, {\"ANSWER\": \"7\"}, {\"ANSWER\": \"8\"}, {\"ANSWER\": \"9\"}, {\"ANSWER\": \"Strongly Agree\"}, {\"ANSWER\": \"Completely Disagree\"}, {\"ANSWER\": \"2\"}, {\"ANSWER\": \"3\"}, {\"ANSWER\": \"4\"}, {\"ANSWER\": \"5\"}, {\"ANSWER\": \"6\"}, {\"ANSWER\": \"7\"}, {\"ANSWER\": \"8\"}, {\"ANSWER\": \"9\"}, {\"ANSWER\": \"Strongly Agree\"}]}, {\"CODE\": \"4\", \"NAME\": \"I often work overtime and I don\\'t have time for myself\", \"TYPE_ID\": 3, \"DISPLAY_ORDER\": 4, \"_TF_ANSWERS\": [{\"ANSWER\": \"Completely Disagree\"}, {\"ANSWER\": \"2\"}, {\"ANSWER\": \"3\"}, {\"ANSWER\": \"4\"}, {\"ANSWER\": \"5\"}, {\"ANSWER\": \"6\"}, {\"ANSWER\": \"7\"}, {\"ANSWER\": \"8\"}, {\"ANSWER\": \"9\"}, {\"ANSWER\": \"Strongly Agree\"}, {\"ANSWER\": \"Completely Disagree\"}, {\"ANSWER\": \"2\"}, {\"ANSWER\": \"3\"}, {\"ANSWER\": \"4\"}, {\"ANSWER\": \"5\"}, {\"ANSWER\": \"6\"}, {\"ANSWER\": \"7\"}, {\"ANSWER\": \"8\"}, {\"ANSWER\": \"9\"}, {\"ANSWER\": \"Strongly Agree\"}, {\"ANSWER\": \"Completely Disagree\"}, {\"ANSWER\": \"2\"}, {\"ANSWER\": \"3\"}, {\"ANSWER\": \"4\"}, {\"ANSWER\": \"5\"}, {\"ANSWER\": \"6\"}, {\"ANSWER\": \"7\"}, {\"ANSWER\": \"8\"}, {\"ANSWER\": \"9\"}, {\"ANSWER\": \"Strongly Agree\"}, {\"ANSWER\": \"Completely Disagree\"}, {\"ANSWER\": \"2\"}, {\"ANSWER\": \"3\"}, {\"ANSWER\": \"4\"}, {\"ANSWER\": \"5\"}, {\"ANSWER\": \"6\"}, {\"ANSWER\": \"7\"}, {\"ANSWER\": \"8\"}, {\"ANSWER\": \"9\"}, {\"ANSWER\": \"Strongly Agree\"}, {\"ANSWER\": \"Completely Disagree\"}, {\"ANSWER\": \"2\"}, {\"ANSWER\": \"3\"}, {\"ANSWER\": \"4\"}, {\"ANSWER\": \"5\"}, {\"ANSWER\": \"6\"}, {\"ANSWER\": \"7\"}, {\"ANSWER\": \"8\"}, {\"ANSWER\": \"9\"}, {\"ANSWER\": \"Strongly Agree\"}, {\"ANSWER\": \"Completely Disagree\"}, {\"ANSWER\": \"2\"}, {\"ANSWER\": \"3\"}, {\"ANSWER\": \"4\"}, {\"ANSWER\": \"5\"}, {\"ANSWER\": \"6\"}, {\"ANSWER\": \"7\"}, {\"ANSWER\": \"8\"}, {\"ANSWER\": \"9\"}, {\"ANSWER\": \"Strongly Agree\"}, {\"ANSWER\": \"Completely Disagree\"}, {\"ANSWER\": \"2\"}, {\"ANSWER\": \"3\"}, {\"ANSWER\": \"4\"}, {\"ANSWER\": \"5\"}, {\"ANSWER\": \"6\"}, {\"ANSWER\": \"7\"}, {\"ANSWER\": \"8\"}, {\"ANSWER\": \"9\"}, {\"ANSWER\": \"Strongly Agree\"}]}, {\"CODE\": \"5\", \"NAME\": \"The place where I use to work for most of my time is not really comfortable.\", \"TYPE_ID\": 3, \"DISPLAY_ORDER\": 5, \"_TF_ANSWERS\": [{\"ANSWER\": \"Completely Disagree\"}, {\"ANSWER\": \"2\"}, {\"ANSWER\": \"3\"}, {\"ANSWER\": \"4\"}, {\"ANSWER\": \"5\"}, {\"ANSWER\": \"6\"}, {\"ANSWER\": \"7\"}, {\"ANSWER\": \"8\"}, {\"ANSWER\": \"9\"}, {\"ANSWER\": \"Strongly Agree\"}, {\"ANSWER\": \"Completely Disagree\"}, {\"ANSWER\": \"2\"}, {\"ANSWER\": \"3\"}, {\"ANSWER\": \"4\"}, {\"ANSWER\": \"5\"}, {\"ANSWER\": \"6\"}, {\"ANSWER\": \"7\"}, {\"ANSWER\": \"8\"}, {\"ANSWER\": \"9\"}, {\"ANSWER\": \"Strongly Agree\"}, {\"ANSWER\": \"Completely Disagree\"}, {\"ANSWER\": \"2\"}, {\"ANSWER\": \"3\"}, {\"ANSWER\": \"4\"}, {\"ANSWER\": \"5\"}, {\"ANSWER\": \"6\"}, {\"ANSWER\": \"7\"}, {\"ANSWER\": \"8\"}, {\"ANSWER\": \"9\"}, {\"ANSWER\": \"Strongly Agree\"}, {\"ANSWER\": \"Completely Disagree\"}, {\"ANSWER\": \"2\"}, {\"ANSWER\": \"3\"}, {\"ANSWER\": \"4\"}, {\"ANSWER\": \"5\"}, {\"ANSWER\": \"6\"}, {\"ANSWER\": \"7\"}, {\"ANSWER\": \"8\"}, {\"ANSWER\": \"9\"}, {\"ANSWER\": \"Strongly Agree\"}, {\"ANSWER\": \"Completely Disagree\"}, {\"ANSWER\": \"2\"}, {\"ANSWER\": \"3\"}, {\"ANSWER\": \"4\"}, {\"ANSWER\": \"5\"}, {\"ANSWER\": \"6\"}, {\"ANSWER\": \"7\"}, {\"ANSWER\": \"8\"}, {\"ANSWER\": \"9\"}, {\"ANSWER\": \"Strongly Agree\"}, {\"ANSWER\": \"Completely Disagree\"}, {\"ANSWER\": \"2\"}, {\"ANSWER\": \"3\"}, {\"ANSWER\": \"4\"}, {\"ANSWER\": \"5\"}, {\"ANSWER\": \"6\"}, {\"ANSWER\": \"7\"}, {\"ANSWER\": \"8\"}, {\"ANSWER\": \"9\"}, {\"ANSWER\": \"Strongly Agree\"}, {\"ANSWER\": \"Completely Disagree\"}, {\"ANSWER\": \"2\"}, {\"ANSWER\": \"3\"}, {\"ANSWER\": \"4\"}, {\"ANSWER\": \"5\"}, {\"ANSWER\": \"6\"}, {\"ANSWER\": \"7\"}, {\"ANSWER\": \"8\"}, {\"ANSWER\": \"9\"}, {\"ANSWER\": \"Strongly Agree\"}]}, {\"CODE\": \"6\", \"NAME\": \"I would like more occasions to talk with my manager and explain my view and expectations.\", \"TYPE_ID\": 3, \"DISPLAY_ORDER\": 6, \"_TF_ANSWERS\": [{\"ANSWER\": \"Completely Disagree\"}, {\"ANSWER\": \"2\"}, {\"ANSWER\": \"3\"}, {\"ANSWER\": \"4\"}, {\"ANSWER\": \"5\"}, {\"ANSWER\": \"6\"}, {\"ANSWER\": \"7\"}, {\"ANSWER\": \"8\"}, {\"ANSWER\": \"9\"}, {\"ANSWER\": \"Strongly Agree\"}, {\"ANSWER\": \"Completely Disagree\"}, {\"ANSWER\": \"2\"}, {\"ANSWER\": \"3\"}, {\"ANSWER\": \"4\"}, {\"ANSWER\": \"5\"}, {\"ANSWER\": \"6\"}, {\"ANSWER\": \"7\"}, {\"ANSWER\": \"8\"}, {\"ANSWER\": \"9\"}, {\"ANSWER\": \"Strongly Agree\"}, {\"ANSWER\": \"Completely Disagree\"}, {\"ANSWER\": \"2\"}, {\"ANSWER\": \"3\"}, {\"ANSWER\": \"4\"}, {\"ANSWER\": \"5\"}, {\"ANSWER\": \"6\"}, {\"ANSWER\": \"7\"}, {\"ANSWER\": \"8\"}, {\"ANSWER\": \"9\"}, {\"ANSWER\": \"Strongly Agree\"}, {\"ANSWER\": \"Completely Disagree\"}, {\"ANSWER\": \"2\"}, {\"ANSWER\": \"3\"}, {\"ANSWER\": \"4\"}, {\"ANSWER\": \"5\"}, {\"ANSWER\": \"6\"}, {\"ANSWER\": \"7\"}, {\"ANSWER\": \"8\"}, {\"ANSWER\": \"9\"}, {\"ANSWER\": \"Strongly Agree\"}, {\"ANSWER\": \"Completely Disagree\"}, {\"ANSWER\": \"2\"}, {\"ANSWER\": \"3\"}, {\"ANSWER\": \"4\"}, {\"ANSWER\": \"5\"}, {\"ANSWER\": \"6\"}, {\"ANSWER\": \"7\"}, {\"ANSWER\": \"8\"}, {\"ANSWER\": \"9\"}, {\"ANSWER\": \"Strongly Agree\"}, {\"ANSWER\": \"Completely Disagree\"}, {\"ANSWER\": \"2\"}, {\"ANSWER\": \"3\"}, {\"ANSWER\": \"4\"}, {\"ANSWER\": \"5\"}, {\"ANSWER\": \"6\"}, {\"ANSWER\": \"7\"}, {\"ANSWER\": \"8\"}, {\"ANSWER\": \"9\"}, {\"ANSWER\": \"Strongly Agree\"}, {\"ANSWER\": \"Completely Disagree\"}, {\"ANSWER\": \"2\"}, {\"ANSWER\": \"3\"}, {\"ANSWER\": \"4\"}, {\"ANSWER\": \"5\"}, {\"ANSWER\": \"6\"}, {\"ANSWER\": \"7\"}, {\"ANSWER\": \"8\"}, {\"ANSWER\": \"9\"}, {\"ANSWER\": \"Strongly Agree\"}]}, {\"CODE\": \"7\", \"NAME\": \"I don\\'t feel 100% comfortable working with some of my colleagues.\", \"TYPE_ID\": 3, \"DISPLAY_ORDER\": 7, \"_TF_ANSWERS\": [{\"ANSWER\": \"Completely Disagree\"}, {\"ANSWER\": \"2\"}, {\"ANSWER\": \"3\"}, {\"ANSWER\": \"4\"}, {\"ANSWER\": \"5\"}, {\"ANSWER\": \"6\"}, {\"ANSWER\": \"7\"}, {\"ANSWER\": \"8\"}, {\"ANSWER\": \"9\"}, {\"ANSWER\": \"Strongly Agree\"}, {\"ANSWER\": \"Completely Disagree\"}, {\"ANSWER\": \"2\"}, {\"ANSWER\": \"3\"}, {\"ANSWER\": \"4\"}, {\"ANSWER\": \"5\"}, {\"ANSWER\": \"6\"}, {\"ANSWER\": \"7\"}, {\"ANSWER\": \"8\"}, {\"ANSWER\": \"9\"}, {\"ANSWER\": \"Strongly Agree\"}, {\"ANSWER\": \"Completely Disagree\"}, {\"ANSWER\": \"2\"}, {\"ANSWER\": \"3\"}, {\"ANSWER\": \"4\"}, {\"ANSWER\": \"5\"}, {\"ANSWER\": \"6\"}, {\"ANSWER\": \"7\"}, {\"ANSWER\": \"8\"}, {\"ANSWER\": \"9\"}, {\"ANSWER\": \"Strongly Agree\"}, {\"ANSWER\": \"Completely Disagree\"}, {\"ANSWER\": \"2\"}, {\"ANSWER\": \"3\"}, {\"ANSWER\": \"4\"}, {\"ANSWER\": \"5\"}, {\"ANSWER\": \"6\"}, {\"ANSWER\": \"7\"}, {\"ANSWER\": \"8\"}, {\"ANSWER\": \"9\"}, {\"ANSWER\": \"Strongly Agree\"}, {\"ANSWER\": \"Completely Disagree\"}, {\"ANSWER\": \"2\"}, {\"ANSWER\": \"3\"}, {\"ANSWER\": \"4\"}, {\"ANSWER\": \"5\"}, {\"ANSWER\": \"6\"}, {\"ANSWER\": \"7\"}, {\"ANSWER\": \"8\"}, {\"ANSWER\": \"9\"}, {\"ANSWER\": \"Strongly Agree\"}, {\"ANSWER\": \"Completely Disagree\"}, {\"ANSWER\": \"2\"}, {\"ANSWER\": \"3\"}, {\"ANSWER\": \"4\"}, {\"ANSWER\": \"5\"}, {\"ANSWER\": \"6\"}, {\"ANSWER\": \"7\"}, {\"ANSWER\": \"8\"}, {\"ANSWER\": \"9\"}, {\"ANSWER\": \"Strongly Agree\"}, {\"ANSWER\": \"Completely Disagree\"}, {\"ANSWER\": \"2\"}, {\"ANSWER\": \"3\"}, {\"ANSWER\": \"4\"}, {\"ANSWER\": \"5\"}, {\"ANSWER\": \"6\"}, {\"ANSWER\": \"7\"}, {\"ANSWER\": \"8\"}, {\"ANSWER\": \"9\"}, {\"ANSWER\": \"Strongly Agree\"}]}]}]}}'"
      ]
     },
     "execution_count": 3,
     "metadata": {},
     "output_type": "execute_result"
    }
   ],
   "source": [
    "# ----------------\n",
    "# To JSON\n",
    "# ----------------\n",
    "json = dataset.to_json(dataset.questionnaires[\"ID\"][0])\n",
    "json"
   ]
  },
  {
   "cell_type": "code",
   "execution_count": 4,
   "metadata": {},
   "outputs": [],
   "source": [
    "# ----------------\n",
    "# From JSON\n",
    "# ----------------\n",
    "questionnaire = tf_qst.TFQuestionnairesDataset.from_json(json)"
   ]
  },
  {
   "cell_type": "code",
   "execution_count": 5,
   "metadata": {},
   "outputs": [
    {
     "data": {
      "text/html": [
       "<div>\n",
       "<style scoped>\n",
       "    .dataframe tbody tr th:only-of-type {\n",
       "        vertical-align: middle;\n",
       "    }\n",
       "\n",
       "    .dataframe tbody tr th {\n",
       "        vertical-align: top;\n",
       "    }\n",
       "\n",
       "    .dataframe thead th {\n",
       "        text-align: right;\n",
       "    }\n",
       "</style>\n",
       "<table border=\"1\" class=\"dataframe\">\n",
       "  <thead>\n",
       "    <tr style=\"text-align: right;\">\n",
       "      <th></th>\n",
       "      <th>CODE</th>\n",
       "      <th>NAME</th>\n",
       "    </tr>\n",
       "  </thead>\n",
       "  <tbody>\n",
       "    <tr>\n",
       "      <th>0</th>\n",
       "      <td>Stress Survey</td>\n",
       "      <td>Stress Survey</td>\n",
       "    </tr>\n",
       "  </tbody>\n",
       "</table>\n",
       "</div>"
      ],
      "text/plain": [
       "            CODE           NAME\n",
       "0  Stress Survey  Stress Survey"
      ]
     },
     "execution_count": 5,
     "metadata": {},
     "output_type": "execute_result"
    }
   ],
   "source": [
    "questionnaire.questionnaires"
   ]
  },
  {
   "cell_type": "code",
   "execution_count": 6,
   "metadata": {},
   "outputs": [
    {
     "data": {
      "text/html": [
       "<div>\n",
       "<style scoped>\n",
       "    .dataframe tbody tr th:only-of-type {\n",
       "        vertical-align: middle;\n",
       "    }\n",
       "\n",
       "    .dataframe tbody tr th {\n",
       "        vertical-align: top;\n",
       "    }\n",
       "\n",
       "    .dataframe thead th {\n",
       "        text-align: right;\n",
       "    }\n",
       "</style>\n",
       "<table border=\"1\" class=\"dataframe\">\n",
       "  <thead>\n",
       "    <tr style=\"text-align: right;\">\n",
       "      <th></th>\n",
       "      <th>CODE</th>\n",
       "      <th>NAME</th>\n",
       "      <th>TYPE_ID</th>\n",
       "      <th>DISPLAY_ORDER</th>\n",
       "    </tr>\n",
       "  </thead>\n",
       "  <tbody>\n",
       "    <tr>\n",
       "      <th>0</th>\n",
       "      <td>1</td>\n",
       "      <td>I often feel overwhelmed by tasks which I'm no...</td>\n",
       "      <td>3</td>\n",
       "      <td>1</td>\n",
       "    </tr>\n",
       "    <tr>\n",
       "      <th>1</th>\n",
       "      <td>2</td>\n",
       "      <td>I'm not comfortable with my working Time sched...</td>\n",
       "      <td>3</td>\n",
       "      <td>2</td>\n",
       "    </tr>\n",
       "    <tr>\n",
       "      <th>2</th>\n",
       "      <td>3</td>\n",
       "      <td>I'm often frustrated because I'm allocated on ...</td>\n",
       "      <td>3</td>\n",
       "      <td>3</td>\n",
       "    </tr>\n",
       "    <tr>\n",
       "      <th>3</th>\n",
       "      <td>4</td>\n",
       "      <td>I often work overtime and I don't have time fo...</td>\n",
       "      <td>3</td>\n",
       "      <td>4</td>\n",
       "    </tr>\n",
       "    <tr>\n",
       "      <th>4</th>\n",
       "      <td>5</td>\n",
       "      <td>The place where I use to work for most of my t...</td>\n",
       "      <td>3</td>\n",
       "      <td>5</td>\n",
       "    </tr>\n",
       "    <tr>\n",
       "      <th>5</th>\n",
       "      <td>6</td>\n",
       "      <td>I would like more occasions to talk with my ma...</td>\n",
       "      <td>3</td>\n",
       "      <td>6</td>\n",
       "    </tr>\n",
       "    <tr>\n",
       "      <th>6</th>\n",
       "      <td>7</td>\n",
       "      <td>I don't feel 100% comfortable working with som...</td>\n",
       "      <td>3</td>\n",
       "      <td>7</td>\n",
       "    </tr>\n",
       "  </tbody>\n",
       "</table>\n",
       "</div>"
      ],
      "text/plain": [
       "  CODE                                               NAME  TYPE_ID  \\\n",
       "0    1  I often feel overwhelmed by tasks which I'm no...        3   \n",
       "1    2  I'm not comfortable with my working Time sched...        3   \n",
       "2    3  I'm often frustrated because I'm allocated on ...        3   \n",
       "3    4  I often work overtime and I don't have time fo...        3   \n",
       "4    5  The place where I use to work for most of my t...        3   \n",
       "5    6  I would like more occasions to talk with my ma...        3   \n",
       "6    7  I don't feel 100% comfortable working with som...        3   \n",
       "\n",
       "   DISPLAY_ORDER  \n",
       "0              1  \n",
       "1              2  \n",
       "2              3  \n",
       "3              4  \n",
       "4              5  \n",
       "5              6  \n",
       "6              7  "
      ]
     },
     "execution_count": 6,
     "metadata": {},
     "output_type": "execute_result"
    }
   ],
   "source": [
    "questionnaire.questions"
   ]
  },
  {
   "cell_type": "code",
   "execution_count": 7,
   "metadata": {},
   "outputs": [
    {
     "data": {
      "text/html": [
       "<div>\n",
       "<style scoped>\n",
       "    .dataframe tbody tr th:only-of-type {\n",
       "        vertical-align: middle;\n",
       "    }\n",
       "\n",
       "    .dataframe tbody tr th {\n",
       "        vertical-align: top;\n",
       "    }\n",
       "\n",
       "    .dataframe thead th {\n",
       "        text-align: right;\n",
       "    }\n",
       "</style>\n",
       "<table border=\"1\" class=\"dataframe\">\n",
       "  <thead>\n",
       "    <tr style=\"text-align: right;\">\n",
       "      <th></th>\n",
       "      <th>ANSWER</th>\n",
       "    </tr>\n",
       "  </thead>\n",
       "  <tbody>\n",
       "    <tr>\n",
       "      <th>0</th>\n",
       "      <td>Completely Disagree</td>\n",
       "    </tr>\n",
       "    <tr>\n",
       "      <th>1</th>\n",
       "      <td>2</td>\n",
       "    </tr>\n",
       "    <tr>\n",
       "      <th>2</th>\n",
       "      <td>3</td>\n",
       "    </tr>\n",
       "    <tr>\n",
       "      <th>3</th>\n",
       "      <td>4</td>\n",
       "    </tr>\n",
       "    <tr>\n",
       "      <th>4</th>\n",
       "      <td>5</td>\n",
       "    </tr>\n",
       "    <tr>\n",
       "      <th>...</th>\n",
       "      <td>...</td>\n",
       "    </tr>\n",
       "    <tr>\n",
       "      <th>485</th>\n",
       "      <td>6</td>\n",
       "    </tr>\n",
       "    <tr>\n",
       "      <th>486</th>\n",
       "      <td>7</td>\n",
       "    </tr>\n",
       "    <tr>\n",
       "      <th>487</th>\n",
       "      <td>8</td>\n",
       "    </tr>\n",
       "    <tr>\n",
       "      <th>488</th>\n",
       "      <td>9</td>\n",
       "    </tr>\n",
       "    <tr>\n",
       "      <th>489</th>\n",
       "      <td>Strongly Agree</td>\n",
       "    </tr>\n",
       "  </tbody>\n",
       "</table>\n",
       "<p>490 rows × 1 columns</p>\n",
       "</div>"
      ],
      "text/plain": [
       "                  ANSWER\n",
       "0    Completely Disagree\n",
       "1                      2\n",
       "2                      3\n",
       "3                      4\n",
       "4                      5\n",
       "..                   ...\n",
       "485                    6\n",
       "486                    7\n",
       "487                    8\n",
       "488                    9\n",
       "489       Strongly Agree\n",
       "\n",
       "[490 rows x 1 columns]"
      ]
     },
     "execution_count": 7,
     "metadata": {},
     "output_type": "execute_result"
    }
   ],
   "source": [
    "questionnaire.answers"
   ]
  }
 ],
 "metadata": {
  "kernelspec": {
   "display_name": ".env",
   "language": "python",
   "name": "python3"
  },
  "language_info": {
   "codemirror_mode": {
    "name": "ipython",
    "version": 3
   },
   "file_extension": ".py",
   "mimetype": "text/x-python",
   "name": "python",
   "nbconvert_exporter": "python",
   "pygments_lexer": "ipython3",
   "version": "3.12.2"
  }
 },
 "nbformat": 4,
 "nbformat_minor": 2
}
